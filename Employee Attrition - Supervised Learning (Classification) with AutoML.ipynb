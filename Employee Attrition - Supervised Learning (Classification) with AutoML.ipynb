{
 "cells": [
  {
   "cell_type": "code",
   "execution_count": 1,
   "id": "24a1e7b3-e3cd-4dd1-b171-62f8a27add0c",
   "metadata": {
    "scrolled": true
   },
   "outputs": [],
   "source": [
    "# Import necessary libraries\n",
    "import pandas as pd\n",
    "import numpy as np\n",
    "import matplotlib.pyplot as plt\n"
   ]
  },
  {
   "cell_type": "code",
   "execution_count": 2,
   "id": "19056f9a-474d-4d5c-8660-b1dd331eac9a",
   "metadata": {},
   "outputs": [
    {
     "name": "stdout",
     "output_type": "stream",
     "text": [
      "Requirement already satisfied: seaborn in c:\\users\\oladayo\\anaconda3\\envs\\pycaret-env\\lib\\site-packages (0.13.2)\n",
      "Requirement already satisfied: numpy!=1.24.0,>=1.20 in c:\\users\\oladayo\\anaconda3\\envs\\pycaret-env\\lib\\site-packages (from seaborn) (1.26.4)\n",
      "Requirement already satisfied: pandas>=1.2 in c:\\users\\oladayo\\anaconda3\\envs\\pycaret-env\\lib\\site-packages (from seaborn) (1.5.3)\n",
      "Requirement already satisfied: matplotlib!=3.6.1,>=3.4 in c:\\users\\oladayo\\anaconda3\\envs\\pycaret-env\\lib\\site-packages (from seaborn) (3.7.5)\n",
      "Requirement already satisfied: contourpy>=1.0.1 in c:\\users\\oladayo\\anaconda3\\envs\\pycaret-env\\lib\\site-packages (from matplotlib!=3.6.1,>=3.4->seaborn) (1.3.2)\n",
      "Requirement already satisfied: cycler>=0.10 in c:\\users\\oladayo\\anaconda3\\envs\\pycaret-env\\lib\\site-packages (from matplotlib!=3.6.1,>=3.4->seaborn) (0.12.1)\n",
      "Requirement already satisfied: fonttools>=4.22.0 in c:\\users\\oladayo\\anaconda3\\envs\\pycaret-env\\lib\\site-packages (from matplotlib!=3.6.1,>=3.4->seaborn) (4.59.0)\n",
      "Requirement already satisfied: kiwisolver>=1.0.1 in c:\\users\\oladayo\\anaconda3\\envs\\pycaret-env\\lib\\site-packages (from matplotlib!=3.6.1,>=3.4->seaborn) (1.4.8)\n",
      "Requirement already satisfied: packaging>=20.0 in c:\\users\\oladayo\\anaconda3\\envs\\pycaret-env\\lib\\site-packages (from matplotlib!=3.6.1,>=3.4->seaborn) (25.0)\n",
      "Requirement already satisfied: pillow>=6.2.0 in c:\\users\\oladayo\\anaconda3\\envs\\pycaret-env\\lib\\site-packages (from matplotlib!=3.6.1,>=3.4->seaborn) (11.3.0)\n",
      "Requirement already satisfied: pyparsing>=2.3.1 in c:\\users\\oladayo\\anaconda3\\envs\\pycaret-env\\lib\\site-packages (from matplotlib!=3.6.1,>=3.4->seaborn) (3.2.3)\n",
      "Requirement already satisfied: python-dateutil>=2.7 in c:\\users\\oladayo\\anaconda3\\envs\\pycaret-env\\lib\\site-packages (from matplotlib!=3.6.1,>=3.4->seaborn) (2.9.0.post0)\n",
      "Requirement already satisfied: pytz>=2020.1 in c:\\users\\oladayo\\anaconda3\\envs\\pycaret-env\\lib\\site-packages (from pandas>=1.2->seaborn) (2025.2)\n",
      "Requirement already satisfied: six>=1.5 in c:\\users\\oladayo\\anaconda3\\envs\\pycaret-env\\lib\\site-packages (from python-dateutil>=2.7->matplotlib!=3.6.1,>=3.4->seaborn) (1.17.0)\n"
     ]
    }
   ],
   "source": [
    "!pip install seaborn"
   ]
  },
  {
   "cell_type": "code",
   "execution_count": 3,
   "id": "b4143dd9-b12f-4cdf-abaf-838030cdc974",
   "metadata": {},
   "outputs": [],
   "source": [
    "import seaborn as sns"
   ]
  },
  {
   "cell_type": "markdown",
   "id": "5ac60e25-dde3-4999-8acd-1f3b92425ed7",
   "metadata": {},
   "source": [
    "#### Load the dataset"
   ]
  },
  {
   "cell_type": "code",
   "execution_count": 4,
   "id": "215ee54e-c194-44b3-9449-daddc82c7b78",
   "metadata": {},
   "outputs": [],
   "source": [
    "data = pd.read_csv(\"employee_attrition.csv\")"
   ]
  },
  {
   "cell_type": "code",
   "execution_count": null,
   "id": "22eca503-d4dd-434c-ad48-701d1fdda6a7",
   "metadata": {},
   "outputs": [],
   "source": []
  },
  {
   "cell_type": "code",
   "execution_count": 5,
   "id": "56cd12f8-82be-4a0c-ab60-450128cf4427",
   "metadata": {},
   "outputs": [
    {
     "data": {
      "text/html": [
       "<div>\n",
       "<style scoped>\n",
       "    .dataframe tbody tr th:only-of-type {\n",
       "        vertical-align: middle;\n",
       "    }\n",
       "\n",
       "    .dataframe tbody tr th {\n",
       "        vertical-align: top;\n",
       "    }\n",
       "\n",
       "    .dataframe thead th {\n",
       "        text-align: right;\n",
       "    }\n",
       "</style>\n",
       "<table border=\"1\" class=\"dataframe\">\n",
       "  <thead>\n",
       "    <tr style=\"text-align: right;\">\n",
       "      <th></th>\n",
       "      <th>EmployeeID</th>\n",
       "      <th>Age</th>\n",
       "      <th>Gender</th>\n",
       "      <th>Department</th>\n",
       "      <th>MonthlyIncome</th>\n",
       "      <th>YearsAtCompany</th>\n",
       "      <th>OverTime</th>\n",
       "      <th>JobSatisfaction</th>\n",
       "      <th>WorkLifeBalance</th>\n",
       "      <th>TrainingTimesLastYear</th>\n",
       "      <th>Attrition</th>\n",
       "    </tr>\n",
       "  </thead>\n",
       "  <tbody>\n",
       "    <tr>\n",
       "      <th>0</th>\n",
       "      <td>1</td>\n",
       "      <td>38.0</td>\n",
       "      <td>Male</td>\n",
       "      <td>HR</td>\n",
       "      <td>0.000000</td>\n",
       "      <td>0.40</td>\n",
       "      <td>No</td>\n",
       "      <td>2.0</td>\n",
       "      <td>3</td>\n",
       "      <td>0.5</td>\n",
       "      <td>No</td>\n",
       "    </tr>\n",
       "    <tr>\n",
       "      <th>1</th>\n",
       "      <td>2</td>\n",
       "      <td>33.0</td>\n",
       "      <td>Male</td>\n",
       "      <td>HR</td>\n",
       "      <td>0.075385</td>\n",
       "      <td>0.25</td>\n",
       "      <td>No</td>\n",
       "      <td>2.0</td>\n",
       "      <td>2</td>\n",
       "      <td>0.3</td>\n",
       "      <td>No</td>\n",
       "    </tr>\n",
       "    <tr>\n",
       "      <th>2</th>\n",
       "      <td>3</td>\n",
       "      <td>40.0</td>\n",
       "      <td>Female</td>\n",
       "      <td>Sales</td>\n",
       "      <td>0.136375</td>\n",
       "      <td>0.70</td>\n",
       "      <td>No</td>\n",
       "      <td>1.0</td>\n",
       "      <td>2</td>\n",
       "      <td>0.5</td>\n",
       "      <td>No</td>\n",
       "    </tr>\n",
       "    <tr>\n",
       "      <th>3</th>\n",
       "      <td>4</td>\n",
       "      <td>47.0</td>\n",
       "      <td>Male</td>\n",
       "      <td>HR</td>\n",
       "      <td>0.174409</td>\n",
       "      <td>0.60</td>\n",
       "      <td>No</td>\n",
       "      <td>3.0</td>\n",
       "      <td>3</td>\n",
       "      <td>0.2</td>\n",
       "      <td>No</td>\n",
       "    </tr>\n",
       "    <tr>\n",
       "      <th>4</th>\n",
       "      <td>5</td>\n",
       "      <td>33.0</td>\n",
       "      <td>Female</td>\n",
       "      <td>IT</td>\n",
       "      <td>0.153290</td>\n",
       "      <td>0.20</td>\n",
       "      <td>No</td>\n",
       "      <td>NaN</td>\n",
       "      <td>3</td>\n",
       "      <td>0.1</td>\n",
       "      <td>Yes</td>\n",
       "    </tr>\n",
       "  </tbody>\n",
       "</table>\n",
       "</div>"
      ],
      "text/plain": [
       "   EmployeeID   Age  Gender Department  MonthlyIncome  YearsAtCompany  \\\n",
       "0           1  38.0    Male         HR       0.000000            0.40   \n",
       "1           2  33.0    Male         HR       0.075385            0.25   \n",
       "2           3  40.0  Female      Sales       0.136375            0.70   \n",
       "3           4  47.0    Male         HR       0.174409            0.60   \n",
       "4           5  33.0  Female         IT       0.153290            0.20   \n",
       "\n",
       "  OverTime  JobSatisfaction  WorkLifeBalance  TrainingTimesLastYear Attrition  \n",
       "0       No              2.0                3                    0.5        No  \n",
       "1       No              2.0                2                    0.3        No  \n",
       "2       No              1.0                2                    0.5        No  \n",
       "3       No              3.0                3                    0.2        No  \n",
       "4       No              NaN                3                    0.1       Yes  "
      ]
     },
     "execution_count": 5,
     "metadata": {},
     "output_type": "execute_result"
    }
   ],
   "source": [
    "# Display the first few rows\n",
    "data.head()"
   ]
  },
  {
   "cell_type": "code",
   "execution_count": null,
   "id": "70aca251-5aab-486e-8d7e-9f8680ddf900",
   "metadata": {},
   "outputs": [],
   "source": []
  },
  {
   "cell_type": "code",
   "execution_count": 6,
   "id": "67195c1e-63f8-4dba-b720-382d36cf6ad1",
   "metadata": {},
   "outputs": [
    {
     "name": "stdout",
     "output_type": "stream",
     "text": [
      "<class 'pandas.core.frame.DataFrame'>\n",
      "RangeIndex: 8400 entries, 0 to 8399\n",
      "Data columns (total 11 columns):\n",
      " #   Column                 Non-Null Count  Dtype  \n",
      "---  ------                 --------------  -----  \n",
      " 0   EmployeeID             8400 non-null   int64  \n",
      " 1   Age                    7561 non-null   float64\n",
      " 2   Gender                 8400 non-null   object \n",
      " 3   Department             8400 non-null   object \n",
      " 4   MonthlyIncome          7556 non-null   float64\n",
      " 5   YearsAtCompany         8400 non-null   float64\n",
      " 6   OverTime               8400 non-null   object \n",
      " 7   JobSatisfaction        7567 non-null   float64\n",
      " 8   WorkLifeBalance        8400 non-null   int64  \n",
      " 9   TrainingTimesLastYear  8400 non-null   float64\n",
      " 10  Attrition              8400 non-null   object \n",
      "dtypes: float64(5), int64(2), object(4)\n",
      "memory usage: 722.0+ KB\n"
     ]
    }
   ],
   "source": [
    "data.info()"
   ]
  },
  {
   "cell_type": "code",
   "execution_count": null,
   "id": "2382e079-8475-4260-a8f5-873003c61e73",
   "metadata": {},
   "outputs": [],
   "source": []
  },
  {
   "cell_type": "code",
   "execution_count": 7,
   "id": "9808adab-fc5c-46e5-9996-6bea79c8f6de",
   "metadata": {},
   "outputs": [
    {
     "data": {
      "text/html": [
       "<div>\n",
       "<style scoped>\n",
       "    .dataframe tbody tr th:only-of-type {\n",
       "        vertical-align: middle;\n",
       "    }\n",
       "\n",
       "    .dataframe tbody tr th {\n",
       "        vertical-align: top;\n",
       "    }\n",
       "\n",
       "    .dataframe thead th {\n",
       "        text-align: right;\n",
       "    }\n",
       "</style>\n",
       "<table border=\"1\" class=\"dataframe\">\n",
       "  <thead>\n",
       "    <tr style=\"text-align: right;\">\n",
       "      <th></th>\n",
       "      <th>EmployeeID</th>\n",
       "      <th>Age</th>\n",
       "      <th>MonthlyIncome</th>\n",
       "      <th>YearsAtCompany</th>\n",
       "      <th>JobSatisfaction</th>\n",
       "      <th>WorkLifeBalance</th>\n",
       "      <th>TrainingTimesLastYear</th>\n",
       "    </tr>\n",
       "  </thead>\n",
       "  <tbody>\n",
       "    <tr>\n",
       "      <th>count</th>\n",
       "      <td>8400.000000</td>\n",
       "      <td>7561.000000</td>\n",
       "      <td>7556.000000</td>\n",
       "      <td>8400.000000</td>\n",
       "      <td>7567.000000</td>\n",
       "      <td>8400.000000</td>\n",
       "      <td>8400.000000</td>\n",
       "    </tr>\n",
       "    <tr>\n",
       "      <th>mean</th>\n",
       "      <td>3994.265952</td>\n",
       "      <td>34.657849</td>\n",
       "      <td>0.191155</td>\n",
       "      <td>0.296810</td>\n",
       "      <td>2.189771</td>\n",
       "      <td>2.543690</td>\n",
       "      <td>0.226202</td>\n",
       "    </tr>\n",
       "    <tr>\n",
       "      <th>std</th>\n",
       "      <td>2311.555446</td>\n",
       "      <td>7.633779</td>\n",
       "      <td>0.157068</td>\n",
       "      <td>0.204295</td>\n",
       "      <td>1.015183</td>\n",
       "      <td>0.982885</td>\n",
       "      <td>0.148470</td>\n",
       "    </tr>\n",
       "    <tr>\n",
       "      <th>min</th>\n",
       "      <td>1.000000</td>\n",
       "      <td>22.000000</td>\n",
       "      <td>0.000000</td>\n",
       "      <td>0.000000</td>\n",
       "      <td>1.000000</td>\n",
       "      <td>1.000000</td>\n",
       "      <td>0.000000</td>\n",
       "    </tr>\n",
       "    <tr>\n",
       "      <th>25%</th>\n",
       "      <td>1987.750000</td>\n",
       "      <td>29.000000</td>\n",
       "      <td>0.062035</td>\n",
       "      <td>0.150000</td>\n",
       "      <td>1.000000</td>\n",
       "      <td>2.000000</td>\n",
       "      <td>0.100000</td>\n",
       "    </tr>\n",
       "    <tr>\n",
       "      <th>50%</th>\n",
       "      <td>3990.500000</td>\n",
       "      <td>34.000000</td>\n",
       "      <td>0.167131</td>\n",
       "      <td>0.300000</td>\n",
       "      <td>2.000000</td>\n",
       "      <td>3.000000</td>\n",
       "      <td>0.200000</td>\n",
       "    </tr>\n",
       "    <tr>\n",
       "      <th>75%</th>\n",
       "      <td>6002.000000</td>\n",
       "      <td>40.000000</td>\n",
       "      <td>0.288324</td>\n",
       "      <td>0.450000</td>\n",
       "      <td>3.000000</td>\n",
       "      <td>3.000000</td>\n",
       "      <td>0.300000</td>\n",
       "    </tr>\n",
       "    <tr>\n",
       "      <th>max</th>\n",
       "      <td>8000.000000</td>\n",
       "      <td>60.000000</td>\n",
       "      <td>1.000000</td>\n",
       "      <td>1.000000</td>\n",
       "      <td>4.000000</td>\n",
       "      <td>4.000000</td>\n",
       "      <td>1.000000</td>\n",
       "    </tr>\n",
       "  </tbody>\n",
       "</table>\n",
       "</div>"
      ],
      "text/plain": [
       "        EmployeeID          Age  MonthlyIncome  YearsAtCompany  \\\n",
       "count  8400.000000  7561.000000    7556.000000     8400.000000   \n",
       "mean   3994.265952    34.657849       0.191155        0.296810   \n",
       "std    2311.555446     7.633779       0.157068        0.204295   \n",
       "min       1.000000    22.000000       0.000000        0.000000   \n",
       "25%    1987.750000    29.000000       0.062035        0.150000   \n",
       "50%    3990.500000    34.000000       0.167131        0.300000   \n",
       "75%    6002.000000    40.000000       0.288324        0.450000   \n",
       "max    8000.000000    60.000000       1.000000        1.000000   \n",
       "\n",
       "       JobSatisfaction  WorkLifeBalance  TrainingTimesLastYear  \n",
       "count      7567.000000      8400.000000            8400.000000  \n",
       "mean          2.189771         2.543690               0.226202  \n",
       "std           1.015183         0.982885               0.148470  \n",
       "min           1.000000         1.000000               0.000000  \n",
       "25%           1.000000         2.000000               0.100000  \n",
       "50%           2.000000         3.000000               0.200000  \n",
       "75%           3.000000         3.000000               0.300000  \n",
       "max           4.000000         4.000000               1.000000  "
      ]
     },
     "execution_count": 7,
     "metadata": {},
     "output_type": "execute_result"
    }
   ],
   "source": [
    "data.describe()"
   ]
  },
  {
   "cell_type": "code",
   "execution_count": null,
   "id": "4fd441a4-5747-4b3f-8f74-07115234be62",
   "metadata": {},
   "outputs": [],
   "source": []
  },
  {
   "cell_type": "markdown",
   "id": "baa2ec1f-4c57-4fbc-864d-eb0ca82eb3c5",
   "metadata": {},
   "source": [
    "### Remove irrelevant features"
   ]
  },
  {
   "cell_type": "code",
   "execution_count": 8,
   "id": "d1c996e4-958a-463f-8c89-f9c1e4e628c6",
   "metadata": {},
   "outputs": [],
   "source": [
    "data.drop(\"EmployeeID\", axis=1, inplace=True)"
   ]
  },
  {
   "cell_type": "markdown",
   "id": "c4a05e44-780d-439a-8d3c-56fff7e5a9c9",
   "metadata": {},
   "source": [
    "#### Handle Missing Values\n",
    "In this step, we check for missing values and decide on an appropriate imputation or removal strategy."
   ]
  },
  {
   "cell_type": "code",
   "execution_count": 9,
   "id": "984fb9e4-886d-4aef-bf3a-29b660c8d56e",
   "metadata": {},
   "outputs": [
    {
     "data": {
      "text/plain": [
       "Age                      839\n",
       "Gender                     0\n",
       "Department                 0\n",
       "MonthlyIncome            844\n",
       "YearsAtCompany             0\n",
       "OverTime                   0\n",
       "JobSatisfaction          833\n",
       "WorkLifeBalance            0\n",
       "TrainingTimesLastYear      0\n",
       "Attrition                  0\n",
       "dtype: int64"
      ]
     },
     "execution_count": 9,
     "metadata": {},
     "output_type": "execute_result"
    }
   ],
   "source": [
    "data.isnull().sum()"
   ]
  },
  {
   "cell_type": "code",
   "execution_count": 10,
   "id": "b5c54875-6997-4972-93ec-8d018c4363b2",
   "metadata": {},
   "outputs": [
    {
     "data": {
      "text/plain": [
       "Age                       9.988095\n",
       "Gender                    0.000000\n",
       "Department                0.000000\n",
       "MonthlyIncome            10.047619\n",
       "YearsAtCompany            0.000000\n",
       "OverTime                  0.000000\n",
       "JobSatisfaction           9.916667\n",
       "WorkLifeBalance           0.000000\n",
       "TrainingTimesLastYear     0.000000\n",
       "Attrition                 0.000000\n",
       "dtype: float64"
      ]
     },
     "execution_count": 10,
     "metadata": {},
     "output_type": "execute_result"
    }
   ],
   "source": [
    "# In percentage\n",
    "data.isnull().mean()*100"
   ]
  },
  {
   "cell_type": "code",
   "execution_count": null,
   "id": "56ecdd25-d429-403e-9062-8f2977865b54",
   "metadata": {},
   "outputs": [],
   "source": []
  },
  {
   "cell_type": "markdown",
   "id": "417c0368-b6f2-414c-a936-e6033c44a2a5",
   "metadata": {},
   "source": [
    "#### Lets visualize the missing values for easy communications with HR/Stakeholders"
   ]
  },
  {
   "cell_type": "code",
   "execution_count": 11,
   "id": "4f22fc5e-dadd-4b6d-ab91-44c259787fd6",
   "metadata": {},
   "outputs": [
    {
     "name": "stdout",
     "output_type": "stream",
     "text": [
      "Requirement already satisfied: missingno in c:\\users\\oladayo\\anaconda3\\envs\\pycaret-env\\lib\\site-packages (0.5.2)\n",
      "Requirement already satisfied: numpy in c:\\users\\oladayo\\anaconda3\\envs\\pycaret-env\\lib\\site-packages (from missingno) (1.26.4)\n",
      "Requirement already satisfied: matplotlib in c:\\users\\oladayo\\anaconda3\\envs\\pycaret-env\\lib\\site-packages (from missingno) (3.7.5)\n",
      "Requirement already satisfied: scipy in c:\\users\\oladayo\\anaconda3\\envs\\pycaret-env\\lib\\site-packages (from missingno) (1.11.4)\n",
      "Requirement already satisfied: seaborn in c:\\users\\oladayo\\anaconda3\\envs\\pycaret-env\\lib\\site-packages (from missingno) (0.13.2)\n",
      "Requirement already satisfied: contourpy>=1.0.1 in c:\\users\\oladayo\\anaconda3\\envs\\pycaret-env\\lib\\site-packages (from matplotlib->missingno) (1.3.2)\n",
      "Requirement already satisfied: cycler>=0.10 in c:\\users\\oladayo\\anaconda3\\envs\\pycaret-env\\lib\\site-packages (from matplotlib->missingno) (0.12.1)\n",
      "Requirement already satisfied: fonttools>=4.22.0 in c:\\users\\oladayo\\anaconda3\\envs\\pycaret-env\\lib\\site-packages (from matplotlib->missingno) (4.59.0)\n",
      "Requirement already satisfied: kiwisolver>=1.0.1 in c:\\users\\oladayo\\anaconda3\\envs\\pycaret-env\\lib\\site-packages (from matplotlib->missingno) (1.4.8)\n",
      "Requirement already satisfied: packaging>=20.0 in c:\\users\\oladayo\\anaconda3\\envs\\pycaret-env\\lib\\site-packages (from matplotlib->missingno) (25.0)\n",
      "Requirement already satisfied: pillow>=6.2.0 in c:\\users\\oladayo\\anaconda3\\envs\\pycaret-env\\lib\\site-packages (from matplotlib->missingno) (11.3.0)\n",
      "Requirement already satisfied: pyparsing>=2.3.1 in c:\\users\\oladayo\\anaconda3\\envs\\pycaret-env\\lib\\site-packages (from matplotlib->missingno) (3.2.3)\n",
      "Requirement already satisfied: python-dateutil>=2.7 in c:\\users\\oladayo\\anaconda3\\envs\\pycaret-env\\lib\\site-packages (from matplotlib->missingno) (2.9.0.post0)\n",
      "Requirement already satisfied: six>=1.5 in c:\\users\\oladayo\\anaconda3\\envs\\pycaret-env\\lib\\site-packages (from python-dateutil>=2.7->matplotlib->missingno) (1.17.0)\n",
      "Requirement already satisfied: pandas>=1.2 in c:\\users\\oladayo\\anaconda3\\envs\\pycaret-env\\lib\\site-packages (from seaborn->missingno) (1.5.3)\n",
      "Requirement already satisfied: pytz>=2020.1 in c:\\users\\oladayo\\anaconda3\\envs\\pycaret-env\\lib\\site-packages (from pandas>=1.2->seaborn->missingno) (2025.2)\n"
     ]
    },
    {
     "data": {
      "image/png": "[encoded data removed]",
      "text/plain": [
       "<Figure size 2500x1000 with 3 Axes>"
      ]
     },
     "metadata": {},
     "output_type": "display_data"
    }
   ],
   "source": [
    "!pip install missingno\n",
    "\n",
    "import missingno as msno   # shows missing number in a bar chart\n",
    "\n",
    "msno.bar(data, color='sandybrown');"
   ]
  },
  {
   "cell_type": "code",
   "execution_count": null,
   "id": "9584df6f-164b-47d1-8a2a-dee88f987787",
   "metadata": {},
   "outputs": [],
   "source": []
  },
  {
   "cell_type": "code",
   "execution_count": 12,
   "id": "f6b3a6fe-98e2-4771-b94b-94a5bbe585ea",
   "metadata": {},
   "outputs": [
    {
     "data": {
      "text/plain": [
       "<Axes: >"
      ]
     },
     "execution_count": 12,
     "metadata": {},
     "output_type": "execute_result"
    },
    {
     "data": {
      "image/png": "[encoded data removed]",
      "text/plain": [
       "<Figure size 640x480 with 2 Axes>"
      ]
     },
     "metadata": {},
     "output_type": "display_data"
    }
   ],
   "source": [
    "# Display columns with missing values\n",
    "sns.heatmap(data.isnull())"
   ]
  },
  {
   "cell_type": "code",
   "execution_count": null,
   "id": "fc2d1f3f-13a8-4e97-840e-4c43f74e12b3",
   "metadata": {},
   "outputs": [],
   "source": []
  },
  {
   "cell_type": "code",
   "execution_count": 13,
   "id": "404cf820-a386-42d5-a1a6-92af191103c2",
   "metadata": {},
   "outputs": [],
   "source": [
    "# Impute missing numerical values with median\n",
    "data['Age'] = data['Age'].fillna(data['Age'].median())\n",
    "data['MonthlyIncome'] = data['MonthlyIncome'].fillna(data['MonthlyIncome'].median())"
   ]
  },
  {
   "cell_type": "code",
   "execution_count": 14,
   "id": "d3dde048-5884-4200-843e-146887b9b551",
   "metadata": {},
   "outputs": [],
   "source": [
    "# Impute missing categorical values with mode\n",
    "# NB: Some modes come in numericals, but you still treat it as a categorical data, so its important to understand your business data very well\n",
    "data['JobSatisfaction'] = data['JobSatisfaction'].fillna(data['JobSatisfaction'].mode()[0])   \n",
    "# The o at the end of the code is because sometimes we have more than one mode\n",
    "# alternatively, data['JobSatisfaction'] = data['JobSatisfaction'].fillna(data['JobSatisfaction'].mode().iloc[0], inplace=True)"
   ]
  },
  {
   "cell_type": "code",
   "execution_count": null,
   "id": "6ef2c4aa-a46f-406d-a1fe-51ffad09129e",
   "metadata": {},
   "outputs": [],
   "source": []
  },
  {
   "cell_type": "code",
   "execution_count": 15,
   "id": "065a6851-b91a-4c27-b1d3-a826072c5136",
   "metadata": {},
   "outputs": [
    {
     "data": {
      "text/plain": [
       "Age                      0\n",
       "Gender                   0\n",
       "Department               0\n",
       "MonthlyIncome            0\n",
       "YearsAtCompany           0\n",
       "OverTime                 0\n",
       "JobSatisfaction          0\n",
       "WorkLifeBalance          0\n",
       "TrainingTimesLastYear    0\n",
       "Attrition                0\n",
       "dtype: int64"
      ]
     },
     "execution_count": 15,
     "metadata": {},
     "output_type": "execute_result"
    }
   ],
   "source": [
    "data.isnull().sum()"
   ]
  },
  {
   "cell_type": "markdown",
   "id": "d5bac2e0-2700-4eab-bd2e-2ce2510d1488",
   "metadata": {},
   "source": [
    "### Handling Duplicate Data\n",
    "Detect Duplicates"
   ]
  },
  {
   "cell_type": "code",
   "execution_count": 16,
   "id": "b76674f2-2c29-494b-b102-38b98744c513",
   "metadata": {},
   "outputs": [
    {
     "data": {
      "text/plain": [
       "408"
      ]
     },
     "execution_count": 16,
     "metadata": {},
     "output_type": "execute_result"
    }
   ],
   "source": [
    "# Check for duplicate rows\n",
    "data.duplicated().sum()"
   ]
  },
  {
   "cell_type": "code",
   "execution_count": 17,
   "id": "71cc6184-4134-46ff-9fa3-f37a255ceb08",
   "metadata": {},
   "outputs": [
    {
     "data": {
      "text/plain": [
       "8400"
      ]
     },
     "execution_count": 17,
     "metadata": {},
     "output_type": "execute_result"
    }
   ],
   "source": [
    "# confirm lenth of our data before removing duplicate\n",
    "len(data)"
   ]
  },
  {
   "cell_type": "markdown",
   "id": "30534695-8f5a-4dd8-8194-8182b59ab1cb",
   "metadata": {},
   "source": [
    "### Remove Duplicates\n"
   ]
  },
  {
   "cell_type": "code",
   "execution_count": 18,
   "id": "aef84830-8f56-4fb2-a7cd-53bd0daba71c",
   "metadata": {},
   "outputs": [],
   "source": [
    "# Remove duplicate rows\n",
    "data = data.drop_duplicates().reset_index(drop=True)"
   ]
  },
  {
   "cell_type": "code",
   "execution_count": 19,
   "id": "963aca9c-8193-4e54-b9e6-25521dc51844",
   "metadata": {},
   "outputs": [
    {
     "data": {
      "text/plain": [
       "7992"
      ]
     },
     "execution_count": 19,
     "metadata": {},
     "output_type": "execute_result"
    }
   ],
   "source": [
    "# re-confirm length of our data after removing duplicatelen(data)\n",
    "len(data)"
   ]
  },
  {
   "cell_type": "code",
   "execution_count": null,
   "id": "6f34875f-45e0-4140-9851-3be0fd8866c6",
   "metadata": {},
   "outputs": [],
   "source": []
  },
  {
   "cell_type": "markdown",
   "id": "79e0a0b7-4ec0-4d71-a3b9-7abe24235b2a",
   "metadata": {},
   "source": [
    "### Handle Outliers\n",
    "Check for outliers in numerical columns.\n",
    "Lets investigate the numerical columns for outliers by visualizing their distributions on histplot"
   ]
  },
  {
   "cell_type": "code",
   "execution_count": 20,
   "id": "e6c888e5-e4c6-4b23-b4e7-87fd3e8e45f8",
   "metadata": {},
   "outputs": [
    {
     "data": {
      "image/png": "[encoded data removed]",
      "text/plain": [
       "<Figure size 2000x2000 with 6 Axes>"
      ]
     },
     "metadata": {},
     "output_type": "display_data"
    }
   ],
   "source": [
    "numerical_columns = data.select_dtypes(include=\"number\")\n",
    "fig, ax = plt.subplots(nrows=3, ncols=2, figsize=(20, 20))\n",
    "ax=ax.flatten()\n",
    "for idx, col in enumerate(numerical_columns):\n",
    "    sns.histplot(data[col], ax=ax[idx])\n",
    "    ax[idx].set_title(f\"Histplot for {col}\")\n",
    "plt.show()"
   ]
  },
  {
   "cell_type": "code",
   "execution_count": null,
   "id": "14e20b53-4404-4cf6-b46c-2cbb6744d5db",
   "metadata": {},
   "outputs": [],
   "source": []
  },
  {
   "cell_type": "markdown",
   "id": "64350b32-af82-4c05-a552-8d9c16d0bcd9",
   "metadata": {},
   "source": [
    "#### Use of Boxplot to further confirm the outliers in numerical columns"
   ]
  },
  {
   "cell_type": "code",
   "execution_count": 21,
   "id": "9b0b179e-91ea-417b-87bf-a45d6ea295a6",
   "metadata": {},
   "outputs": [
    {
     "data": {
      "image/png": "[encoded data removed]",
      "text/plain": [
       "<Figure size 2000x2000 with 6 Axes>"
      ]
     },
     "metadata": {},
     "output_type": "display_data"
    }
   ],
   "source": [
    "fig, ax = plt.subplots(nrows=3, ncols=2, figsize=(20, 20))\n",
    "ax=ax.flatten()\n",
    "for idx, col in enumerate(numerical_columns):\n",
    "    sns.boxplot(data[col], ax=ax[idx])\n",
    "    ax[idx].set_title(f\"Boxplot for {col}\")\n",
    "plt.show()"
   ]
  },
  {
   "cell_type": "code",
   "execution_count": null,
   "id": "7e304fb2-cb20-4f51-8782-34f820108d3e",
   "metadata": {},
   "outputs": [],
   "source": []
  },
  {
   "cell_type": "code",
   "execution_count": null,
   "id": "96ad6d5b-2d68-4dfe-abc1-50b41faaf1d2",
   "metadata": {},
   "outputs": [],
   "source": []
  },
  {
   "cell_type": "markdown",
   "id": "228ca82f-94ba-4c6b-ac04-c6664034e31b",
   "metadata": {},
   "source": [
    "### Removing the outliers on affected columns using IQR"
   ]
  },
  {
   "cell_type": "code",
   "execution_count": 22,
   "id": "280e0021-8cd4-475e-aeae-c0b0e7978d36",
   "metadata": {},
   "outputs": [],
   "source": [
    "affected_column = [\"Age\", \"MonthlyIncome\", \"YearsAtCompany\", \"TrainingTimesLastYear\"]"
   ]
  },
  {
   "cell_type": "code",
   "execution_count": 23,
   "id": "2fe4d7b5-e6bd-4d6e-8f1a-79f2ccc48093",
   "metadata": {},
   "outputs": [],
   "source": [
    "q1 = data[affected_column].quantile(0.25)\n",
    "q3 = data[affected_column].quantile(0.75)"
   ]
  },
  {
   "cell_type": "code",
   "execution_count": 24,
   "id": "7b099b45-0756-4716-a086-bfe2a4073b62",
   "metadata": {},
   "outputs": [],
   "source": [
    "iqr = q3 - q1"
   ]
  },
  {
   "cell_type": "code",
   "execution_count": 25,
   "id": "13b1a874-8f07-4a7b-9c90-fb88b936222d",
   "metadata": {},
   "outputs": [],
   "source": [
    "lower_bound = q1 - (1.5 * iqr)\n",
    "upper_bound = q3 + (1.5 * iqr)"
   ]
  },
  {
   "cell_type": "code",
   "execution_count": 26,
   "id": "8b45803b-7cf0-4565-ba2d-6b132fe03cc0",
   "metadata": {},
   "outputs": [],
   "source": [
    "#Applying clip function, to force any value lower than lower bound to adopt lower bound value, and any value higher than \n",
    "#higher bound to adopt higher bound value.\n",
    "\n",
    "data[affected_column] = data[affected_column].clip(lower=lower_bound, upper=upper_bound, axis=1)"
   ]
  },
  {
   "cell_type": "markdown",
   "id": "af6454ab-768d-4b02-bad7-285e4201a7f9",
   "metadata": {},
   "source": [
    "### Verifying that our data is now outlier-free"
   ]
  },
  {
   "cell_type": "code",
   "execution_count": 27,
   "id": "a9cb2ccc-425f-40db-a767-2eeacf8be670",
   "metadata": {
    "scrolled": true
   },
   "outputs": [
    {
     "data": {
      "image/png": "[encoded data removed]",
      "text/plain": [
       "<Figure size 2000x2000 with 6 Axes>"
      ]
     },
     "metadata": {},
     "output_type": "display_data"
    }
   ],
   "source": [
    "fig, ax = plt.subplots(nrows=3, ncols=2, figsize=(20, 20))\n",
    "ax=ax.flatten()\n",
    "for idx, col in enumerate(numerical_columns):\n",
    "    sns.boxplot(data[col], ax=ax[idx])\n",
    "    ax[idx].set_title(f\"Boxplot for {col}\")\n",
    "plt.show()"
   ]
  },
  {
   "cell_type": "code",
   "execution_count": null,
   "id": "931e71ff-146f-4d2e-aece-5f3aebb159df",
   "metadata": {},
   "outputs": [],
   "source": []
  },
  {
   "cell_type": "code",
   "execution_count": null,
   "id": "c23d4cb7-c2c1-40ea-bbca-8ca4b656b195",
   "metadata": {},
   "outputs": [],
   "source": []
  },
  {
   "cell_type": "markdown",
   "id": "238f9c2b-b287-41ca-9c30-dca7e525d2b4",
   "metadata": {},
   "source": [
    "### Encode Categorical Variables\n",
    "Convert categorical variables like `Gender`, `Department`, and `OverTime` into numeric formats."
   ]
  },
  {
   "cell_type": "code",
   "execution_count": 28,
   "id": "c965ba70-5a0b-4282-bfc3-113352e066d0",
   "metadata": {},
   "outputs": [
    {
     "name": "stdout",
     "output_type": "stream",
     "text": [
      "Requirement already satisfied: scikit-learn in c:\\users\\oladayo\\anaconda3\\envs\\pycaret-env\\lib\\site-packages (1.4.2)\n",
      "Requirement already satisfied: numpy>=1.19.5 in c:\\users\\oladayo\\anaconda3\\envs\\pycaret-env\\lib\\site-packages (from scikit-learn) (1.26.4)\n",
      "Requirement already satisfied: scipy>=1.6.0 in c:\\users\\oladayo\\anaconda3\\envs\\pycaret-env\\lib\\site-packages (from scikit-learn) (1.11.4)\n",
      "Requirement already satisfied: joblib>=1.2.0 in c:\\users\\oladayo\\anaconda3\\envs\\pycaret-env\\lib\\site-packages (from scikit-learn) (1.3.2)\n",
      "Requirement already satisfied: threadpoolctl>=2.0.0 in c:\\users\\oladayo\\anaconda3\\envs\\pycaret-env\\lib\\site-packages (from scikit-learn) (3.6.0)\n"
     ]
    }
   ],
   "source": [
    "!pip install scikit-learn"
   ]
  },
  {
   "cell_type": "code",
   "execution_count": 29,
   "id": "721e574f-e69c-469e-9e33-c6cb700fcf9e",
   "metadata": {},
   "outputs": [],
   "source": [
    "from sklearn.preprocessing import LabelEncoder\n",
    "\n",
    "label_enc = LabelEncoder()"
   ]
  },
  {
   "cell_type": "code",
   "execution_count": 30,
   "id": "0f71b186-0b64-4ab0-82c9-d0bcee2eca1a",
   "metadata": {},
   "outputs": [
    {
     "data": {
      "text/plain": [
       "Female    4036\n",
       "Male      3956\n",
       "Name: Gender, dtype: int64"
      ]
     },
     "execution_count": 30,
     "metadata": {},
     "output_type": "execute_result"
    }
   ],
   "source": [
    "data['Gender'].value_counts()"
   ]
  },
  {
   "cell_type": "code",
   "execution_count": 33,
   "id": "00c174e7-5aff-48a7-86e7-eb80bd25cbb4",
   "metadata": {},
   "outputs": [],
   "source": [
    "# Label encoding for binary categories\n",
    "\n",
    "data['Gender'] = label_enc.fit_transform(data['Gender'])  \n",
    "data['OverTime'] = label_enc.fit_transform(data['OverTime'])\n",
    "data['Attrition'] = label_enc.fit_transform(data['Attrition'])"
   ]
  },
  {
   "cell_type": "code",
   "execution_count": 34,
   "id": "50c84686-1f43-49b8-b533-74a1c731e231",
   "metadata": {},
   "outputs": [],
   "source": [
    "# # One-hot encoding for multi-class categorical variables\n",
    "# data = pd.get_dummies(data, columns=['Department'], drop_first=True)\n",
    "data = pd.get_dummies(data, columns=['Department'], dtype=int)"
   ]
  },
  {
   "cell_type": "code",
   "execution_count": 35,
   "id": "b4616b65-088d-453f-b04e-3767f5bd2c36",
   "metadata": {},
   "outputs": [
    {
     "data": {
      "text/html": [
       "<div>\n",
       "<style scoped>\n",
       "    .dataframe tbody tr th:only-of-type {\n",
       "        vertical-align: middle;\n",
       "    }\n",
       "\n",
       "    .dataframe tbody tr th {\n",
       "        vertical-align: top;\n",
       "    }\n",
       "\n",
       "    .dataframe thead th {\n",
       "        text-align: right;\n",
       "    }\n",
       "</style>\n",
       "<table border=\"1\" class=\"dataframe\">\n",
       "  <thead>\n",
       "    <tr style=\"text-align: right;\">\n",
       "      <th></th>\n",
       "      <th>Age</th>\n",
       "      <th>Gender</th>\n",
       "      <th>MonthlyIncome</th>\n",
       "      <th>YearsAtCompany</th>\n",
       "      <th>OverTime</th>\n",
       "      <th>JobSatisfaction</th>\n",
       "      <th>WorkLifeBalance</th>\n",
       "      <th>TrainingTimesLastYear</th>\n",
       "      <th>Attrition</th>\n",
       "      <th>Department_Finance</th>\n",
       "      <th>Department_HR</th>\n",
       "      <th>Department_IT</th>\n",
       "      <th>Department_Operations</th>\n",
       "      <th>Department_Sales</th>\n",
       "    </tr>\n",
       "  </thead>\n",
       "  <tbody>\n",
       "    <tr>\n",
       "      <th>0</th>\n",
       "      <td>38.0</td>\n",
       "      <td>1</td>\n",
       "      <td>0.000000</td>\n",
       "      <td>0.40</td>\n",
       "      <td>0</td>\n",
       "      <td>2.0</td>\n",
       "      <td>3</td>\n",
       "      <td>0.5</td>\n",
       "      <td>0</td>\n",
       "      <td>0</td>\n",
       "      <td>1</td>\n",
       "      <td>0</td>\n",
       "      <td>0</td>\n",
       "      <td>0</td>\n",
       "    </tr>\n",
       "    <tr>\n",
       "      <th>1</th>\n",
       "      <td>33.0</td>\n",
       "      <td>1</td>\n",
       "      <td>0.075385</td>\n",
       "      <td>0.25</td>\n",
       "      <td>0</td>\n",
       "      <td>2.0</td>\n",
       "      <td>2</td>\n",
       "      <td>0.3</td>\n",
       "      <td>0</td>\n",
       "      <td>0</td>\n",
       "      <td>1</td>\n",
       "      <td>0</td>\n",
       "      <td>0</td>\n",
       "      <td>0</td>\n",
       "    </tr>\n",
       "    <tr>\n",
       "      <th>2</th>\n",
       "      <td>40.0</td>\n",
       "      <td>0</td>\n",
       "      <td>0.136375</td>\n",
       "      <td>0.70</td>\n",
       "      <td>0</td>\n",
       "      <td>1.0</td>\n",
       "      <td>2</td>\n",
       "      <td>0.5</td>\n",
       "      <td>0</td>\n",
       "      <td>0</td>\n",
       "      <td>0</td>\n",
       "      <td>0</td>\n",
       "      <td>0</td>\n",
       "      <td>1</td>\n",
       "    </tr>\n",
       "    <tr>\n",
       "      <th>3</th>\n",
       "      <td>47.0</td>\n",
       "      <td>1</td>\n",
       "      <td>0.174409</td>\n",
       "      <td>0.60</td>\n",
       "      <td>0</td>\n",
       "      <td>3.0</td>\n",
       "      <td>3</td>\n",
       "      <td>0.2</td>\n",
       "      <td>0</td>\n",
       "      <td>0</td>\n",
       "      <td>1</td>\n",
       "      <td>0</td>\n",
       "      <td>0</td>\n",
       "      <td>0</td>\n",
       "    </tr>\n",
       "    <tr>\n",
       "      <th>4</th>\n",
       "      <td>33.0</td>\n",
       "      <td>0</td>\n",
       "      <td>0.153290</td>\n",
       "      <td>0.20</td>\n",
       "      <td>0</td>\n",
       "      <td>1.0</td>\n",
       "      <td>3</td>\n",
       "      <td>0.1</td>\n",
       "      <td>1</td>\n",
       "      <td>0</td>\n",
       "      <td>0</td>\n",
       "      <td>1</td>\n",
       "      <td>0</td>\n",
       "      <td>0</td>\n",
       "    </tr>\n",
       "  </tbody>\n",
       "</table>\n",
       "</div>"
      ],
      "text/plain": [
       "    Age  Gender  MonthlyIncome  YearsAtCompany  OverTime  JobSatisfaction  \\\n",
       "0  38.0       1       0.000000            0.40         0              2.0   \n",
       "1  33.0       1       0.075385            0.25         0              2.0   \n",
       "2  40.0       0       0.136375            0.70         0              1.0   \n",
       "3  47.0       1       0.174409            0.60         0              3.0   \n",
       "4  33.0       0       0.153290            0.20         0              1.0   \n",
       "\n",
       "   WorkLifeBalance  TrainingTimesLastYear  Attrition  Department_Finance  \\\n",
       "0                3                    0.5          0                   0   \n",
       "1                2                    0.3          0                   0   \n",
       "2                2                    0.5          0                   0   \n",
       "3                3                    0.2          0                   0   \n",
       "4                3                    0.1          1                   0   \n",
       "\n",
       "   Department_HR  Department_IT  Department_Operations  Department_Sales  \n",
       "0              1              0                      0                 0  \n",
       "1              1              0                      0                 0  \n",
       "2              0              0                      0                 1  \n",
       "3              1              0                      0                 0  \n",
       "4              0              1                      0                 0  "
      ]
     },
     "execution_count": 35,
     "metadata": {},
     "output_type": "execute_result"
    }
   ],
   "source": [
    "# Display the transformed dataset\n",
    "data.head()"
   ]
  },
  {
   "cell_type": "code",
   "execution_count": null,
   "id": "2848c89e-8ccc-480c-ad95-1eb40bef7457",
   "metadata": {},
   "outputs": [],
   "source": []
  },
  {
   "cell_type": "markdown",
   "id": "3a7993c5-2b62-47b1-9b20-573cb7a33c10",
   "metadata": {},
   "source": [
    "##### Scaling numerical columns to bring them to a similar range, which can improve model performance. StandardScaler is used as our distribution is slightly skewed"
   ]
  },
  {
   "cell_type": "code",
   "execution_count": 36,
   "id": "fa9ab208-f965-4cf8-a002-ba6b5f43a317",
   "metadata": {},
   "outputs": [],
   "source": [
    "from sklearn.preprocessing import MinMaxScaler, StandardScaler"
   ]
  },
  {
   "cell_type": "code",
   "execution_count": 37,
   "id": "829ceb59-969e-4451-b3c8-9f8b41d63a70",
   "metadata": {},
   "outputs": [],
   "source": [
    "# Initialize Scaler"
   ]
  },
  {
   "cell_type": "code",
   "execution_count": 38,
   "id": "d0896351-86dc-450f-af5c-03be355a2173",
   "metadata": {},
   "outputs": [],
   "source": [
    "scaler = StandardScaler()\n",
    "num_cols_to_scale = ['Age', 'MonthlyIncome', 'YearsAtCompany', 'TrainingTimesLastYear']\n",
    "data[num_cols_to_scale] = scaler.fit_transform(data[num_cols_to_scale])"
   ]
  },
  {
   "cell_type": "code",
   "execution_count": 39,
   "id": "59ab661e-b11c-4d60-a14f-d61a9feb4346",
   "metadata": {},
   "outputs": [
    {
     "data": {
      "text/html": [
       "<div>\n",
       "<style scoped>\n",
       "    .dataframe tbody tr th:only-of-type {\n",
       "        vertical-align: middle;\n",
       "    }\n",
       "\n",
       "    .dataframe tbody tr th {\n",
       "        vertical-align: top;\n",
       "    }\n",
       "\n",
       "    .dataframe thead th {\n",
       "        text-align: right;\n",
       "    }\n",
       "</style>\n",
       "<table border=\"1\" class=\"dataframe\">\n",
       "  <thead>\n",
       "    <tr style=\"text-align: right;\">\n",
       "      <th></th>\n",
       "      <th>Age</th>\n",
       "      <th>Gender</th>\n",
       "      <th>MonthlyIncome</th>\n",
       "      <th>YearsAtCompany</th>\n",
       "      <th>OverTime</th>\n",
       "      <th>JobSatisfaction</th>\n",
       "      <th>WorkLifeBalance</th>\n",
       "      <th>TrainingTimesLastYear</th>\n",
       "      <th>Attrition</th>\n",
       "      <th>Department_Finance</th>\n",
       "      <th>Department_HR</th>\n",
       "      <th>Department_IT</th>\n",
       "      <th>Department_Operations</th>\n",
       "      <th>Department_Sales</th>\n",
       "    </tr>\n",
       "  </thead>\n",
       "  <tbody>\n",
       "    <tr>\n",
       "      <th>0</th>\n",
       "      <td>0.479168</td>\n",
       "      <td>1</td>\n",
       "      <td>-1.301722</td>\n",
       "      <td>0.503833</td>\n",
       "      <td>0</td>\n",
       "      <td>2.0</td>\n",
       "      <td>3</td>\n",
       "      <td>1.900458</td>\n",
       "      <td>0</td>\n",
       "      <td>0</td>\n",
       "      <td>1</td>\n",
       "      <td>0</td>\n",
       "      <td>0</td>\n",
       "      <td>0</td>\n",
       "    </tr>\n",
       "    <tr>\n",
       "      <th>1</th>\n",
       "      <td>-0.221194</td>\n",
       "      <td>1</td>\n",
       "      <td>-0.778837</td>\n",
       "      <td>-0.232387</td>\n",
       "      <td>0</td>\n",
       "      <td>2.0</td>\n",
       "      <td>2</td>\n",
       "      <td>0.519124</td>\n",
       "      <td>0</td>\n",
       "      <td>0</td>\n",
       "      <td>1</td>\n",
       "      <td>0</td>\n",
       "      <td>0</td>\n",
       "      <td>0</td>\n",
       "    </tr>\n",
       "    <tr>\n",
       "      <th>2</th>\n",
       "      <td>0.759312</td>\n",
       "      <td>0</td>\n",
       "      <td>-0.355796</td>\n",
       "      <td>1.976274</td>\n",
       "      <td>0</td>\n",
       "      <td>1.0</td>\n",
       "      <td>2</td>\n",
       "      <td>1.900458</td>\n",
       "      <td>0</td>\n",
       "      <td>0</td>\n",
       "      <td>0</td>\n",
       "      <td>0</td>\n",
       "      <td>0</td>\n",
       "      <td>1</td>\n",
       "    </tr>\n",
       "    <tr>\n",
       "      <th>3</th>\n",
       "      <td>1.739818</td>\n",
       "      <td>1</td>\n",
       "      <td>-0.091983</td>\n",
       "      <td>1.485460</td>\n",
       "      <td>0</td>\n",
       "      <td>3.0</td>\n",
       "      <td>3</td>\n",
       "      <td>-0.171543</td>\n",
       "      <td>0</td>\n",
       "      <td>0</td>\n",
       "      <td>1</td>\n",
       "      <td>0</td>\n",
       "      <td>0</td>\n",
       "      <td>0</td>\n",
       "    </tr>\n",
       "    <tr>\n",
       "      <th>4</th>\n",
       "      <td>-0.221194</td>\n",
       "      <td>0</td>\n",
       "      <td>-0.238470</td>\n",
       "      <td>-0.477794</td>\n",
       "      <td>0</td>\n",
       "      <td>1.0</td>\n",
       "      <td>3</td>\n",
       "      <td>-0.862210</td>\n",
       "      <td>1</td>\n",
       "      <td>0</td>\n",
       "      <td>0</td>\n",
       "      <td>1</td>\n",
       "      <td>0</td>\n",
       "      <td>0</td>\n",
       "    </tr>\n",
       "  </tbody>\n",
       "</table>\n",
       "</div>"
      ],
      "text/plain": [
       "        Age  Gender  MonthlyIncome  YearsAtCompany  OverTime  JobSatisfaction  \\\n",
       "0  0.479168       1      -1.301722        0.503833         0              2.0   \n",
       "1 -0.221194       1      -0.778837       -0.232387         0              2.0   \n",
       "2  0.759312       0      -0.355796        1.976274         0              1.0   \n",
       "3  1.739818       1      -0.091983        1.485460         0              3.0   \n",
       "4 -0.221194       0      -0.238470       -0.477794         0              1.0   \n",
       "\n",
       "   WorkLifeBalance  TrainingTimesLastYear  Attrition  Department_Finance  \\\n",
       "0                3               1.900458          0                   0   \n",
       "1                2               0.519124          0                   0   \n",
       "2                2               1.900458          0                   0   \n",
       "3                3              -0.171543          0                   0   \n",
       "4                3              -0.862210          1                   0   \n",
       "\n",
       "   Department_HR  Department_IT  Department_Operations  Department_Sales  \n",
       "0              1              0                      0                 0  \n",
       "1              1              0                      0                 0  \n",
       "2              0              0                      0                 1  \n",
       "3              1              0                      0                 0  \n",
       "4              0              1                      0                 0  "
      ]
     },
     "execution_count": 39,
     "metadata": {},
     "output_type": "execute_result"
    }
   ],
   "source": [
    "data.head()"
   ]
  },
  {
   "cell_type": "code",
   "execution_count": 40,
   "id": "88a70ba4-d03f-427b-a076-fed1d9eafadb",
   "metadata": {},
   "outputs": [
    {
     "name": "stdout",
     "output_type": "stream",
     "text": [
      "<class 'pandas.core.frame.DataFrame'>\n",
      "RangeIndex: 7992 entries, 0 to 7991\n",
      "Data columns (total 14 columns):\n",
      " #   Column                 Non-Null Count  Dtype  \n",
      "---  ------                 --------------  -----  \n",
      " 0   Age                    7992 non-null   float64\n",
      " 1   Gender                 7992 non-null   int32  \n",
      " 2   MonthlyIncome          7992 non-null   float64\n",
      " 3   YearsAtCompany         7992 non-null   float64\n",
      " 4   OverTime               7992 non-null   int32  \n",
      " 5   JobSatisfaction        7992 non-null   float64\n",
      " 6   WorkLifeBalance        7992 non-null   int64  \n",
      " 7   TrainingTimesLastYear  7992 non-null   float64\n",
      " 8   Attrition              7992 non-null   int32  \n",
      " 9   Department_Finance     7992 non-null   int32  \n",
      " 10  Department_HR          7992 non-null   int32  \n",
      " 11  Department_IT          7992 non-null   int32  \n",
      " 12  Department_Operations  7992 non-null   int32  \n",
      " 13  Department_Sales       7992 non-null   int32  \n",
      "dtypes: float64(5), int32(8), int64(1)\n",
      "memory usage: 624.5 KB\n"
     ]
    }
   ],
   "source": [
    "data.info()"
   ]
  },
  {
   "cell_type": "markdown",
   "id": "1dcbb773-05dc-484e-b3a1-5abe8c963b9a",
   "metadata": {},
   "source": [
    "##### Assessing the balance of the target variable `(Attrition)` to determine if we need to handle class imbalance."
   ]
  },
  {
   "cell_type": "code",
   "execution_count": 41,
   "id": "2179fd97-05f3-40f6-9bc7-da98313aaa0c",
   "metadata": {},
   "outputs": [
    {
     "data": {
      "text/plain": [
       "0    5957\n",
       "1    2035\n",
       "Name: Attrition, dtype: int64"
      ]
     },
     "execution_count": 41,
     "metadata": {},
     "output_type": "execute_result"
    }
   ],
   "source": [
    "# Check class distribution - Checking if we have a balanced or inbalanced dataset\n",
    "# In this case, our class (target) is not balanced\n",
    "data['Attrition'].value_counts()"
   ]
  },
  {
   "cell_type": "code",
   "execution_count": 42,
   "id": "fbacbc20-bdf6-47b3-8355-c357ec254aaf",
   "metadata": {},
   "outputs": [
    {
     "data": {
      "text/plain": [
       "0    74.537037\n",
       "1    25.462963\n",
       "Name: Attrition, dtype: float64"
      ]
     },
     "execution_count": 42,
     "metadata": {},
     "output_type": "execute_result"
    }
   ],
   "source": [
    "data['Attrition'].value_counts(normalize=True)*100"
   ]
  },
  {
   "cell_type": "code",
   "execution_count": 43,
   "id": "2c4d713a-f743-479e-8242-3bb192bb44c2",
   "metadata": {},
   "outputs": [
    {
     "data": {
      "text/plain": [
       "<Axes: xlabel='Attrition', ylabel='count'>"
      ]
     },
     "execution_count": 43,
     "metadata": {},
     "output_type": "execute_result"
    },
    {
     "data": {
      "image/png": "[encoded data removed]",
      "text/plain": [
       "<Figure size 640x480 with 1 Axes>"
      ]
     },
     "metadata": {},
     "output_type": "display_data"
    }
   ],
   "source": [
    "sns.countplot(x=data['Attrition'])"
   ]
  },
  {
   "cell_type": "code",
   "execution_count": null,
   "id": "e56f5c18-f374-4d21-bc39-603375de885a",
   "metadata": {},
   "outputs": [],
   "source": []
  },
  {
   "cell_type": "markdown",
   "id": "43df049f-1c2a-4a43-838a-ef2d567dd30a",
   "metadata": {},
   "source": [
    "### Handling Class Imbalance\n",
    "Oversampling with SMOTE"
   ]
  },
  {
   "cell_type": "code",
   "execution_count": 44,
   "id": "9da9a056-a690-475a-b10a-15384d6ddc3d",
   "metadata": {},
   "outputs": [
    {
     "name": "stdout",
     "output_type": "stream",
     "text": [
      "Requirement already satisfied: imbalanced-learn in c:\\users\\oladayo\\anaconda3\\envs\\pycaret-env\\lib\\site-packages (0.13.0)\n",
      "Requirement already satisfied: numpy<3,>=1.24.3 in c:\\users\\oladayo\\anaconda3\\envs\\pycaret-env\\lib\\site-packages (from imbalanced-learn) (1.26.4)\n",
      "Requirement already satisfied: scipy<2,>=1.10.1 in c:\\users\\oladayo\\anaconda3\\envs\\pycaret-env\\lib\\site-packages (from imbalanced-learn) (1.11.4)\n",
      "Requirement already satisfied: scikit-learn<2,>=1.3.2 in c:\\users\\oladayo\\anaconda3\\envs\\pycaret-env\\lib\\site-packages (from imbalanced-learn) (1.4.2)\n",
      "Requirement already satisfied: sklearn-compat<1,>=0.1 in c:\\users\\oladayo\\anaconda3\\envs\\pycaret-env\\lib\\site-packages (from imbalanced-learn) (0.1.3)\n",
      "Requirement already satisfied: joblib<2,>=1.1.1 in c:\\users\\oladayo\\anaconda3\\envs\\pycaret-env\\lib\\site-packages (from imbalanced-learn) (1.3.2)\n",
      "Requirement already satisfied: threadpoolctl<4,>=2.0.0 in c:\\users\\oladayo\\anaconda3\\envs\\pycaret-env\\lib\\site-packages (from imbalanced-learn) (3.6.0)\n"
     ]
    }
   ],
   "source": [
    "# pip install --upgrade imbalanced-learn\n",
    "!pip install imbalanced-learn"
   ]
  },
  {
   "cell_type": "code",
   "execution_count": 45,
   "id": "cc0aad0c-53f7-47fe-a347-2207edb53f80",
   "metadata": {},
   "outputs": [],
   "source": [
    "from imblearn.over_sampling import SMOTE"
   ]
  },
  {
   "cell_type": "code",
   "execution_count": 46,
   "id": "b147e591-7867-4f97-9eb2-f1677e5e4dd5",
   "metadata": {},
   "outputs": [],
   "source": [
    "# Separate features and target\n",
    "X = data.drop('Attrition', axis=1)\n",
    "y = data['Attrition']"
   ]
  },
  {
   "cell_type": "code",
   "execution_count": 47,
   "id": "66092b76-d3cf-4127-92dd-f31d2dc23011",
   "metadata": {},
   "outputs": [],
   "source": [
    "# Apply SMOTE to oversample the minority class\n",
    "smote = SMOTE(random_state=42)\n",
    "X_resampled, y_resampled = smote.fit_resample(X, y)"
   ]
  },
  {
   "cell_type": "code",
   "execution_count": 48,
   "id": "f7be1849-14c1-49a3-b58a-fc886ef4d0a6",
   "metadata": {},
   "outputs": [
    {
     "data": {
      "text/plain": [
       "0    5957\n",
       "1    5957\n",
       "Name: Attrition, dtype: int64"
      ]
     },
     "execution_count": 48,
     "metadata": {},
     "output_type": "execute_result"
    }
   ],
   "source": [
    "y_resampled.value_counts()"
   ]
  },
  {
   "cell_type": "code",
   "execution_count": 49,
   "id": "875e2bb2-46e8-4bff-933d-4c152f8c2e12",
   "metadata": {},
   "outputs": [
    {
     "data": {
      "text/plain": [
       "0    50.0\n",
       "1    50.0\n",
       "Name: Attrition, dtype: float64"
      ]
     },
     "execution_count": 49,
     "metadata": {},
     "output_type": "execute_result"
    }
   ],
   "source": [
    "y_resampled.value_counts(normalize=True)*100"
   ]
  },
  {
   "cell_type": "code",
   "execution_count": 50,
   "id": "320cbea8-7a1e-4495-87fd-7092c1117d32",
   "metadata": {},
   "outputs": [
    {
     "data": {
      "text/plain": [
       "<Axes: xlabel='Attrition', ylabel='count'>"
      ]
     },
     "execution_count": 50,
     "metadata": {},
     "output_type": "execute_result"
    },
    {
     "data": {
      "image/png": "[encoded data removed]",
      "text/plain": [
       "<Figure size 640x480 with 1 Axes>"
      ]
     },
     "metadata": {},
     "output_type": "display_data"
    }
   ],
   "source": [
    "sns.countplot(x=y_resampled)"
   ]
  },
  {
   "cell_type": "code",
   "execution_count": null,
   "id": "d6626af9-1521-44eb-9bbb-6a95a95298b7",
   "metadata": {},
   "outputs": [],
   "source": []
  },
  {
   "cell_type": "code",
   "execution_count": 51,
   "id": "360ef020-da07-4959-93fb-04ee551fbafa",
   "metadata": {},
   "outputs": [],
   "source": [
    "resampled_data = pd.DataFrame(X_resampled, columns=X.columns)"
   ]
  },
  {
   "cell_type": "code",
   "execution_count": 52,
   "id": "a5f94472-5988-42c2-8262-33adc7d48e3e",
   "metadata": {},
   "outputs": [
    {
     "data": {
      "text/html": [
       "<div>\n",
       "<style scoped>\n",
       "    .dataframe tbody tr th:only-of-type {\n",
       "        vertical-align: middle;\n",
       "    }\n",
       "\n",
       "    .dataframe tbody tr th {\n",
       "        vertical-align: top;\n",
       "    }\n",
       "\n",
       "    .dataframe thead th {\n",
       "        text-align: right;\n",
       "    }\n",
       "</style>\n",
       "<table border=\"1\" class=\"dataframe\">\n",
       "  <thead>\n",
       "    <tr style=\"text-align: right;\">\n",
       "      <th></th>\n",
       "      <th>Age</th>\n",
       "      <th>Gender</th>\n",
       "      <th>MonthlyIncome</th>\n",
       "      <th>YearsAtCompany</th>\n",
       "      <th>OverTime</th>\n",
       "      <th>JobSatisfaction</th>\n",
       "      <th>WorkLifeBalance</th>\n",
       "      <th>TrainingTimesLastYear</th>\n",
       "      <th>Department_Finance</th>\n",
       "      <th>Department_HR</th>\n",
       "      <th>Department_IT</th>\n",
       "      <th>Department_Operations</th>\n",
       "      <th>Department_Sales</th>\n",
       "    </tr>\n",
       "  </thead>\n",
       "  <tbody>\n",
       "    <tr>\n",
       "      <th>0</th>\n",
       "      <td>0.479168</td>\n",
       "      <td>1</td>\n",
       "      <td>-1.301722</td>\n",
       "      <td>0.503833</td>\n",
       "      <td>0</td>\n",
       "      <td>2.0</td>\n",
       "      <td>3</td>\n",
       "      <td>1.900458</td>\n",
       "      <td>0</td>\n",
       "      <td>1</td>\n",
       "      <td>0</td>\n",
       "      <td>0</td>\n",
       "      <td>0</td>\n",
       "    </tr>\n",
       "    <tr>\n",
       "      <th>1</th>\n",
       "      <td>-0.221194</td>\n",
       "      <td>1</td>\n",
       "      <td>-0.778837</td>\n",
       "      <td>-0.232387</td>\n",
       "      <td>0</td>\n",
       "      <td>2.0</td>\n",
       "      <td>2</td>\n",
       "      <td>0.519124</td>\n",
       "      <td>0</td>\n",
       "      <td>1</td>\n",
       "      <td>0</td>\n",
       "      <td>0</td>\n",
       "      <td>0</td>\n",
       "    </tr>\n",
       "    <tr>\n",
       "      <th>2</th>\n",
       "      <td>0.759312</td>\n",
       "      <td>0</td>\n",
       "      <td>-0.355796</td>\n",
       "      <td>1.976274</td>\n",
       "      <td>0</td>\n",
       "      <td>1.0</td>\n",
       "      <td>2</td>\n",
       "      <td>1.900458</td>\n",
       "      <td>0</td>\n",
       "      <td>0</td>\n",
       "      <td>0</td>\n",
       "      <td>0</td>\n",
       "      <td>1</td>\n",
       "    </tr>\n",
       "    <tr>\n",
       "      <th>3</th>\n",
       "      <td>1.739818</td>\n",
       "      <td>1</td>\n",
       "      <td>-0.091983</td>\n",
       "      <td>1.485460</td>\n",
       "      <td>0</td>\n",
       "      <td>3.0</td>\n",
       "      <td>3</td>\n",
       "      <td>-0.171543</td>\n",
       "      <td>0</td>\n",
       "      <td>1</td>\n",
       "      <td>0</td>\n",
       "      <td>0</td>\n",
       "      <td>0</td>\n",
       "    </tr>\n",
       "    <tr>\n",
       "      <th>4</th>\n",
       "      <td>-0.221194</td>\n",
       "      <td>0</td>\n",
       "      <td>-0.238470</td>\n",
       "      <td>-0.477794</td>\n",
       "      <td>0</td>\n",
       "      <td>1.0</td>\n",
       "      <td>3</td>\n",
       "      <td>-0.862210</td>\n",
       "      <td>0</td>\n",
       "      <td>0</td>\n",
       "      <td>1</td>\n",
       "      <td>0</td>\n",
       "      <td>0</td>\n",
       "    </tr>\n",
       "  </tbody>\n",
       "</table>\n",
       "</div>"
      ],
      "text/plain": [
       "        Age  Gender  MonthlyIncome  YearsAtCompany  OverTime  JobSatisfaction  \\\n",
       "0  0.479168       1      -1.301722        0.503833         0              2.0   \n",
       "1 -0.221194       1      -0.778837       -0.232387         0              2.0   \n",
       "2  0.759312       0      -0.355796        1.976274         0              1.0   \n",
       "3  1.739818       1      -0.091983        1.485460         0              3.0   \n",
       "4 -0.221194       0      -0.238470       -0.477794         0              1.0   \n",
       "\n",
       "   WorkLifeBalance  TrainingTimesLastYear  Department_Finance  Department_HR  \\\n",
       "0                3               1.900458                   0              1   \n",
       "1                2               0.519124                   0              1   \n",
       "2                2               1.900458                   0              0   \n",
       "3                3              -0.171543                   0              1   \n",
       "4                3              -0.862210                   0              0   \n",
       "\n",
       "   Department_IT  Department_Operations  Department_Sales  \n",
       "0              0                      0                 0  \n",
       "1              0                      0                 0  \n",
       "2              0                      0                 1  \n",
       "3              0                      0                 0  \n",
       "4              1                      0                 0  "
      ]
     },
     "execution_count": 52,
     "metadata": {},
     "output_type": "execute_result"
    }
   ],
   "source": [
    "resampled_data.head()"
   ]
  },
  {
   "cell_type": "code",
   "execution_count": 53,
   "id": "b4a7f589-76d9-493d-8464-fe357f42f5de",
   "metadata": {},
   "outputs": [],
   "source": [
    "resampled_data = resampled_data.assign(Attrition=y_resampled)"
   ]
  },
  {
   "cell_type": "code",
   "execution_count": 54,
   "id": "b206ce26-94d6-4a8e-b054-ff6bf35f0357",
   "metadata": {},
   "outputs": [
    {
     "data": {
      "text/html": [
       "<div>\n",
       "<style scoped>\n",
       "    .dataframe tbody tr th:only-of-type {\n",
       "        vertical-align: middle;\n",
       "    }\n",
       "\n",
       "    .dataframe tbody tr th {\n",
       "        vertical-align: top;\n",
       "    }\n",
       "\n",
       "    .dataframe thead th {\n",
       "        text-align: right;\n",
       "    }\n",
       "</style>\n",
       "<table border=\"1\" class=\"dataframe\">\n",
       "  <thead>\n",
       "    <tr style=\"text-align: right;\">\n",
       "      <th></th>\n",
       "      <th>Age</th>\n",
       "      <th>Gender</th>\n",
       "      <th>MonthlyIncome</th>\n",
       "      <th>YearsAtCompany</th>\n",
       "      <th>OverTime</th>\n",
       "      <th>JobSatisfaction</th>\n",
       "      <th>WorkLifeBalance</th>\n",
       "      <th>TrainingTimesLastYear</th>\n",
       "      <th>Department_Finance</th>\n",
       "      <th>Department_HR</th>\n",
       "      <th>Department_IT</th>\n",
       "      <th>Department_Operations</th>\n",
       "      <th>Department_Sales</th>\n",
       "      <th>Attrition</th>\n",
       "    </tr>\n",
       "  </thead>\n",
       "  <tbody>\n",
       "    <tr>\n",
       "      <th>0</th>\n",
       "      <td>0.479168</td>\n",
       "      <td>1</td>\n",
       "      <td>-1.301722</td>\n",
       "      <td>0.503833</td>\n",
       "      <td>0</td>\n",
       "      <td>2.0</td>\n",
       "      <td>3</td>\n",
       "      <td>1.900458</td>\n",
       "      <td>0</td>\n",
       "      <td>1</td>\n",
       "      <td>0</td>\n",
       "      <td>0</td>\n",
       "      <td>0</td>\n",
       "      <td>0</td>\n",
       "    </tr>\n",
       "    <tr>\n",
       "      <th>1</th>\n",
       "      <td>-0.221194</td>\n",
       "      <td>1</td>\n",
       "      <td>-0.778837</td>\n",
       "      <td>-0.232387</td>\n",
       "      <td>0</td>\n",
       "      <td>2.0</td>\n",
       "      <td>2</td>\n",
       "      <td>0.519124</td>\n",
       "      <td>0</td>\n",
       "      <td>1</td>\n",
       "      <td>0</td>\n",
       "      <td>0</td>\n",
       "      <td>0</td>\n",
       "      <td>0</td>\n",
       "    </tr>\n",
       "    <tr>\n",
       "      <th>2</th>\n",
       "      <td>0.759312</td>\n",
       "      <td>0</td>\n",
       "      <td>-0.355796</td>\n",
       "      <td>1.976274</td>\n",
       "      <td>0</td>\n",
       "      <td>1.0</td>\n",
       "      <td>2</td>\n",
       "      <td>1.900458</td>\n",
       "      <td>0</td>\n",
       "      <td>0</td>\n",
       "      <td>0</td>\n",
       "      <td>0</td>\n",
       "      <td>1</td>\n",
       "      <td>0</td>\n",
       "    </tr>\n",
       "    <tr>\n",
       "      <th>3</th>\n",
       "      <td>1.739818</td>\n",
       "      <td>1</td>\n",
       "      <td>-0.091983</td>\n",
       "      <td>1.485460</td>\n",
       "      <td>0</td>\n",
       "      <td>3.0</td>\n",
       "      <td>3</td>\n",
       "      <td>-0.171543</td>\n",
       "      <td>0</td>\n",
       "      <td>1</td>\n",
       "      <td>0</td>\n",
       "      <td>0</td>\n",
       "      <td>0</td>\n",
       "      <td>0</td>\n",
       "    </tr>\n",
       "    <tr>\n",
       "      <th>4</th>\n",
       "      <td>-0.221194</td>\n",
       "      <td>0</td>\n",
       "      <td>-0.238470</td>\n",
       "      <td>-0.477794</td>\n",
       "      <td>0</td>\n",
       "      <td>1.0</td>\n",
       "      <td>3</td>\n",
       "      <td>-0.862210</td>\n",
       "      <td>0</td>\n",
       "      <td>0</td>\n",
       "      <td>1</td>\n",
       "      <td>0</td>\n",
       "      <td>0</td>\n",
       "      <td>1</td>\n",
       "    </tr>\n",
       "  </tbody>\n",
       "</table>\n",
       "</div>"
      ],
      "text/plain": [
       "        Age  Gender  MonthlyIncome  YearsAtCompany  OverTime  JobSatisfaction  \\\n",
       "0  0.479168       1      -1.301722        0.503833         0              2.0   \n",
       "1 -0.221194       1      -0.778837       -0.232387         0              2.0   \n",
       "2  0.759312       0      -0.355796        1.976274         0              1.0   \n",
       "3  1.739818       1      -0.091983        1.485460         0              3.0   \n",
       "4 -0.221194       0      -0.238470       -0.477794         0              1.0   \n",
       "\n",
       "   WorkLifeBalance  TrainingTimesLastYear  Department_Finance  Department_HR  \\\n",
       "0                3               1.900458                   0              1   \n",
       "1                2               0.519124                   0              1   \n",
       "2                2               1.900458                   0              0   \n",
       "3                3              -0.171543                   0              1   \n",
       "4                3              -0.862210                   0              0   \n",
       "\n",
       "   Department_IT  Department_Operations  Department_Sales  Attrition  \n",
       "0              0                      0                 0          0  \n",
       "1              0                      0                 0          0  \n",
       "2              0                      0                 1          0  \n",
       "3              0                      0                 0          0  \n",
       "4              1                      0                 0          1  "
      ]
     },
     "execution_count": 54,
     "metadata": {},
     "output_type": "execute_result"
    }
   ],
   "source": [
    "resampled_data.head()"
   ]
  },
  {
   "cell_type": "code",
   "execution_count": null,
   "id": "80713292-679e-4f99-8e3b-dd3acdc307f0",
   "metadata": {},
   "outputs": [],
   "source": []
  },
  {
   "cell_type": "markdown",
   "id": "b22d624a-a871-42db-b2ce-ead8314b5737",
   "metadata": {},
   "source": [
    "##### Final dataset is clean and ready for the next step in the workflow."
   ]
  },
  {
   "cell_type": "code",
   "execution_count": 55,
   "id": "4e73c300-30e1-4622-9863-ba07d8fa09f0",
   "metadata": {},
   "outputs": [],
   "source": [
    "# Save the cleaned dataset for future use\n",
    "resampled_data.to_csv('cleaned_employee_attrition_balanced_corrected.csv', index=False)"
   ]
  },
  {
   "cell_type": "code",
   "execution_count": 56,
   "id": "2c02a51c-b0c5-4261-97e2-978fcf8b287c",
   "metadata": {},
   "outputs": [],
   "source": [
    "df = pd.read_csv('cleaned_employee_attrition_balanced_corrected.csv')"
   ]
  },
  {
   "cell_type": "code",
   "execution_count": 57,
   "id": "65618001-1a5b-4735-8541-d381393a136a",
   "metadata": {},
   "outputs": [
    {
     "data": {
      "text/plain": [
       "0    5957\n",
       "1    5957\n",
       "Name: Attrition, dtype: int64"
      ]
     },
     "execution_count": 57,
     "metadata": {},
     "output_type": "execute_result"
    }
   ],
   "source": [
    "df['Attrition'].value_counts()"
   ]
  },
  {
   "cell_type": "code",
   "execution_count": null,
   "id": "51fd107a-a5c6-42e7-a7a9-42c86b5e1c7d",
   "metadata": {},
   "outputs": [],
   "source": []
  },
  {
   "cell_type": "markdown",
   "id": "34c0865f-6e0a-47d8-9e2f-0b2951a822fb",
   "metadata": {},
   "source": [
    "### Data Splitting\n",
    "We’ll split the cleaned dataset into training and testing sets, ensuring the target variable’s distribution is representative in both."
   ]
  },
  {
   "cell_type": "code",
   "execution_count": 58,
   "id": "eb96166e-cf67-4ada-8401-e61de5e9284d",
   "metadata": {},
   "outputs": [],
   "source": [
    "from sklearn.model_selection import train_test_split"
   ]
  },
  {
   "cell_type": "code",
   "execution_count": 59,
   "id": "93093a9f-b39c-4f3f-8e30-b1cddec9c47c",
   "metadata": {},
   "outputs": [],
   "source": [
    "# Split the dataset (80% training, 20% testing)\n",
    "X_train, X_test, y_train, y_test = train_test_split(\n",
    "    X_resampled, y_resampled, test_size=0.2, random_state=42, stratify=y_resampled  # Stratify to maintain class proportions\n",
    ")"
   ]
  },
  {
   "cell_type": "code",
   "execution_count": 60,
   "id": "0bb2d30e-9881-473c-86ae-60aca655575e",
   "metadata": {},
   "outputs": [
    {
     "name": "stdout",
     "output_type": "stream",
     "text": [
      "Training set size: 9531\n",
      "Testing set size: 2383\n"
     ]
    }
   ],
   "source": [
    "print(\"Training set size:\", len(X_train))\n",
    "print(\"Testing set size:\", len(X_test))"
   ]
  },
  {
   "cell_type": "code",
   "execution_count": 61,
   "id": "92cc82cc-bf53-4fdc-b81e-1d0ff366aaa8",
   "metadata": {},
   "outputs": [
    {
     "data": {
      "text/plain": [
       "1    50.005246\n",
       "0    49.994754\n",
       "Name: Attrition, dtype: float64"
      ]
     },
     "execution_count": 61,
     "metadata": {},
     "output_type": "execute_result"
    }
   ],
   "source": [
    "# Proportion of Train set distribution\n",
    "y_train.value_counts(normalize=True)*100"
   ]
  },
  {
   "cell_type": "code",
   "execution_count": 62,
   "id": "5cf7d8a6-1f4e-405f-bc17-8c452621747d",
   "metadata": {},
   "outputs": [
    {
     "data": {
      "text/plain": [
       "1    0.500052\n",
       "0    0.499948\n",
       "Name: Attrition, dtype: float64"
      ]
     },
     "execution_count": 62,
     "metadata": {},
     "output_type": "execute_result"
    }
   ],
   "source": [
    "# Proportion of Train set distribution\n",
    "y_train.value_counts(normalize=True)"
   ]
  },
  {
   "cell_type": "code",
   "execution_count": 63,
   "id": "1bd295bb-23f1-4e81-8641-11c2c236181e",
   "metadata": {},
   "outputs": [
    {
     "data": {
      "text/plain": [
       "0    50.020982\n",
       "1    49.979018\n",
       "Name: Attrition, dtype: float64"
      ]
     },
     "execution_count": 63,
     "metadata": {},
     "output_type": "execute_result"
    }
   ],
   "source": [
    "# Proportion of Test set distribution\n",
    "y_test.value_counts(normalize=True)*100"
   ]
  },
  {
   "cell_type": "code",
   "execution_count": null,
   "id": "5dcb9cae-f896-44ef-9a0d-3553f42e7ea3",
   "metadata": {},
   "outputs": [],
   "source": []
  },
  {
   "cell_type": "markdown",
   "id": "13838d41-058e-40a5-9111-40cec598502b",
   "metadata": {},
   "source": [
    "### Model Selection\n",
    "Trying multiple classification models"
   ]
  },
  {
   "cell_type": "code",
   "execution_count": 75,
   "id": "2a28335d-5174-441d-b265-7698c91802a3",
   "metadata": {},
   "outputs": [],
   "source": [
    "from sklearn.linear_model import LogisticRegression\n",
    "from sklearn.metrics import classification_report, confusion_matrix\n",
    "from sklearn.ensemble import RandomForestClassifier, GradientBoostingClassifier, AdaBoostClassifier\n",
    "from sklearn.svm import SVC\n",
    "from sklearn.neighbors import KNeighborsClassifier\n",
    "from sklearn.tree import DecisionTreeClassifier  # DecisionTree = MultipleRandomForest"
   ]
  },
  {
   "cell_type": "code",
   "execution_count": 76,
   "id": "ae813bf0-ac75-48fe-971c-72c6038a694e",
   "metadata": {},
   "outputs": [
    {
     "name": "stdout",
     "output_type": "stream",
     "text": [
      "Requirement already satisfied: xgboost in c:\\users\\oladayo\\anaconda3\\envs\\pycaret-env\\lib\\site-packages (3.0.3)\n",
      "Requirement already satisfied: numpy in c:\\users\\oladayo\\anaconda3\\envs\\pycaret-env\\lib\\site-packages (from xgboost) (1.26.4)\n",
      "Requirement already satisfied: scipy in c:\\users\\oladayo\\anaconda3\\envs\\pycaret-env\\lib\\site-packages (from xgboost) (1.11.4)\n"
     ]
    }
   ],
   "source": [
    "# Another model that needs to be installed different from sklearn\n",
    "!pip install xgboost\n",
    "from xgboost import XGBClassifier"
   ]
  },
  {
   "cell_type": "code",
   "execution_count": null,
   "id": "131082fe-789f-4da2-929c-5758ef20d6f2",
   "metadata": {},
   "outputs": [],
   "source": []
  },
  {
   "cell_type": "code",
   "execution_count": 77,
   "id": "5cf8a92e-9445-4d47-adce-fd8d29e55878",
   "metadata": {},
   "outputs": [],
   "source": [
    "# Define the models\n",
    "# class_weights={0:1, 1:3}\n",
    "class_weights='balanced'\n",
    "models = {\n",
    "    'Logistic Regression': LogisticRegression(random_state=42, class_weight=class_weights),\n",
    "    'Random Forest': RandomForestClassifier(random_state=42, class_weight=class_weights),\n",
    "    'Support Vector Machine': SVC(random_state=42, class_weight=class_weights),\n",
    "    'k-Nearest Neighbors': KNeighborsClassifier(),\n",
    "    'Decision Tree': DecisionTreeClassifier(random_state=42, class_weight=class_weights),\n",
    "    'Gradient Boosting': GradientBoostingClassifier(random_state=42),\n",
    "    'AdaBoost': AdaBoostClassifier(random_state=42, algorithm=\"SAMME\"),\n",
    "    'XGBoost': XGBClassifier(eval_metric='mlogloss')\n",
    "}"
   ]
  },
  {
   "cell_type": "code",
   "execution_count": 78,
   "id": "cdbf16e9-afd2-44c1-9fd9-7087f5ce3607",
   "metadata": {},
   "outputs": [
    {
     "name": "stdout",
     "output_type": "stream",
     "text": [
      "Training Logistic Regression...\n",
      "Logistic Regression Classification Report:\n",
      "              precision    recall  f1-score   support\n",
      "\n",
      "           0       0.55      0.61      0.58      1192\n",
      "           1       0.57      0.50      0.53      1191\n",
      "\n",
      "    accuracy                           0.56      2383\n",
      "   macro avg       0.56      0.56      0.56      2383\n",
      "weighted avg       0.56      0.56      0.56      2383\n",
      "\n"
     ]
    },
    {
     "data": {
      "image/png": "[encoded data removed]",
      "text/plain": [
       "<Figure size 640x480 with 2 Axes>"
      ]
     },
     "metadata": {},
     "output_type": "display_data"
    },
    {
     "name": "stdout",
     "output_type": "stream",
     "text": [
      "Training Random Forest...\n",
      "Random Forest Classification Report:\n",
      "              precision    recall  f1-score   support\n",
      "\n",
      "           0       0.79      0.87      0.83      1192\n",
      "           1       0.86      0.77      0.81      1191\n",
      "\n",
      "    accuracy                           0.82      2383\n",
      "   macro avg       0.83      0.82      0.82      2383\n",
      "weighted avg       0.83      0.82      0.82      2383\n",
      "\n"
     ]
    },
    {
     "data": {
      "image/png": "[encoded data removed]",
      "text/plain": [
       "<Figure size 640x480 with 2 Axes>"
      ]
     },
     "metadata": {},
     "output_type": "display_data"
    },
    {
     "name": "stdout",
     "output_type": "stream",
     "text": [
      "Training Support Vector Machine...\n",
      "Support Vector Machine Classification Report:\n",
      "              precision    recall  f1-score   support\n",
      "\n",
      "           0       0.61      0.52      0.56      1192\n",
      "           1       0.58      0.66      0.62      1191\n",
      "\n",
      "    accuracy                           0.59      2383\n",
      "   macro avg       0.59      0.59      0.59      2383\n",
      "weighted avg       0.59      0.59      0.59      2383\n",
      "\n"
     ]
    },
    {
     "data": {
      "image/png": "[encoded data removed]",
      "text/plain": [
       "<Figure size 640x480 with 2 Axes>"
      ]
     },
     "metadata": {},
     "output_type": "display_data"
    },
    {
     "name": "stdout",
     "output_type": "stream",
     "text": [
      "Training k-Nearest Neighbors...\n",
      "k-Nearest Neighbors Classification Report:\n",
      "              precision    recall  f1-score   support\n",
      "\n",
      "           0       0.78      0.53      0.63      1192\n",
      "           1       0.65      0.85      0.73      1191\n",
      "\n",
      "    accuracy                           0.69      2383\n",
      "   macro avg       0.71      0.69      0.68      2383\n",
      "weighted avg       0.71      0.69      0.68      2383\n",
      "\n"
     ]
    },
    {
     "data": {
      "image/png": "[encoded data removed]",
      "text/plain": [
       "<Figure size 640x480 with 2 Axes>"
      ]
     },
     "metadata": {},
     "output_type": "display_data"
    },
    {
     "name": "stdout",
     "output_type": "stream",
     "text": [
      "Training Decision Tree...\n",
      "Decision Tree Classification Report:\n",
      "              precision    recall  f1-score   support\n",
      "\n",
      "           0       0.72      0.67      0.69      1192\n",
      "           1       0.69      0.74      0.71      1191\n",
      "\n",
      "    accuracy                           0.70      2383\n",
      "   macro avg       0.70      0.70      0.70      2383\n",
      "weighted avg       0.70      0.70      0.70      2383\n",
      "\n"
     ]
    },
    {
     "data": {
      "image/png": "[encoded data removed]",
      "text/plain": [
       "<Figure size 640x480 with 2 Axes>"
      ]
     },
     "metadata": {},
     "output_type": "display_data"
    },
    {
     "name": "stdout",
     "output_type": "stream",
     "text": [
      "Training Gradient Boosting...\n",
      "Gradient Boosting Classification Report:\n",
      "              precision    recall  f1-score   support\n",
      "\n",
      "           0       0.71      0.97      0.82      1192\n",
      "           1       0.95      0.60      0.74      1191\n",
      "\n",
      "    accuracy                           0.79      2383\n",
      "   macro avg       0.83      0.79      0.78      2383\n",
      "weighted avg       0.83      0.79      0.78      2383\n",
      "\n"
     ]
    },
    {
     "data": {
      "image/png": "[encoded data removed]",
      "text/plain": [
       "<Figure size 640x480 with 2 Axes>"
      ]
     },
     "metadata": {},
     "output_type": "display_data"
    },
    {
     "name": "stdout",
     "output_type": "stream",
     "text": [
      "Training AdaBoost...\n",
      "AdaBoost Classification Report:\n",
      "              precision    recall  f1-score   support\n",
      "\n",
      "           0       0.62      0.59      0.60      1192\n",
      "           1       0.61      0.64      0.62      1191\n",
      "\n",
      "    accuracy                           0.61      2383\n",
      "   macro avg       0.61      0.61      0.61      2383\n",
      "weighted avg       0.61      0.61      0.61      2383\n",
      "\n"
     ]
    },
    {
     "data": {
      "image/png": "[encoded data removed]",
      "text/plain": [
       "<Figure size 640x480 with 2 Axes>"
      ]
     },
     "metadata": {},
     "output_type": "display_data"
    },
    {
     "name": "stdout",
     "output_type": "stream",
     "text": [
      "Training XGBoost...\n",
      "XGBoost Classification Report:\n",
      "              precision    recall  f1-score   support\n",
      "\n",
      "           0       0.74      0.88      0.80      1192\n",
      "           1       0.85      0.69      0.76      1191\n",
      "\n",
      "    accuracy                           0.79      2383\n",
      "   macro avg       0.80      0.79      0.78      2383\n",
      "weighted avg       0.80      0.79      0.78      2383\n",
      "\n"
     ]
    },
    {
     "data": {
      "image/png": "[encoded data removed]",
      "text/plain": [
       "<Figure size 640x480 with 2 Axes>"
      ]
     },
     "metadata": {},
     "output_type": "display_data"
    }
   ],
   "source": [
    "from sklearn.metrics import classification_report, accuracy_score\n",
    "\n",
    "results = {}\n",
    "\n",
    "for model_name, model in models.items():\n",
    "    print(f\"Training {model_name}...\")\n",
    "\n",
    "    # Train the model\n",
    "    model.fit(X_train, y_train)\n",
    "    \n",
    "    # Make predictions\n",
    "    y_pred = model.predict(X_test)\n",
    "    \n",
    "    # Evaluate the model\n",
    "    accuracy = accuracy_score(y_test, y_pred)\n",
    "    report = classification_report(y_test, y_pred)\n",
    "    matrix = confusion_matrix(y_test, y_pred)\n",
    "    \n",
    "    # Store results\n",
    "    results[model_name] = {\n",
    "        'accuracy': accuracy,\n",
    "        'classification_report': report,\n",
    "        'confusion_matrix': matrix\n",
    "    }\n",
    "    # print(f\"{model_name} Accuracy: {accuracy:.4f}\")\n",
    "    print(f\"{model_name} Classification Report:\\n{report}\")\n",
    "\n",
    "    sns.heatmap(matrix, annot=True, fmt=\"g\")\n",
    "    plt.show()"
   ]
  },
  {
   "cell_type": "markdown",
   "id": "b66f9e01-bb62-4bee-a28d-bb1674a168c3",
   "metadata": {},
   "source": [
    "### Conclusion: \n",
    "\n",
    "#### Based on all the models above, Random Forest Model has the highest accuracy, so we will fine tune it for better optimization/ performance"
   ]
  },
  {
   "cell_type": "markdown",
   "id": "e4ba5ea0-a04b-4e73-a9d6-a60ecdcff3c9",
   "metadata": {},
   "source": [
    "### Hyperparameter Tuning\n",
    "using grid search to optimize hyperparameters for the Random Forest model."
   ]
  },
  {
   "cell_type": "code",
   "execution_count": 79,
   "id": "7f215e2f-5b3d-4186-ae66-fe6aad691ff3",
   "metadata": {},
   "outputs": [],
   "source": [
    "from sklearn.model_selection import GridSearchCV   # To cross validate"
   ]
  },
  {
   "cell_type": "code",
   "execution_count": 80,
   "id": "52301b8e-4f55-498d-a67e-437efc0850f4",
   "metadata": {},
   "outputs": [],
   "source": [
    "# Define parameter grid\n",
    "parameter_grid = {\n",
    "    'n_estimators': [50, 100, 200],\n",
    "    'max_depth': [None, 10, 20, 30],\n",
    "    'min_samples_split': [2, 5, 10],\n",
    "    'min_samples_leaf': [1, 2, 4]\n",
    "}"
   ]
  },
  {
   "cell_type": "code",
   "execution_count": 81,
   "id": "14f95468-37a1-4350-beec-f75fa873d678",
   "metadata": {},
   "outputs": [],
   "source": [
    "grid_search = GridSearchCV(\n",
    "    RandomForestClassifier(class_weight='balanced', random_state=42),\n",
    "    param_grid = parameter_grid, cv=5, scoring='f1', n_jobs=-1\n",
    ")"
   ]
  },
  {
   "cell_type": "code",
   "execution_count": 82,
   "id": "2535f5ec-738d-4456-b8de-99e22e762ae9",
   "metadata": {},
   "outputs": [
    {
     "data": {
      "text/html": [
       "<style>#sk-container-id-3 {\n",
       "  /* Definition of color scheme common for light and dark mode */\n",
       "  --sklearn-color-text: black;\n",
       "  --sklearn-color-line: gray;\n",
       "  /* Definition of color scheme for unfitted estimators */\n",
       "  --sklearn-color-unfitted-level-0: #fff5e6;\n",
       "  --sklearn-color-unfitted-level-1: #f6e4d2;\n",
       "  --sklearn-color-unfitted-level-2: #ffe0b3;\n",
       "  --sklearn-color-unfitted-level-3: chocolate;\n",
       "  /* Definition of color scheme for fitted estimators */\n",
       "  --sklearn-color-fitted-level-0: #f0f8ff;\n",
       "  --sklearn-color-fitted-level-1: #d4ebff;\n",
       "  --sklearn-color-fitted-level-2: #b3dbfd;\n",
       "  --sklearn-color-fitted-level-3: cornflowerblue;\n",
       "\n",
       "  /* Specific color for light theme */\n",
       "  --sklearn-color-text-on-default-background: var(--sg-text-color, var(--theme-code-foreground, var(--jp-content-font-color1, black)));\n",
       "  --sklearn-color-background: var(--sg-background-color, var(--theme-background, var(--jp-layout-color0, white)));\n",
       "  --sklearn-color-border-box: var(--sg-text-color, var(--theme-code-foreground, var(--jp-content-font-color1, black)));\n",
       "  --sklearn-color-icon: #696969;\n",
       "\n",
       "  @media (prefers-color-scheme: dark) {\n",
       "    /* Redefinition of color scheme for dark theme */\n",
       "    --sklearn-color-text-on-default-background: var(--sg-text-color, var(--theme-code-foreground, var(--jp-content-font-color1, white)));\n",
       "    --sklearn-color-background: var(--sg-background-color, var(--theme-background, var(--jp-layout-color0, #111)));\n",
       "    --sklearn-color-border-box: var(--sg-text-color, var(--theme-code-foreground, var(--jp-content-font-color1, white)));\n",
       "    --sklearn-color-icon: #878787;\n",
       "  }\n",
       "}\n",
       "\n",
       "#sk-container-id-3 {\n",
       "  color: var(--sklearn-color-text);\n",
       "}\n",
       "\n",
       "#sk-container-id-3 pre {\n",
       "  padding: 0;\n",
       "}\n",
       "\n",
       "#sk-container-id-3 input.sk-hidden--visually {\n",
       "  border: 0;\n",
       "  clip: rect(1px 1px 1px 1px);\n",
       "  clip: rect(1px, 1px, 1px, 1px);\n",
       "  height: 1px;\n",
       "  margin: -1px;\n",
       "  overflow: hidden;\n",
       "  padding: 0;\n",
       "  position: absolute;\n",
       "  width: 1px;\n",
       "}\n",
       "\n",
       "#sk-container-id-3 div.sk-dashed-wrapped {\n",
       "  border: 1px dashed var(--sklearn-color-line);\n",
       "  margin: 0 0.4em 0.5em 0.4em;\n",
       "  box-sizing: border-box;\n",
       "  padding-bottom: 0.4em;\n",
       "  background-color: var(--sklearn-color-background);\n",
       "}\n",
       "\n",
       "#sk-container-id-3 div.sk-container {\n",
       "  /* jupyter's `normalize.less` sets `[hidden] { display: none; }`\n",
       "     but bootstrap.min.css set `[hidden] { display: none !important; }`\n",
       "     so we also need the `!important` here to be able to override the\n",
       "     default hidden behavior on the sphinx rendered scikit-learn.org.\n",
       "     See: https://github.com/scikit-learn/scikit-learn/issues/21755 */\n",
       "  display: inline-block !important;\n",
       "  position: relative;\n",
       "}\n",
       "\n",
       "#sk-container-id-3 div.sk-text-repr-fallback {\n",
       "  display: none;\n",
       "}\n",
       "\n",
       "div.sk-parallel-item,\n",
       "div.sk-serial,\n",
       "div.sk-item {\n",
       "  /* draw centered vertical line to link estimators */\n",
       "  background-image: linear-gradient(var(--sklearn-color-text-on-default-background), var(--sklearn-color-text-on-default-background));\n",
       "  background-size: 2px 100%;\n",
       "  background-repeat: no-repeat;\n",
       "  background-position: center center;\n",
       "}\n",
       "\n",
       "/* Parallel-specific style estimator block */\n",
       "\n",
       "#sk-container-id-3 div.sk-parallel-item::after {\n",
       "  content: \"\";\n",
       "  width: 100%;\n",
       "  border-bottom: 2px solid var(--sklearn-color-text-on-default-background);\n",
       "  flex-grow: 1;\n",
       "}\n",
       "\n",
       "#sk-container-id-3 div.sk-parallel {\n",
       "  display: flex;\n",
       "  align-items: stretch;\n",
       "  justify-content: center;\n",
       "  background-color: var(--sklearn-color-background);\n",
       "  position: relative;\n",
       "}\n",
       "\n",
       "#sk-container-id-3 div.sk-parallel-item {\n",
       "  display: flex;\n",
       "  flex-direction: column;\n",
       "}\n",
       "\n",
       "#sk-container-id-3 div.sk-parallel-item:first-child::after {\n",
       "  align-self: flex-end;\n",
       "  width: 50%;\n",
       "}\n",
       "\n",
       "#sk-container-id-3 div.sk-parallel-item:last-child::after {\n",
       "  align-self: flex-start;\n",
       "  width: 50%;\n",
       "}\n",
       "\n",
       "#sk-container-id-3 div.sk-parallel-item:only-child::after {\n",
       "  width: 0;\n",
       "}\n",
       "\n",
       "/* Serial-specific style estimator block */\n",
       "\n",
       "#sk-container-id-3 div.sk-serial {\n",
       "  display: flex;\n",
       "  flex-direction: column;\n",
       "  align-items: center;\n",
       "  background-color: var(--sklearn-color-background);\n",
       "  padding-right: 1em;\n",
       "  padding-left: 1em;\n",
       "}\n",
       "\n",
       "\n",
       "/* Toggleable style: style used for estimator/Pipeline/ColumnTransformer box that is\n",
       "clickable and can be expanded/collapsed.\n",
       "- Pipeline and ColumnTransformer use this feature and define the default style\n",
       "- Estimators will overwrite some part of the style using the `sk-estimator` class\n",
       "*/\n",
       "\n",
       "/* Pipeline and ColumnTransformer style (default) */\n",
       "\n",
       "#sk-container-id-3 div.sk-toggleable {\n",
       "  /* Default theme specific background. It is overwritten whether we have a\n",
       "  specific estimator or a Pipeline/ColumnTransformer */\n",
       "  background-color: var(--sklearn-color-background);\n",
       "}\n",
       "\n",
       "/* Toggleable label */\n",
       "#sk-container-id-3 label.sk-toggleable__label {\n",
       "  cursor: pointer;\n",
       "  display: block;\n",
       "  width: 100%;\n",
       "  margin-bottom: 0;\n",
       "  padding: 0.5em;\n",
       "  box-sizing: border-box;\n",
       "  text-align: center;\n",
       "}\n",
       "\n",
       "#sk-container-id-3 label.sk-toggleable__label-arrow:before {\n",
       "  /* Arrow on the left of the label */\n",
       "  content: \"▸\";\n",
       "  float: left;\n",
       "  margin-right: 0.25em;\n",
       "  color: var(--sklearn-color-icon);\n",
       "}\n",
       "\n",
       "#sk-container-id-3 label.sk-toggleable__label-arrow:hover:before {\n",
       "  color: var(--sklearn-color-text);\n",
       "}\n",
       "\n",
       "/* Toggleable content - dropdown */\n",
       "\n",
       "#sk-container-id-3 div.sk-toggleable__content {\n",
       "  max-height: 0;\n",
       "  max-width: 0;\n",
       "  overflow: hidden;\n",
       "  text-align: left;\n",
       "  /* unfitted */\n",
       "  background-color: var(--sklearn-color-unfitted-level-0);\n",
       "}\n",
       "\n",
       "#sk-container-id-3 div.sk-toggleable__content.fitted {\n",
       "  /* fitted */\n",
       "  background-color: var(--sklearn-color-fitted-level-0);\n",
       "}\n",
       "\n",
       "#sk-container-id-3 div.sk-toggleable__content pre {\n",
       "  margin: 0.2em;\n",
       "  border-radius: 0.25em;\n",
       "  color: var(--sklearn-color-text);\n",
       "  /* unfitted */\n",
       "  background-color: var(--sklearn-color-unfitted-level-0);\n",
       "}\n",
       "\n",
       "#sk-container-id-3 div.sk-toggleable__content.fitted pre {\n",
       "  /* unfitted */\n",
       "  background-color: var(--sklearn-color-fitted-level-0);\n",
       "}\n",
       "\n",
       "#sk-container-id-3 input.sk-toggleable__control:checked~div.sk-toggleable__content {\n",
       "  /* Expand drop-down */\n",
       "  max-height: 200px;\n",
       "  max-width: 100%;\n",
       "  overflow: auto;\n",
       "}\n",
       "\n",
       "#sk-container-id-3 input.sk-toggleable__control:checked~label.sk-toggleable__label-arrow:before {\n",
       "  content: \"▾\";\n",
       "}\n",
       "\n",
       "/* Pipeline/ColumnTransformer-specific style */\n",
       "\n",
       "#sk-container-id-3 div.sk-label input.sk-toggleable__control:checked~label.sk-toggleable__label {\n",
       "  color: var(--sklearn-color-text);\n",
       "  background-color: var(--sklearn-color-unfitted-level-2);\n",
       "}\n",
       "\n",
       "#sk-container-id-3 div.sk-label.fitted input.sk-toggleable__control:checked~label.sk-toggleable__label {\n",
       "  background-color: var(--sklearn-color-fitted-level-2);\n",
       "}\n",
       "\n",
       "/* Estimator-specific style */\n",
       "\n",
       "/* Colorize estimator box */\n",
       "#sk-container-id-3 div.sk-estimator input.sk-toggleable__control:checked~label.sk-toggleable__label {\n",
       "  /* unfitted */\n",
       "  background-color: var(--sklearn-color-unfitted-level-2);\n",
       "}\n",
       "\n",
       "#sk-container-id-3 div.sk-estimator.fitted input.sk-toggleable__control:checked~label.sk-toggleable__label {\n",
       "  /* fitted */\n",
       "  background-color: var(--sklearn-color-fitted-level-2);\n",
       "}\n",
       "\n",
       "#sk-container-id-3 div.sk-label label.sk-toggleable__label,\n",
       "#sk-container-id-3 div.sk-label label {\n",
       "  /* The background is the default theme color */\n",
       "  color: var(--sklearn-color-text-on-default-background);\n",
       "}\n",
       "\n",
       "/* On hover, darken the color of the background */\n",
       "#sk-container-id-3 div.sk-label:hover label.sk-toggleable__label {\n",
       "  color: var(--sklearn-color-text);\n",
       "  background-color: var(--sklearn-color-unfitted-level-2);\n",
       "}\n",
       "\n",
       "/* Label box, darken color on hover, fitted */\n",
       "#sk-container-id-3 div.sk-label.fitted:hover label.sk-toggleable__label.fitted {\n",
       "  color: var(--sklearn-color-text);\n",
       "  background-color: var(--sklearn-color-fitted-level-2);\n",
       "}\n",
       "\n",
       "/* Estimator label */\n",
       "\n",
       "#sk-container-id-3 div.sk-label label {\n",
       "  font-family: monospace;\n",
       "  font-weight: bold;\n",
       "  display: inline-block;\n",
       "  line-height: 1.2em;\n",
       "}\n",
       "\n",
       "#sk-container-id-3 div.sk-label-container {\n",
       "  text-align: center;\n",
       "}\n",
       "\n",
       "/* Estimator-specific */\n",
       "#sk-container-id-3 div.sk-estimator {\n",
       "  font-family: monospace;\n",
       "  border: 1px dotted var(--sklearn-color-border-box);\n",
       "  border-radius: 0.25em;\n",
       "  box-sizing: border-box;\n",
       "  margin-bottom: 0.5em;\n",
       "  /* unfitted */\n",
       "  background-color: var(--sklearn-color-unfitted-level-0);\n",
       "}\n",
       "\n",
       "#sk-container-id-3 div.sk-estimator.fitted {\n",
       "  /* fitted */\n",
       "  background-color: var(--sklearn-color-fitted-level-0);\n",
       "}\n",
       "\n",
       "/* on hover */\n",
       "#sk-container-id-3 div.sk-estimator:hover {\n",
       "  /* unfitted */\n",
       "  background-color: var(--sklearn-color-unfitted-level-2);\n",
       "}\n",
       "\n",
       "#sk-container-id-3 div.sk-estimator.fitted:hover {\n",
       "  /* fitted */\n",
       "  background-color: var(--sklearn-color-fitted-level-2);\n",
       "}\n",
       "\n",
       "/* Specification for estimator info (e.g. \"i\" and \"?\") */\n",
       "\n",
       "/* Common style for \"i\" and \"?\" */\n",
       "\n",
       ".sk-estimator-doc-link,\n",
       "a:link.sk-estimator-doc-link,\n",
       "a:visited.sk-estimator-doc-link {\n",
       "  float: right;\n",
       "  font-size: smaller;\n",
       "  line-height: 1em;\n",
       "  font-family: monospace;\n",
       "  background-color: var(--sklearn-color-background);\n",
       "  border-radius: 1em;\n",
       "  height: 1em;\n",
       "  width: 1em;\n",
       "  text-decoration: none !important;\n",
       "  margin-left: 1ex;\n",
       "  /* unfitted */\n",
       "  border: var(--sklearn-color-unfitted-level-1) 1pt solid;\n",
       "  color: var(--sklearn-color-unfitted-level-1);\n",
       "}\n",
       "\n",
       ".sk-estimator-doc-link.fitted,\n",
       "a:link.sk-estimator-doc-link.fitted,\n",
       "a:visited.sk-estimator-doc-link.fitted {\n",
       "  /* fitted */\n",
       "  border: var(--sklearn-color-fitted-level-1) 1pt solid;\n",
       "  color: var(--sklearn-color-fitted-level-1);\n",
       "}\n",
       "\n",
       "/* On hover */\n",
       "div.sk-estimator:hover .sk-estimator-doc-link:hover,\n",
       ".sk-estimator-doc-link:hover,\n",
       "div.sk-label-container:hover .sk-estimator-doc-link:hover,\n",
       ".sk-estimator-doc-link:hover {\n",
       "  /* unfitted */\n",
       "  background-color: var(--sklearn-color-unfitted-level-3);\n",
       "  color: var(--sklearn-color-background);\n",
       "  text-decoration: none;\n",
       "}\n",
       "\n",
       "div.sk-estimator.fitted:hover .sk-estimator-doc-link.fitted:hover,\n",
       ".sk-estimator-doc-link.fitted:hover,\n",
       "div.sk-label-container:hover .sk-estimator-doc-link.fitted:hover,\n",
       ".sk-estimator-doc-link.fitted:hover {\n",
       "  /* fitted */\n",
       "  background-color: var(--sklearn-color-fitted-level-3);\n",
       "  color: var(--sklearn-color-background);\n",
       "  text-decoration: none;\n",
       "}\n",
       "\n",
       "/* Span, style for the box shown on hovering the info icon */\n",
       ".sk-estimator-doc-link span {\n",
       "  display: none;\n",
       "  z-index: 9999;\n",
       "  position: relative;\n",
       "  font-weight: normal;\n",
       "  right: .2ex;\n",
       "  padding: .5ex;\n",
       "  margin: .5ex;\n",
       "  width: min-content;\n",
       "  min-width: 20ex;\n",
       "  max-width: 50ex;\n",
       "  color: var(--sklearn-color-text);\n",
       "  box-shadow: 2pt 2pt 4pt #999;\n",
       "  /* unfitted */\n",
       "  background: var(--sklearn-color-unfitted-level-0);\n",
       "  border: .5pt solid var(--sklearn-color-unfitted-level-3);\n",
       "}\n",
       "\n",
       ".sk-estimator-doc-link.fitted span {\n",
       "  /* fitted */\n",
       "  background: var(--sklearn-color-fitted-level-0);\n",
       "  border: var(--sklearn-color-fitted-level-3);\n",
       "}\n",
       "\n",
       ".sk-estimator-doc-link:hover span {\n",
       "  display: block;\n",
       "}\n",
       "\n",
       "/* \"?\"-specific style due to the `<a>` HTML tag */\n",
       "\n",
       "#sk-container-id-3 a.estimator_doc_link {\n",
       "  float: right;\n",
       "  font-size: 1rem;\n",
       "  line-height: 1em;\n",
       "  font-family: monospace;\n",
       "  background-color: var(--sklearn-color-background);\n",
       "  border-radius: 1rem;\n",
       "  height: 1rem;\n",
       "  width: 1rem;\n",
       "  text-decoration: none;\n",
       "  /* unfitted */\n",
       "  color: var(--sklearn-color-unfitted-level-1);\n",
       "  border: var(--sklearn-color-unfitted-level-1) 1pt solid;\n",
       "}\n",
       "\n",
       "#sk-container-id-3 a.estimator_doc_link.fitted {\n",
       "  /* fitted */\n",
       "  border: var(--sklearn-color-fitted-level-1) 1pt solid;\n",
       "  color: var(--sklearn-color-fitted-level-1);\n",
       "}\n",
       "\n",
       "/* On hover */\n",
       "#sk-container-id-3 a.estimator_doc_link:hover {\n",
       "  /* unfitted */\n",
       "  background-color: var(--sklearn-color-unfitted-level-3);\n",
       "  color: var(--sklearn-color-background);\n",
       "  text-decoration: none;\n",
       "}\n",
       "\n",
       "#sk-container-id-3 a.estimator_doc_link.fitted:hover {\n",
       "  /* fitted */\n",
       "  background-color: var(--sklearn-color-fitted-level-3);\n",
       "}\n",
       "</style><div id=\"sk-container-id-3\" class=\"sk-top-container\"><div class=\"sk-text-repr-fallback\"><pre>GridSearchCV(cv=5,\n",
       "             estimator=RandomForestClassifier(class_weight=&#x27;balanced&#x27;,\n",
       "                                              random_state=42),\n",
       "             n_jobs=-1,\n",
       "             param_grid={&#x27;max_depth&#x27;: [None, 10, 20, 30],\n",
       "                         &#x27;min_samples_leaf&#x27;: [1, 2, 4],\n",
       "                         &#x27;min_samples_split&#x27;: [2, 5, 10],\n",
       "                         &#x27;n_estimators&#x27;: [50, 100, 200]},\n",
       "             scoring=&#x27;f1&#x27;)</pre><b>In a Jupyter environment, please rerun this cell to show the HTML representation or trust the notebook. <br />On GitHub, the HTML representation is unable to render, please try loading this page with nbviewer.org.</b></div><div class=\"sk-container\" hidden><div class=\"sk-item sk-dashed-wrapped\"><div class=\"sk-label-container\"><div class=\"sk-label fitted sk-toggleable\"><input class=\"sk-toggleable__control sk-hidden--visually\" id=\"sk-estimator-id-3\" type=\"checkbox\" ><label for=\"sk-estimator-id-3\" class=\"sk-toggleable__label fitted sk-toggleable__label-arrow fitted\">&nbsp;&nbsp;GridSearchCV<a class=\"sk-estimator-doc-link fitted\" rel=\"noreferrer\" target=\"_blank\" href=\"https://scikit-learn.org/1.4/modules/generated/sklearn.model_selection.GridSearchCV.html\">?<span>Documentation for GridSearchCV</span></a><span class=\"sk-estimator-doc-link fitted\">i<span>Fitted</span></span></label><div class=\"sk-toggleable__content fitted\"><pre>GridSearchCV(cv=5,\n",
       "             estimator=RandomForestClassifier(class_weight=&#x27;balanced&#x27;,\n",
       "                                              random_state=42),\n",
       "             n_jobs=-1,\n",
       "             param_grid={&#x27;max_depth&#x27;: [None, 10, 20, 30],\n",
       "                         &#x27;min_samples_leaf&#x27;: [1, 2, 4],\n",
       "                         &#x27;min_samples_split&#x27;: [2, 5, 10],\n",
       "                         &#x27;n_estimators&#x27;: [50, 100, 200]},\n",
       "             scoring=&#x27;f1&#x27;)</pre></div> </div></div><div class=\"sk-parallel\"><div class=\"sk-parallel-item\"><div class=\"sk-item\"><div class=\"sk-label-container\"><div class=\"sk-label fitted sk-toggleable\"><input class=\"sk-toggleable__control sk-hidden--visually\" id=\"sk-estimator-id-4\" type=\"checkbox\" ><label for=\"sk-estimator-id-4\" class=\"sk-toggleable__label fitted sk-toggleable__label-arrow fitted\">estimator: RandomForestClassifier</label><div class=\"sk-toggleable__content fitted\"><pre>RandomForestClassifier(class_weight=&#x27;balanced&#x27;, random_state=42)</pre></div> </div></div><div class=\"sk-serial\"><div class=\"sk-item\"><div class=\"sk-estimator fitted sk-toggleable\"><input class=\"sk-toggleable__control sk-hidden--visually\" id=\"sk-estimator-id-5\" type=\"checkbox\" ><label for=\"sk-estimator-id-5\" class=\"sk-toggleable__label fitted sk-toggleable__label-arrow fitted\">&nbsp;RandomForestClassifier<a class=\"sk-estimator-doc-link fitted\" rel=\"noreferrer\" target=\"_blank\" href=\"https://scikit-learn.org/1.4/modules/generated/sklearn.ensemble.RandomForestClassifier.html\">?<span>Documentation for RandomForestClassifier</span></a></label><div class=\"sk-toggleable__content fitted\"><pre>RandomForestClassifier(class_weight=&#x27;balanced&#x27;, random_state=42)</pre></div> </div></div></div></div></div></div></div></div></div>"
      ],
      "text/plain": [
       "GridSearchCV(cv=5,\n",
       "             estimator=RandomForestClassifier(class_weight='balanced',\n",
       "                                              random_state=42),\n",
       "             n_jobs=-1,\n",
       "             param_grid={'max_depth': [None, 10, 20, 30],\n",
       "                         'min_samples_leaf': [1, 2, 4],\n",
       "                         'min_samples_split': [2, 5, 10],\n",
       "                         'n_estimators': [50, 100, 200]},\n",
       "             scoring='f1')"
      ]
     },
     "execution_count": 82,
     "metadata": {},
     "output_type": "execute_result"
    }
   ],
   "source": [
    "grid_search.fit(X_train, y_train)"
   ]
  },
  {
   "cell_type": "code",
   "execution_count": 83,
   "id": "15fd08bc-47c3-46a9-991a-d0661d7c6b6f",
   "metadata": {},
   "outputs": [
    {
     "name": "stdout",
     "output_type": "stream",
     "text": [
      "Best Hyperparameters: {'max_depth': 30, 'min_samples_leaf': 1, 'min_samples_split': 2, 'n_estimators': 200}\n"
     ]
    }
   ],
   "source": [
    "# Best parameters\n",
    "print(f\"Best Hyperparameters: {grid_search.best_params_}\")"
   ]
  },
  {
   "cell_type": "code",
   "execution_count": 84,
   "id": "4f08588a-a50e-44ab-af1c-a6ea320c15ad",
   "metadata": {},
   "outputs": [],
   "source": [
    "# Train best model\n",
    "best_rf = grid_search.best_estimator_"
   ]
  },
  {
   "cell_type": "code",
   "execution_count": 85,
   "id": "e05af676-a309-4568-ad8e-032546fcd4e4",
   "metadata": {},
   "outputs": [],
   "source": [
    "# Predict on the test set\n",
    "y_pred_best_rf = best_rf.predict(X_test)"
   ]
  },
  {
   "cell_type": "code",
   "execution_count": 86,
   "id": "150cd5c5-f1a6-4e63-829b-70e6bcb59bec",
   "metadata": {},
   "outputs": [
    {
     "name": "stdout",
     "output_type": "stream",
     "text": [
      "Tuned Random Forest Classification Report:\n",
      "\n",
      "              precision    recall  f1-score   support\n",
      "\n",
      "           0       0.80      0.87      0.83      1192\n",
      "           1       0.86      0.78      0.82      1191\n",
      "\n",
      "    accuracy                           0.83      2383\n",
      "   macro avg       0.83      0.83      0.83      2383\n",
      "weighted avg       0.83      0.83      0.83      2383\n",
      "\n"
     ]
    }
   ],
   "source": [
    "# Evaluate performance\n",
    "print(\"Tuned Random Forest Classification Report:\\n\")\n",
    "report = classification_report(y_test, y_pred_best_rf)\n",
    "print(report)"
   ]
  },
  {
   "cell_type": "code",
   "execution_count": null,
   "id": "69b3d8ed-cab8-4e15-87d7-e3bed9d2fb1f",
   "metadata": {},
   "outputs": [],
   "source": []
  },
  {
   "cell_type": "code",
   "execution_count": null,
   "id": "a39c16ac-bb3d-4ded-9d75-fc14b79218b2",
   "metadata": {},
   "outputs": [],
   "source": []
  },
  {
   "cell_type": "markdown",
   "id": "e584777d-f048-43c0-932b-0d4f38a8e205",
   "metadata": {},
   "source": [
    "### Model Evaluation\n",
    "\n",
    "I performED a detailed evaluation using metrics like precision, recall, F1-score, and ROC-AUC. \n",
    "\n",
    "Also Confusion matrix and AUC curve to visualize performance."
   ]
  },
  {
   "cell_type": "code",
   "execution_count": null,
   "id": "fe7f3f30-3889-4cef-8510-1d26af9b7571",
   "metadata": {},
   "outputs": [],
   "source": []
  },
  {
   "cell_type": "markdown",
   "id": "63960d1a-49c5-4368-8d00-5573ff76e261",
   "metadata": {},
   "source": [
    "#### Confusion Matrix"
   ]
  },
  {
   "cell_type": "code",
   "execution_count": 87,
   "id": "0059c54d-7553-4e9b-add4-72c210e9fd55",
   "metadata": {},
   "outputs": [],
   "source": [
    "from sklearn.metrics import confusion_matrix"
   ]
  },
  {
   "cell_type": "code",
   "execution_count": 88,
   "id": "85a570be-9a91-4d60-81d3-ba83d5cdaf0b",
   "metadata": {},
   "outputs": [],
   "source": [
    "conf_matrix = confusion_matrix(y_test, y_pred_best_rf)"
   ]
  },
  {
   "cell_type": "code",
   "execution_count": 89,
   "id": "2f504639-9e9a-4b32-8a72-e762bc6b64d8",
   "metadata": {},
   "outputs": [
    {
     "data": {
      "image/png": "[encoded data removed]",
      "text/plain": [
       "<Figure size 800x400 with 2 Axes>"
      ]
     },
     "metadata": {},
     "output_type": "display_data"
    }
   ],
   "source": [
    "# Plot the confusion matrix\n",
    "plt.figure(figsize=(8, 4))\n",
    "sns.heatmap(conf_matrix, annot=True, fmt='d', cmap='Blues', xticklabels=['No', 'Yes'], yticklabels=['No', 'Yes'])\n",
    "plt.title(\"Confusion Matrix\")\n",
    "plt.xlabel(\"Predicted\")\n",
    "plt.ylabel(\"Actual\")\n",
    "plt.show()\n"
   ]
  },
  {
   "cell_type": "code",
   "execution_count": null,
   "id": "048cb814-5aa6-4192-9fe1-19385a222ab8",
   "metadata": {},
   "outputs": [],
   "source": []
  },
  {
   "cell_type": "markdown",
   "id": "520fb288-f442-445d-bc38-4e7eec44ad3c",
   "metadata": {},
   "source": [
    "#### ROC Curve and AUC Score"
   ]
  },
  {
   "cell_type": "code",
   "execution_count": 90,
   "id": "aa1ebd2c-970b-4fc7-a68c-755888bd433e",
   "metadata": {},
   "outputs": [],
   "source": [
    "from sklearn.metrics import roc_curve, roc_auc_score"
   ]
  },
  {
   "cell_type": "code",
   "execution_count": 91,
   "id": "7e94a59b-bf75-47d6-8c14-cd9152ca9973",
   "metadata": {},
   "outputs": [],
   "source": [
    "# Compute probabilities for ROC\n",
    "y_probs = best_rf.predict_proba(X_test)[:, 1]  # Probabilities for the positive class"
   ]
  },
  {
   "cell_type": "code",
   "execution_count": 92,
   "id": "c8247154-c15f-4e64-8721-4fa1dc3ea143",
   "metadata": {},
   "outputs": [],
   "source": [
    "# ROC curve\n",
    "fpr, tpr, thresholds = roc_curve(y_test, y_probs)\n",
    "auc_score = roc_auc_score(y_test, y_probs)     # fpr = first positive rate, tpr= true positive rate"
   ]
  },
  {
   "cell_type": "code",
   "execution_count": 93,
   "id": "9ab0d802-1be4-4111-b375-371588fa092c",
   "metadata": {},
   "outputs": [
    {
     "data": {
      "image/png": "[encoded data removed]",
      "text/plain": [
       "<Figure size 800x600 with 1 Axes>"
      ]
     },
     "metadata": {},
     "output_type": "display_data"
    }
   ],
   "source": [
    "# Plot ROC curve\n",
    "plt.figure(figsize=(8, 6))\n",
    "plt.plot(fpr, tpr, label=f\"AUC = {auc_score:.2f}\")\n",
    "plt.plot([0, 1], [0, 1], linestyle='--', color='gray')\n",
    "plt.title(\"ROC Curve\")\n",
    "plt.xlabel(\"False Positive Rate\")\n",
    "plt.ylabel(\"True Positive Rate\")\n",
    "plt.legend(loc=\"lower right\")\n",
    "plt.show()"
   ]
  },
  {
   "cell_type": "code",
   "execution_count": null,
   "id": "6b6fff31-6e32-4e44-9823-f5918030419d",
   "metadata": {},
   "outputs": [],
   "source": []
  },
  {
   "cell_type": "markdown",
   "id": "368d1370-4477-43fb-9025-9ff39b520d2c",
   "metadata": {},
   "source": [
    "### Using AutoML to select best model"
   ]
  },
  {
   "cell_type": "markdown",
   "id": "89bfbe0a-e1cc-455b-b2a9-7d6d9e17ce82",
   "metadata": {},
   "source": [
    "#### Using PyCaret"
   ]
  },
  {
   "cell_type": "code",
   "execution_count": 94,
   "id": "421d20e5-6c94-48ec-9ab0-c75d3928f187",
   "metadata": {},
   "outputs": [],
   "source": [
    "# pip install pycaret\n",
    "# !pip install ---- upgrade pip\n",
    "# !pip install pycaret"
   ]
  },
  {
   "cell_type": "code",
   "execution_count": 95,
   "id": "beb998fe-173e-4cac-9547-7f6bfe2809b6",
   "metadata": {},
   "outputs": [],
   "source": [
    "#!pip install scikit-learn==1.4 - #This must be installed first before pycaret, an alternaive to pycaret"
   ]
  },
  {
   "cell_type": "code",
   "execution_count": 96,
   "id": "81261772-1bfc-4df7-ab2e-fd3b850ce6ca",
   "metadata": {},
   "outputs": [],
   "source": [
    "from pycaret.classification import *              # * means import everything"
   ]
  },
  {
   "cell_type": "code",
   "execution_count": 97,
   "id": "075a8fbf-bc1b-4e6f-a789-bce970c93732",
   "metadata": {},
   "outputs": [],
   "source": [
    "# Combine features and target into one DataFrame\n",
    "# df = pd.concat([X, y], axis=1)\n",
    "df = pd.concat([X_resampled, y_resampled], axis=1)\n"
   ]
  },
  {
   "cell_type": "code",
   "execution_count": 98,
   "id": "796f8f5a-4d5c-49ff-893e-0fb9404efd5d",
   "metadata": {},
   "outputs": [
    {
     "data": {
      "text/html": [
       "<div>\n",
       "<style scoped>\n",
       "    .dataframe tbody tr th:only-of-type {\n",
       "        vertical-align: middle;\n",
       "    }\n",
       "\n",
       "    .dataframe tbody tr th {\n",
       "        vertical-align: top;\n",
       "    }\n",
       "\n",
       "    .dataframe thead th {\n",
       "        text-align: right;\n",
       "    }\n",
       "</style>\n",
       "<table border=\"1\" class=\"dataframe\">\n",
       "  <thead>\n",
       "    <tr style=\"text-align: right;\">\n",
       "      <th></th>\n",
       "      <th>Age</th>\n",
       "      <th>Gender</th>\n",
       "      <th>MonthlyIncome</th>\n",
       "      <th>YearsAtCompany</th>\n",
       "      <th>OverTime</th>\n",
       "      <th>JobSatisfaction</th>\n",
       "      <th>WorkLifeBalance</th>\n",
       "      <th>TrainingTimesLastYear</th>\n",
       "      <th>Department_Finance</th>\n",
       "      <th>Department_HR</th>\n",
       "      <th>Department_IT</th>\n",
       "      <th>Department_Operations</th>\n",
       "      <th>Department_Sales</th>\n",
       "      <th>Attrition</th>\n",
       "    </tr>\n",
       "  </thead>\n",
       "  <tbody>\n",
       "    <tr>\n",
       "      <th>0</th>\n",
       "      <td>0.479168</td>\n",
       "      <td>1</td>\n",
       "      <td>-1.301722</td>\n",
       "      <td>0.503833</td>\n",
       "      <td>0</td>\n",
       "      <td>2.0</td>\n",
       "      <td>3</td>\n",
       "      <td>1.900458</td>\n",
       "      <td>0</td>\n",
       "      <td>1</td>\n",
       "      <td>0</td>\n",
       "      <td>0</td>\n",
       "      <td>0</td>\n",
       "      <td>0</td>\n",
       "    </tr>\n",
       "    <tr>\n",
       "      <th>1</th>\n",
       "      <td>-0.221194</td>\n",
       "      <td>1</td>\n",
       "      <td>-0.778837</td>\n",
       "      <td>-0.232387</td>\n",
       "      <td>0</td>\n",
       "      <td>2.0</td>\n",
       "      <td>2</td>\n",
       "      <td>0.519124</td>\n",
       "      <td>0</td>\n",
       "      <td>1</td>\n",
       "      <td>0</td>\n",
       "      <td>0</td>\n",
       "      <td>0</td>\n",
       "      <td>0</td>\n",
       "    </tr>\n",
       "  </tbody>\n",
       "</table>\n",
       "</div>"
      ],
      "text/plain": [
       "        Age  Gender  MonthlyIncome  YearsAtCompany  OverTime  JobSatisfaction  \\\n",
       "0  0.479168       1      -1.301722        0.503833         0              2.0   \n",
       "1 -0.221194       1      -0.778837       -0.232387         0              2.0   \n",
       "\n",
       "   WorkLifeBalance  TrainingTimesLastYear  Department_Finance  Department_HR  \\\n",
       "0                3               1.900458                   0              1   \n",
       "1                2               0.519124                   0              1   \n",
       "\n",
       "   Department_IT  Department_Operations  Department_Sales  Attrition  \n",
       "0              0                      0                 0          0  \n",
       "1              0                      0                 0          0  "
      ]
     },
     "execution_count": 98,
     "metadata": {},
     "output_type": "execute_result"
    }
   ],
   "source": [
    "df.head(2)"
   ]
  },
  {
   "cell_type": "code",
   "execution_count": 99,
   "id": "2f20ac7b-f8a6-4d2f-a568-c2aff6d24664",
   "metadata": {},
   "outputs": [
    {
     "data": {
      "text/html": [
       "<style type=\"text/css\">\n",
       "#T_44437_row8_col1, #T_44437_row12_col1 {\n",
       "  background-color: lightgreen;\n",
       "}\n",
       "</style>\n",
       "<table id=\"T_44437\">\n",
       "  <thead>\n",
       "    <tr>\n",
       "      <th class=\"blank level0\" >&nbsp;</th>\n",
       "      <th id=\"T_44437_level0_col0\" class=\"col_heading level0 col0\" >Description</th>\n",
       "      <th id=\"T_44437_level0_col1\" class=\"col_heading level0 col1\" >Value</th>\n",
       "    </tr>\n",
       "  </thead>\n",
       "  <tbody>\n",
       "    <tr>\n",
       "      <th id=\"T_44437_level0_row0\" class=\"row_heading level0 row0\" >0</th>\n",
       "      <td id=\"T_44437_row0_col0\" class=\"data row0 col0\" >Session id</td>\n",
       "      <td id=\"T_44437_row0_col1\" class=\"data row0 col1\" >42</td>\n",
       "    </tr>\n",
       "    <tr>\n",
       "      <th id=\"T_44437_level0_row1\" class=\"row_heading level0 row1\" >1</th>\n",
       "      <td id=\"T_44437_row1_col0\" class=\"data row1 col0\" >Target</td>\n",
       "      <td id=\"T_44437_row1_col1\" class=\"data row1 col1\" >Attrition</td>\n",
       "    </tr>\n",
       "    <tr>\n",
       "      <th id=\"T_44437_level0_row2\" class=\"row_heading level0 row2\" >2</th>\n",
       "      <td id=\"T_44437_row2_col0\" class=\"data row2 col0\" >Target type</td>\n",
       "      <td id=\"T_44437_row2_col1\" class=\"data row2 col1\" >Binary</td>\n",
       "    </tr>\n",
       "    <tr>\n",
       "      <th id=\"T_44437_level0_row3\" class=\"row_heading level0 row3\" >3</th>\n",
       "      <td id=\"T_44437_row3_col0\" class=\"data row3 col0\" >Original data shape</td>\n",
       "      <td id=\"T_44437_row3_col1\" class=\"data row3 col1\" >(11914, 14)</td>\n",
       "    </tr>\n",
       "    <tr>\n",
       "      <th id=\"T_44437_level0_row4\" class=\"row_heading level0 row4\" >4</th>\n",
       "      <td id=\"T_44437_row4_col0\" class=\"data row4 col0\" >Transformed data shape</td>\n",
       "      <td id=\"T_44437_row4_col1\" class=\"data row4 col1\" >(11914, 14)</td>\n",
       "    </tr>\n",
       "    <tr>\n",
       "      <th id=\"T_44437_level0_row5\" class=\"row_heading level0 row5\" >5</th>\n",
       "      <td id=\"T_44437_row5_col0\" class=\"data row5 col0\" >Transformed train set shape</td>\n",
       "      <td id=\"T_44437_row5_col1\" class=\"data row5 col1\" >(8339, 14)</td>\n",
       "    </tr>\n",
       "    <tr>\n",
       "      <th id=\"T_44437_level0_row6\" class=\"row_heading level0 row6\" >6</th>\n",
       "      <td id=\"T_44437_row6_col0\" class=\"data row6 col0\" >Transformed test set shape</td>\n",
       "      <td id=\"T_44437_row6_col1\" class=\"data row6 col1\" >(3575, 14)</td>\n",
       "    </tr>\n",
       "    <tr>\n",
       "      <th id=\"T_44437_level0_row7\" class=\"row_heading level0 row7\" >7</th>\n",
       "      <td id=\"T_44437_row7_col0\" class=\"data row7 col0\" >Numeric features</td>\n",
       "      <td id=\"T_44437_row7_col1\" class=\"data row7 col1\" >13</td>\n",
       "    </tr>\n",
       "    <tr>\n",
       "      <th id=\"T_44437_level0_row8\" class=\"row_heading level0 row8\" >8</th>\n",
       "      <td id=\"T_44437_row8_col0\" class=\"data row8 col0\" >Preprocess</td>\n",
       "      <td id=\"T_44437_row8_col1\" class=\"data row8 col1\" >True</td>\n",
       "    </tr>\n",
       "    <tr>\n",
       "      <th id=\"T_44437_level0_row9\" class=\"row_heading level0 row9\" >9</th>\n",
       "      <td id=\"T_44437_row9_col0\" class=\"data row9 col0\" >Imputation type</td>\n",
       "      <td id=\"T_44437_row9_col1\" class=\"data row9 col1\" >simple</td>\n",
       "    </tr>\n",
       "    <tr>\n",
       "      <th id=\"T_44437_level0_row10\" class=\"row_heading level0 row10\" >10</th>\n",
       "      <td id=\"T_44437_row10_col0\" class=\"data row10 col0\" >Numeric imputation</td>\n",
       "      <td id=\"T_44437_row10_col1\" class=\"data row10 col1\" >mean</td>\n",
       "    </tr>\n",
       "    <tr>\n",
       "      <th id=\"T_44437_level0_row11\" class=\"row_heading level0 row11\" >11</th>\n",
       "      <td id=\"T_44437_row11_col0\" class=\"data row11 col0\" >Categorical imputation</td>\n",
       "      <td id=\"T_44437_row11_col1\" class=\"data row11 col1\" >mode</td>\n",
       "    </tr>\n",
       "    <tr>\n",
       "      <th id=\"T_44437_level0_row12\" class=\"row_heading level0 row12\" >12</th>\n",
       "      <td id=\"T_44437_row12_col0\" class=\"data row12 col0\" >Normalize</td>\n",
       "      <td id=\"T_44437_row12_col1\" class=\"data row12 col1\" >True</td>\n",
       "    </tr>\n",
       "    <tr>\n",
       "      <th id=\"T_44437_level0_row13\" class=\"row_heading level0 row13\" >13</th>\n",
       "      <td id=\"T_44437_row13_col0\" class=\"data row13 col0\" >Normalize method</td>\n",
       "      <td id=\"T_44437_row13_col1\" class=\"data row13 col1\" >zscore</td>\n",
       "    </tr>\n",
       "    <tr>\n",
       "      <th id=\"T_44437_level0_row14\" class=\"row_heading level0 row14\" >14</th>\n",
       "      <td id=\"T_44437_row14_col0\" class=\"data row14 col0\" >Fold Generator</td>\n",
       "      <td id=\"T_44437_row14_col1\" class=\"data row14 col1\" >StratifiedKFold</td>\n",
       "    </tr>\n",
       "    <tr>\n",
       "      <th id=\"T_44437_level0_row15\" class=\"row_heading level0 row15\" >15</th>\n",
       "      <td id=\"T_44437_row15_col0\" class=\"data row15 col0\" >Fold Number</td>\n",
       "      <td id=\"T_44437_row15_col1\" class=\"data row15 col1\" >10</td>\n",
       "    </tr>\n",
       "    <tr>\n",
       "      <th id=\"T_44437_level0_row16\" class=\"row_heading level0 row16\" >16</th>\n",
       "      <td id=\"T_44437_row16_col0\" class=\"data row16 col0\" >CPU Jobs</td>\n",
       "      <td id=\"T_44437_row16_col1\" class=\"data row16 col1\" >-1</td>\n",
       "    </tr>\n",
       "    <tr>\n",
       "      <th id=\"T_44437_level0_row17\" class=\"row_heading level0 row17\" >17</th>\n",
       "      <td id=\"T_44437_row17_col0\" class=\"data row17 col0\" >Use GPU</td>\n",
       "      <td id=\"T_44437_row17_col1\" class=\"data row17 col1\" >False</td>\n",
       "    </tr>\n",
       "    <tr>\n",
       "      <th id=\"T_44437_level0_row18\" class=\"row_heading level0 row18\" >18</th>\n",
       "      <td id=\"T_44437_row18_col0\" class=\"data row18 col0\" >Log Experiment</td>\n",
       "      <td id=\"T_44437_row18_col1\" class=\"data row18 col1\" >False</td>\n",
       "    </tr>\n",
       "    <tr>\n",
       "      <th id=\"T_44437_level0_row19\" class=\"row_heading level0 row19\" >19</th>\n",
       "      <td id=\"T_44437_row19_col0\" class=\"data row19 col0\" >Experiment Name</td>\n",
       "      <td id=\"T_44437_row19_col1\" class=\"data row19 col1\" >clf-default-name</td>\n",
       "    </tr>\n",
       "    <tr>\n",
       "      <th id=\"T_44437_level0_row20\" class=\"row_heading level0 row20\" >20</th>\n",
       "      <td id=\"T_44437_row20_col0\" class=\"data row20 col0\" >USI</td>\n",
       "      <td id=\"T_44437_row20_col1\" class=\"data row20 col1\" >035e</td>\n",
       "    </tr>\n",
       "  </tbody>\n",
       "</table>\n"
      ],
      "text/plain": [
       "<pandas.io.formats.style.Styler at 0x1fc4658f580>"
      ]
     },
     "metadata": {},
     "output_type": "display_data"
    }
   ],
   "source": [
    "# Initialize PyCaret\n",
    "clf_setup = setup(\n",
    "    data=df, \n",
    "    target='Attrition', \n",
    "    normalize=True,\n",
    "    session_id=42,\n",
    "    # use_gpu=True,\n",
    ")"
   ]
  },
  {
   "cell_type": "code",
   "execution_count": 100,
   "id": "8aa6ebc1-1af5-4fc2-82de-d0ad0d454dc4",
   "metadata": {},
   "outputs": [
    {
     "data": {
      "text/html": [],
      "text/plain": [
       "<IPython.core.display.HTML object>"
      ]
     },
     "metadata": {},
     "output_type": "display_data"
    },
    {
     "data": {
      "text/html": [
       "<style type=\"text/css\">\n",
       "#T_b3a9e th {\n",
       "  text-align: left;\n",
       "}\n",
       "#T_b3a9e_row0_col0, #T_b3a9e_row0_col3, #T_b3a9e_row0_col4, #T_b3a9e_row0_col7, #T_b3a9e_row1_col0, #T_b3a9e_row1_col1, #T_b3a9e_row1_col2, #T_b3a9e_row1_col3, #T_b3a9e_row1_col4, #T_b3a9e_row1_col5, #T_b3a9e_row1_col6, #T_b3a9e_row1_col7, #T_b3a9e_row2_col0, #T_b3a9e_row2_col1, #T_b3a9e_row2_col2, #T_b3a9e_row2_col3, #T_b3a9e_row2_col4, #T_b3a9e_row2_col5, #T_b3a9e_row2_col6, #T_b3a9e_row3_col0, #T_b3a9e_row3_col1, #T_b3a9e_row3_col2, #T_b3a9e_row3_col3, #T_b3a9e_row3_col4, #T_b3a9e_row3_col5, #T_b3a9e_row3_col6, #T_b3a9e_row3_col7, #T_b3a9e_row4_col0, #T_b3a9e_row4_col1, #T_b3a9e_row4_col2, #T_b3a9e_row4_col3, #T_b3a9e_row4_col4, #T_b3a9e_row4_col5, #T_b3a9e_row4_col6, #T_b3a9e_row4_col7, #T_b3a9e_row5_col0, #T_b3a9e_row5_col1, #T_b3a9e_row5_col2, #T_b3a9e_row5_col3, #T_b3a9e_row5_col4, #T_b3a9e_row5_col5, #T_b3a9e_row5_col6, #T_b3a9e_row5_col7, #T_b3a9e_row6_col0, #T_b3a9e_row6_col1, #T_b3a9e_row6_col2, #T_b3a9e_row6_col3, #T_b3a9e_row6_col4, #T_b3a9e_row6_col5, #T_b3a9e_row6_col6, #T_b3a9e_row6_col7, #T_b3a9e_row7_col0, #T_b3a9e_row7_col1, #T_b3a9e_row7_col2, #T_b3a9e_row7_col4, #T_b3a9e_row7_col5, #T_b3a9e_row7_col6, #T_b3a9e_row7_col7, #T_b3a9e_row8_col0, #T_b3a9e_row8_col1, #T_b3a9e_row8_col2, #T_b3a9e_row8_col3, #T_b3a9e_row8_col4, #T_b3a9e_row8_col5, #T_b3a9e_row8_col6, #T_b3a9e_row8_col7, #T_b3a9e_row9_col0, #T_b3a9e_row9_col1, #T_b3a9e_row9_col2, #T_b3a9e_row9_col3, #T_b3a9e_row9_col4, #T_b3a9e_row9_col5, #T_b3a9e_row9_col6, #T_b3a9e_row9_col7, #T_b3a9e_row10_col0, #T_b3a9e_row10_col1, #T_b3a9e_row10_col2, #T_b3a9e_row10_col3, #T_b3a9e_row10_col4, #T_b3a9e_row10_col5, #T_b3a9e_row10_col6, #T_b3a9e_row10_col7, #T_b3a9e_row11_col0, #T_b3a9e_row11_col1, #T_b3a9e_row11_col2, #T_b3a9e_row11_col3, #T_b3a9e_row11_col4, #T_b3a9e_row11_col5, #T_b3a9e_row11_col6, #T_b3a9e_row11_col7, #T_b3a9e_row12_col0, #T_b3a9e_row12_col1, #T_b3a9e_row12_col2, #T_b3a9e_row12_col3, #T_b3a9e_row12_col4, #T_b3a9e_row12_col5, #T_b3a9e_row12_col6, #T_b3a9e_row12_col7, #T_b3a9e_row13_col0, #T_b3a9e_row13_col1, #T_b3a9e_row13_col2, #T_b3a9e_row13_col3, #T_b3a9e_row13_col4, #T_b3a9e_row13_col5, #T_b3a9e_row13_col6, #T_b3a9e_row13_col7, #T_b3a9e_row14_col0, #T_b3a9e_row14_col1, #T_b3a9e_row14_col2, #T_b3a9e_row14_col3, #T_b3a9e_row14_col5, #T_b3a9e_row14_col6, #T_b3a9e_row14_col7 {\n",
       "  text-align: left;\n",
       "}\n",
       "#T_b3a9e_row0_col1, #T_b3a9e_row0_col2, #T_b3a9e_row0_col5, #T_b3a9e_row0_col6, #T_b3a9e_row2_col7, #T_b3a9e_row7_col3, #T_b3a9e_row14_col4 {\n",
       "  text-align: left;\n",
       "  background-color: yellow;\n",
       "}\n",
       "#T_b3a9e_row0_col8, #T_b3a9e_row1_col8, #T_b3a9e_row2_col8, #T_b3a9e_row3_col8, #T_b3a9e_row4_col8, #T_b3a9e_row5_col8, #T_b3a9e_row6_col8, #T_b3a9e_row8_col8, #T_b3a9e_row9_col8, #T_b3a9e_row10_col8, #T_b3a9e_row11_col8, #T_b3a9e_row12_col8, #T_b3a9e_row13_col8, #T_b3a9e_row14_col8 {\n",
       "  text-align: left;\n",
       "  background-color: lightgrey;\n",
       "}\n",
       "#T_b3a9e_row7_col8 {\n",
       "  text-align: left;\n",
       "  background-color: yellow;\n",
       "  background-color: lightgrey;\n",
       "}\n",
       "</style>\n",
       "<table id=\"T_b3a9e\">\n",
       "  <thead>\n",
       "    <tr>\n",
       "      <th class=\"blank level0\" >&nbsp;</th>\n",
       "      <th id=\"T_b3a9e_level0_col0\" class=\"col_heading level0 col0\" >Model</th>\n",
       "      <th id=\"T_b3a9e_level0_col1\" class=\"col_heading level0 col1\" >Accuracy</th>\n",
       "      <th id=\"T_b3a9e_level0_col2\" class=\"col_heading level0 col2\" >AUC</th>\n",
       "      <th id=\"T_b3a9e_level0_col3\" class=\"col_heading level0 col3\" >Recall</th>\n",
       "      <th id=\"T_b3a9e_level0_col4\" class=\"col_heading level0 col4\" >Prec.</th>\n",
       "      <th id=\"T_b3a9e_level0_col5\" class=\"col_heading level0 col5\" >F1</th>\n",
       "      <th id=\"T_b3a9e_level0_col6\" class=\"col_heading level0 col6\" >Kappa</th>\n",
       "      <th id=\"T_b3a9e_level0_col7\" class=\"col_heading level0 col7\" >MCC</th>\n",
       "      <th id=\"T_b3a9e_level0_col8\" class=\"col_heading level0 col8\" >TT (Sec)</th>\n",
       "    </tr>\n",
       "  </thead>\n",
       "  <tbody>\n",
       "    <tr>\n",
       "      <th id=\"T_b3a9e_level0_row0\" class=\"row_heading level0 row0\" >rf</th>\n",
       "      <td id=\"T_b3a9e_row0_col0\" class=\"data row0 col0\" >Random Forest Classifier</td>\n",
       "      <td id=\"T_b3a9e_row0_col1\" class=\"data row0 col1\" >0.8103</td>\n",
       "      <td id=\"T_b3a9e_row0_col2\" class=\"data row0 col2\" >0.8784</td>\n",
       "      <td id=\"T_b3a9e_row0_col3\" class=\"data row0 col3\" >0.7722</td>\n",
       "      <td id=\"T_b3a9e_row0_col4\" class=\"data row0 col4\" >0.8359</td>\n",
       "      <td id=\"T_b3a9e_row0_col5\" class=\"data row0 col5\" >0.8028</td>\n",
       "      <td id=\"T_b3a9e_row0_col6\" class=\"data row0 col6\" >0.6207</td>\n",
       "      <td id=\"T_b3a9e_row0_col7\" class=\"data row0 col7\" >0.6225</td>\n",
       "      <td id=\"T_b3a9e_row0_col8\" class=\"data row0 col8\" >1.0200</td>\n",
       "    </tr>\n",
       "    <tr>\n",
       "      <th id=\"T_b3a9e_level0_row1\" class=\"row_heading level0 row1\" >et</th>\n",
       "      <td id=\"T_b3a9e_row1_col0\" class=\"data row1 col0\" >Extra Trees Classifier</td>\n",
       "      <td id=\"T_b3a9e_row1_col1\" class=\"data row1 col1\" >0.7983</td>\n",
       "      <td id=\"T_b3a9e_row1_col2\" class=\"data row1 col2\" >0.8727</td>\n",
       "      <td id=\"T_b3a9e_row1_col3\" class=\"data row1 col3\" >0.7974</td>\n",
       "      <td id=\"T_b3a9e_row1_col4\" class=\"data row1 col4\" >0.7988</td>\n",
       "      <td id=\"T_b3a9e_row1_col5\" class=\"data row1 col5\" >0.7981</td>\n",
       "      <td id=\"T_b3a9e_row1_col6\" class=\"data row1 col6\" >0.5966</td>\n",
       "      <td id=\"T_b3a9e_row1_col7\" class=\"data row1 col7\" >0.5966</td>\n",
       "      <td id=\"T_b3a9e_row1_col8\" class=\"data row1 col8\" >0.8200</td>\n",
       "    </tr>\n",
       "    <tr>\n",
       "      <th id=\"T_b3a9e_level0_row2\" class=\"row_heading level0 row2\" >lightgbm</th>\n",
       "      <td id=\"T_b3a9e_row2_col0\" class=\"data row2 col0\" >Light Gradient Boosting Machine</td>\n",
       "      <td id=\"T_b3a9e_row2_col1\" class=\"data row2 col1\" >0.8090</td>\n",
       "      <td id=\"T_b3a9e_row2_col2\" class=\"data row2 col2\" >0.8434</td>\n",
       "      <td id=\"T_b3a9e_row2_col3\" class=\"data row2 col3\" >0.6637</td>\n",
       "      <td id=\"T_b3a9e_row2_col4\" class=\"data row2 col4\" >0.9353</td>\n",
       "      <td id=\"T_b3a9e_row2_col5\" class=\"data row2 col5\" >0.7764</td>\n",
       "      <td id=\"T_b3a9e_row2_col6\" class=\"data row2 col6\" >0.6179</td>\n",
       "      <td id=\"T_b3a9e_row2_col7\" class=\"data row2 col7\" >0.6457</td>\n",
       "      <td id=\"T_b3a9e_row2_col8\" class=\"data row2 col8\" >0.3800</td>\n",
       "    </tr>\n",
       "    <tr>\n",
       "      <th id=\"T_b3a9e_level0_row3\" class=\"row_heading level0 row3\" >xgboost</th>\n",
       "      <td id=\"T_b3a9e_row3_col0\" class=\"data row3 col0\" >Extreme Gradient Boosting</td>\n",
       "      <td id=\"T_b3a9e_row3_col1\" class=\"data row3 col1\" >0.7922</td>\n",
       "      <td id=\"T_b3a9e_row3_col2\" class=\"data row3 col2\" >0.8380</td>\n",
       "      <td id=\"T_b3a9e_row3_col3\" class=\"data row3 col3\" >0.6883</td>\n",
       "      <td id=\"T_b3a9e_row3_col4\" class=\"data row3 col4\" >0.8686</td>\n",
       "      <td id=\"T_b3a9e_row3_col5\" class=\"data row3 col5\" >0.7680</td>\n",
       "      <td id=\"T_b3a9e_row3_col6\" class=\"data row3 col6\" >0.5843</td>\n",
       "      <td id=\"T_b3a9e_row3_col7\" class=\"data row3 col7\" >0.5973</td>\n",
       "      <td id=\"T_b3a9e_row3_col8\" class=\"data row3 col8\" >0.3500</td>\n",
       "    </tr>\n",
       "    <tr>\n",
       "      <th id=\"T_b3a9e_level0_row4\" class=\"row_heading level0 row4\" >gbc</th>\n",
       "      <td id=\"T_b3a9e_row4_col0\" class=\"data row4 col0\" >Gradient Boosting Classifier</td>\n",
       "      <td id=\"T_b3a9e_row4_col1\" class=\"data row4 col1\" >0.7989</td>\n",
       "      <td id=\"T_b3a9e_row4_col2\" class=\"data row4 col2\" >0.8250</td>\n",
       "      <td id=\"T_b3a9e_row4_col3\" class=\"data row4 col3\" >0.6223</td>\n",
       "      <td id=\"T_b3a9e_row4_col4\" class=\"data row4 col4\" >0.9619</td>\n",
       "      <td id=\"T_b3a9e_row4_col5\" class=\"data row4 col5\" >0.7557</td>\n",
       "      <td id=\"T_b3a9e_row4_col6\" class=\"data row4 col6\" >0.5977</td>\n",
       "      <td id=\"T_b3a9e_row4_col7\" class=\"data row4 col7\" >0.6389</td>\n",
       "      <td id=\"T_b3a9e_row4_col8\" class=\"data row4 col8\" >2.0200</td>\n",
       "    </tr>\n",
       "    <tr>\n",
       "      <th id=\"T_b3a9e_level0_row5\" class=\"row_heading level0 row5\" >knn</th>\n",
       "      <td id=\"T_b3a9e_row5_col0\" class=\"data row5 col0\" >K Neighbors Classifier</td>\n",
       "      <td id=\"T_b3a9e_row5_col1\" class=\"data row5 col1\" >0.6680</td>\n",
       "      <td id=\"T_b3a9e_row5_col2\" class=\"data row5 col2\" >0.7329</td>\n",
       "      <td id=\"T_b3a9e_row5_col3\" class=\"data row5 col3\" >0.7952</td>\n",
       "      <td id=\"T_b3a9e_row5_col4\" class=\"data row5 col4\" >0.6338</td>\n",
       "      <td id=\"T_b3a9e_row5_col5\" class=\"data row5 col5\" >0.7054</td>\n",
       "      <td id=\"T_b3a9e_row5_col6\" class=\"data row5 col6\" >0.3360</td>\n",
       "      <td id=\"T_b3a9e_row5_col7\" class=\"data row5 col7\" >0.3474</td>\n",
       "      <td id=\"T_b3a9e_row5_col8\" class=\"data row5 col8\" >0.0800</td>\n",
       "    </tr>\n",
       "    <tr>\n",
       "      <th id=\"T_b3a9e_level0_row6\" class=\"row_heading level0 row6\" >dt</th>\n",
       "      <td id=\"T_b3a9e_row6_col0\" class=\"data row6 col0\" >Decision Tree Classifier</td>\n",
       "      <td id=\"T_b3a9e_row6_col1\" class=\"data row6 col1\" >0.6999</td>\n",
       "      <td id=\"T_b3a9e_row6_col2\" class=\"data row6 col2\" >0.6999</td>\n",
       "      <td id=\"T_b3a9e_row6_col3\" class=\"data row6 col3\" >0.7163</td>\n",
       "      <td id=\"T_b3a9e_row6_col4\" class=\"data row6 col4\" >0.6934</td>\n",
       "      <td id=\"T_b3a9e_row6_col5\" class=\"data row6 col5\" >0.7047</td>\n",
       "      <td id=\"T_b3a9e_row6_col6\" class=\"data row6 col6\" >0.3997</td>\n",
       "      <td id=\"T_b3a9e_row6_col7\" class=\"data row6 col7\" >0.3999</td>\n",
       "      <td id=\"T_b3a9e_row6_col8\" class=\"data row6 col8\" >0.1000</td>\n",
       "    </tr>\n",
       "    <tr>\n",
       "      <th id=\"T_b3a9e_level0_row7\" class=\"row_heading level0 row7\" >dummy</th>\n",
       "      <td id=\"T_b3a9e_row7_col0\" class=\"data row7 col0\" >Dummy Classifier</td>\n",
       "      <td id=\"T_b3a9e_row7_col1\" class=\"data row7 col1\" >0.4999</td>\n",
       "      <td id=\"T_b3a9e_row7_col2\" class=\"data row7 col2\" >0.5000</td>\n",
       "      <td id=\"T_b3a9e_row7_col3\" class=\"data row7 col3\" >1.0000</td>\n",
       "      <td id=\"T_b3a9e_row7_col4\" class=\"data row7 col4\" >0.4999</td>\n",
       "      <td id=\"T_b3a9e_row7_col5\" class=\"data row7 col5\" >0.6665</td>\n",
       "      <td id=\"T_b3a9e_row7_col6\" class=\"data row7 col6\" >0.0000</td>\n",
       "      <td id=\"T_b3a9e_row7_col7\" class=\"data row7 col7\" >0.0000</td>\n",
       "      <td id=\"T_b3a9e_row7_col8\" class=\"data row7 col8\" >0.0300</td>\n",
       "    </tr>\n",
       "    <tr>\n",
       "      <th id=\"T_b3a9e_level0_row8\" class=\"row_heading level0 row8\" >ada</th>\n",
       "      <td id=\"T_b3a9e_row8_col0\" class=\"data row8 col0\" >Ada Boost Classifier</td>\n",
       "      <td id=\"T_b3a9e_row8_col1\" class=\"data row8 col1\" >0.6618</td>\n",
       "      <td id=\"T_b3a9e_row8_col2\" class=\"data row8 col2\" >0.7307</td>\n",
       "      <td id=\"T_b3a9e_row8_col3\" class=\"data row8 col3\" >0.6167</td>\n",
       "      <td id=\"T_b3a9e_row8_col4\" class=\"data row8 col4\" >0.6777</td>\n",
       "      <td id=\"T_b3a9e_row8_col5\" class=\"data row8 col5\" >0.6458</td>\n",
       "      <td id=\"T_b3a9e_row8_col6\" class=\"data row8 col6\" >0.3236</td>\n",
       "      <td id=\"T_b3a9e_row8_col7\" class=\"data row8 col7\" >0.3249</td>\n",
       "      <td id=\"T_b3a9e_row8_col8\" class=\"data row8 col8\" >0.5500</td>\n",
       "    </tr>\n",
       "    <tr>\n",
       "      <th id=\"T_b3a9e_level0_row9\" class=\"row_heading level0 row9\" >nb</th>\n",
       "      <td id=\"T_b3a9e_row9_col0\" class=\"data row9 col0\" >Naive Bayes</td>\n",
       "      <td id=\"T_b3a9e_row9_col1\" class=\"data row9 col1\" >0.5538</td>\n",
       "      <td id=\"T_b3a9e_row9_col2\" class=\"data row9 col2\" >0.5758</td>\n",
       "      <td id=\"T_b3a9e_row9_col3\" class=\"data row9 col3\" >0.5820</td>\n",
       "      <td id=\"T_b3a9e_row9_col4\" class=\"data row9 col4\" >0.5508</td>\n",
       "      <td id=\"T_b3a9e_row9_col5\" class=\"data row9 col5\" >0.5660</td>\n",
       "      <td id=\"T_b3a9e_row9_col6\" class=\"data row9 col6\" >0.1077</td>\n",
       "      <td id=\"T_b3a9e_row9_col7\" class=\"data row9 col7\" >0.1079</td>\n",
       "      <td id=\"T_b3a9e_row9_col8\" class=\"data row9 col8\" >0.0400</td>\n",
       "    </tr>\n",
       "    <tr>\n",
       "      <th id=\"T_b3a9e_level0_row10\" class=\"row_heading level0 row10\" >svm</th>\n",
       "      <td id=\"T_b3a9e_row10_col0\" class=\"data row10 col0\" >SVM - Linear Kernel</td>\n",
       "      <td id=\"T_b3a9e_row10_col1\" class=\"data row10 col1\" >0.5396</td>\n",
       "      <td id=\"T_b3a9e_row10_col2\" class=\"data row10 col2\" >0.5396</td>\n",
       "      <td id=\"T_b3a9e_row10_col3\" class=\"data row10 col3\" >0.5339</td>\n",
       "      <td id=\"T_b3a9e_row10_col4\" class=\"data row10 col4\" >0.5399</td>\n",
       "      <td id=\"T_b3a9e_row10_col5\" class=\"data row10 col5\" >0.5369</td>\n",
       "      <td id=\"T_b3a9e_row10_col6\" class=\"data row10 col6\" >0.0792</td>\n",
       "      <td id=\"T_b3a9e_row10_col7\" class=\"data row10 col7\" >0.0792</td>\n",
       "      <td id=\"T_b3a9e_row10_col8\" class=\"data row10 col8\" >0.1200</td>\n",
       "    </tr>\n",
       "    <tr>\n",
       "      <th id=\"T_b3a9e_level0_row11\" class=\"row_heading level0 row11\" >lda</th>\n",
       "      <td id=\"T_b3a9e_row11_col0\" class=\"data row11 col0\" >Linear Discriminant Analysis</td>\n",
       "      <td id=\"T_b3a9e_row11_col1\" class=\"data row11 col1\" >0.5564</td>\n",
       "      <td id=\"T_b3a9e_row11_col2\" class=\"data row11 col2\" >0.5859</td>\n",
       "      <td id=\"T_b3a9e_row11_col3\" class=\"data row11 col3\" >0.4986</td>\n",
       "      <td id=\"T_b3a9e_row11_col4\" class=\"data row11 col4\" >0.5636</td>\n",
       "      <td id=\"T_b3a9e_row11_col5\" class=\"data row11 col5\" >0.5291</td>\n",
       "      <td id=\"T_b3a9e_row11_col6\" class=\"data row11 col6\" >0.1127</td>\n",
       "      <td id=\"T_b3a9e_row11_col7\" class=\"data row11 col7\" >0.1135</td>\n",
       "      <td id=\"T_b3a9e_row11_col8\" class=\"data row11 col8\" >0.0700</td>\n",
       "    </tr>\n",
       "    <tr>\n",
       "      <th id=\"T_b3a9e_level0_row12\" class=\"row_heading level0 row12\" >ridge</th>\n",
       "      <td id=\"T_b3a9e_row12_col0\" class=\"data row12 col0\" >Ridge Classifier</td>\n",
       "      <td id=\"T_b3a9e_row12_col1\" class=\"data row12 col1\" >0.5561</td>\n",
       "      <td id=\"T_b3a9e_row12_col2\" class=\"data row12 col2\" >0.5561</td>\n",
       "      <td id=\"T_b3a9e_row12_col3\" class=\"data row12 col3\" >0.4986</td>\n",
       "      <td id=\"T_b3a9e_row12_col4\" class=\"data row12 col4\" >0.5632</td>\n",
       "      <td id=\"T_b3a9e_row12_col5\" class=\"data row12 col5\" >0.5289</td>\n",
       "      <td id=\"T_b3a9e_row12_col6\" class=\"data row12 col6\" >0.1121</td>\n",
       "      <td id=\"T_b3a9e_row12_col7\" class=\"data row12 col7\" >0.1129</td>\n",
       "      <td id=\"T_b3a9e_row12_col8\" class=\"data row12 col8\" >0.0700</td>\n",
       "    </tr>\n",
       "    <tr>\n",
       "      <th id=\"T_b3a9e_level0_row13\" class=\"row_heading level0 row13\" >lr</th>\n",
       "      <td id=\"T_b3a9e_row13_col0\" class=\"data row13 col0\" >Logistic Regression</td>\n",
       "      <td id=\"T_b3a9e_row13_col1\" class=\"data row13 col1\" >0.5544</td>\n",
       "      <td id=\"T_b3a9e_row13_col2\" class=\"data row13 col2\" >0.5859</td>\n",
       "      <td id=\"T_b3a9e_row13_col3\" class=\"data row13 col3\" >0.5003</td>\n",
       "      <td id=\"T_b3a9e_row13_col4\" class=\"data row13 col4\" >0.5609</td>\n",
       "      <td id=\"T_b3a9e_row13_col5\" class=\"data row13 col5\" >0.5288</td>\n",
       "      <td id=\"T_b3a9e_row13_col6\" class=\"data row13 col6\" >0.1088</td>\n",
       "      <td id=\"T_b3a9e_row13_col7\" class=\"data row13 col7\" >0.1094</td>\n",
       "      <td id=\"T_b3a9e_row13_col8\" class=\"data row13 col8\" >0.1000</td>\n",
       "    </tr>\n",
       "    <tr>\n",
       "      <th id=\"T_b3a9e_level0_row14\" class=\"row_heading level0 row14\" >qda</th>\n",
       "      <td id=\"T_b3a9e_row14_col0\" class=\"data row14 col0\" >Quadratic Discriminant Analysis</td>\n",
       "      <td id=\"T_b3a9e_row14_col1\" class=\"data row14 col1\" >0.5225</td>\n",
       "      <td id=\"T_b3a9e_row14_col2\" class=\"data row14 col2\" >0.6199</td>\n",
       "      <td id=\"T_b3a9e_row14_col3\" class=\"data row14 col3\" >0.0448</td>\n",
       "      <td id=\"T_b3a9e_row14_col4\" class=\"data row14 col4\" >1.0000</td>\n",
       "      <td id=\"T_b3a9e_row14_col5\" class=\"data row14 col5\" >0.0857</td>\n",
       "      <td id=\"T_b3a9e_row14_col6\" class=\"data row14 col6\" >0.0448</td>\n",
       "      <td id=\"T_b3a9e_row14_col7\" class=\"data row14 col7\" >0.1513</td>\n",
       "      <td id=\"T_b3a9e_row14_col8\" class=\"data row14 col8\" >0.0700</td>\n",
       "    </tr>\n",
       "  </tbody>\n",
       "</table>\n"
      ],
      "text/plain": [
       "<pandas.io.formats.style.Styler at 0x1fc488520e0>"
      ]
     },
     "metadata": {},
     "output_type": "display_data"
    },
    {
     "data": {
      "text/html": [],
      "text/plain": [
       "<IPython.core.display.HTML object>"
      ]
     },
     "metadata": {},
     "output_type": "display_data"
    }
   ],
   "source": [
    "# Compare models and select the best one\n",
    "best_model = compare_models(cross_validation=False, sort=\"f1\", )"
   ]
  },
  {
   "cell_type": "code",
   "execution_count": 101,
   "id": "24ff2500-0c9d-4e61-aef7-81a4e579a632",
   "metadata": {},
   "outputs": [
    {
     "name": "stdout",
     "output_type": "stream",
     "text": [
      "RandomForestClassifier(bootstrap=True, ccp_alpha=0.0, class_weight=None,\n",
      "                       criterion='gini', max_depth=None, max_features='sqrt',\n",
      "                       max_leaf_nodes=None, max_samples=None,\n",
      "                       min_impurity_decrease=0.0, min_samples_leaf=1,\n",
      "                       min_samples_split=2, min_weight_fraction_leaf=0.0,\n",
      "                       monotonic_cst=None, n_estimators=100, n_jobs=-1,\n",
      "                       oob_score=False, random_state=42, verbose=0,\n",
      "                       warm_start=False)\n"
     ]
    }
   ],
   "source": [
    "# Display the best model\n",
    "print(best_model)"
   ]
  },
  {
   "cell_type": "code",
   "execution_count": 102,
   "id": "f2ac374d-e606-4307-a2e7-d2ccd85b8fa5",
   "metadata": {},
   "outputs": [
    {
     "data": {
      "text/html": [],
      "text/plain": [
       "<IPython.core.display.HTML object>"
      ]
     },
     "metadata": {},
     "output_type": "display_data"
    },
    {
     "data": {
      "text/html": [
       "<style type=\"text/css\">\n",
       "#T_e18d3_row5_col0, #T_e18d3_row5_col1, #T_e18d3_row5_col2, #T_e18d3_row5_col3, #T_e18d3_row5_col4, #T_e18d3_row5_col5, #T_e18d3_row5_col6 {\n",
       "  background: yellow;\n",
       "}\n",
       "</style>\n",
       "<table id=\"T_e18d3\">\n",
       "  <thead>\n",
       "    <tr>\n",
       "      <th class=\"blank level0\" >&nbsp;</th>\n",
       "      <th id=\"T_e18d3_level0_col0\" class=\"col_heading level0 col0\" >Accuracy</th>\n",
       "      <th id=\"T_e18d3_level0_col1\" class=\"col_heading level0 col1\" >AUC</th>\n",
       "      <th id=\"T_e18d3_level0_col2\" class=\"col_heading level0 col2\" >Recall</th>\n",
       "      <th id=\"T_e18d3_level0_col3\" class=\"col_heading level0 col3\" >Prec.</th>\n",
       "      <th id=\"T_e18d3_level0_col4\" class=\"col_heading level0 col4\" >F1</th>\n",
       "      <th id=\"T_e18d3_level0_col5\" class=\"col_heading level0 col5\" >Kappa</th>\n",
       "      <th id=\"T_e18d3_level0_col6\" class=\"col_heading level0 col6\" >MCC</th>\n",
       "    </tr>\n",
       "    <tr>\n",
       "      <th class=\"index_name level0\" >Fold</th>\n",
       "      <th class=\"blank col0\" >&nbsp;</th>\n",
       "      <th class=\"blank col1\" >&nbsp;</th>\n",
       "      <th class=\"blank col2\" >&nbsp;</th>\n",
       "      <th class=\"blank col3\" >&nbsp;</th>\n",
       "      <th class=\"blank col4\" >&nbsp;</th>\n",
       "      <th class=\"blank col5\" >&nbsp;</th>\n",
       "      <th class=\"blank col6\" >&nbsp;</th>\n",
       "    </tr>\n",
       "  </thead>\n",
       "  <tbody>\n",
       "    <tr>\n",
       "      <th id=\"T_e18d3_level0_row0\" class=\"row_heading level0 row0\" >0</th>\n",
       "      <td id=\"T_e18d3_row0_col0\" class=\"data row0 col0\" >0.7284</td>\n",
       "      <td id=\"T_e18d3_row0_col1\" class=\"data row0 col1\" >0.8014</td>\n",
       "      <td id=\"T_e18d3_row0_col2\" class=\"data row0 col2\" >0.7146</td>\n",
       "      <td id=\"T_e18d3_row0_col3\" class=\"data row0 col3\" >0.7349</td>\n",
       "      <td id=\"T_e18d3_row0_col4\" class=\"data row0 col4\" >0.7246</td>\n",
       "      <td id=\"T_e18d3_row0_col5\" class=\"data row0 col5\" >0.4568</td>\n",
       "      <td id=\"T_e18d3_row0_col6\" class=\"data row0 col6\" >0.4570</td>\n",
       "    </tr>\n",
       "    <tr>\n",
       "      <th id=\"T_e18d3_level0_row1\" class=\"row_heading level0 row1\" >1</th>\n",
       "      <td id=\"T_e18d3_row1_col0\" class=\"data row1 col0\" >0.7104</td>\n",
       "      <td id=\"T_e18d3_row1_col1\" class=\"data row1 col1\" >0.7810</td>\n",
       "      <td id=\"T_e18d3_row1_col2\" class=\"data row1 col2\" >0.6835</td>\n",
       "      <td id=\"T_e18d3_row1_col3\" class=\"data row1 col3\" >0.7224</td>\n",
       "      <td id=\"T_e18d3_row1_col4\" class=\"data row1 col4\" >0.7024</td>\n",
       "      <td id=\"T_e18d3_row1_col5\" class=\"data row1 col5\" >0.4209</td>\n",
       "      <td id=\"T_e18d3_row1_col6\" class=\"data row1 col6\" >0.4215</td>\n",
       "    </tr>\n",
       "    <tr>\n",
       "      <th id=\"T_e18d3_level0_row2\" class=\"row_heading level0 row2\" >2</th>\n",
       "      <td id=\"T_e18d3_row2_col0\" class=\"data row2 col0\" >0.7128</td>\n",
       "      <td id=\"T_e18d3_row2_col1\" class=\"data row2 col1\" >0.7792</td>\n",
       "      <td id=\"T_e18d3_row2_col2\" class=\"data row2 col2\" >0.7098</td>\n",
       "      <td id=\"T_e18d3_row2_col3\" class=\"data row2 col3\" >0.7141</td>\n",
       "      <td id=\"T_e18d3_row2_col4\" class=\"data row2 col4\" >0.7120</td>\n",
       "      <td id=\"T_e18d3_row2_col5\" class=\"data row2 col5\" >0.4257</td>\n",
       "      <td id=\"T_e18d3_row2_col6\" class=\"data row2 col6\" >0.4257</td>\n",
       "    </tr>\n",
       "    <tr>\n",
       "      <th id=\"T_e18d3_level0_row3\" class=\"row_heading level0 row3\" >3</th>\n",
       "      <td id=\"T_e18d3_row3_col0\" class=\"data row3 col0\" >0.7404</td>\n",
       "      <td id=\"T_e18d3_row3_col1\" class=\"data row3 col1\" >0.8062</td>\n",
       "      <td id=\"T_e18d3_row3_col2\" class=\"data row3 col2\" >0.6859</td>\n",
       "      <td id=\"T_e18d3_row3_col3\" class=\"data row3 col3\" >0.7699</td>\n",
       "      <td id=\"T_e18d3_row3_col4\" class=\"data row3 col4\" >0.7254</td>\n",
       "      <td id=\"T_e18d3_row3_col5\" class=\"data row3 col5\" >0.4808</td>\n",
       "      <td id=\"T_e18d3_row3_col6\" class=\"data row3 col6\" >0.4837</td>\n",
       "    </tr>\n",
       "    <tr>\n",
       "      <th id=\"T_e18d3_level0_row4\" class=\"row_heading level0 row4\" >4</th>\n",
       "      <td id=\"T_e18d3_row4_col0\" class=\"data row4 col0\" >0.7145</td>\n",
       "      <td id=\"T_e18d3_row4_col1\" class=\"data row4 col1\" >0.7819</td>\n",
       "      <td id=\"T_e18d3_row4_col2\" class=\"data row4 col2\" >0.7410</td>\n",
       "      <td id=\"T_e18d3_row4_col3\" class=\"data row4 col3\" >0.7039</td>\n",
       "      <td id=\"T_e18d3_row4_col4\" class=\"data row4 col4\" >0.7220</td>\n",
       "      <td id=\"T_e18d3_row4_col5\" class=\"data row4 col5\" >0.4289</td>\n",
       "      <td id=\"T_e18d3_row4_col6\" class=\"data row4 col6\" >0.4295</td>\n",
       "    </tr>\n",
       "    <tr>\n",
       "      <th id=\"T_e18d3_level0_row5\" class=\"row_heading level0 row5\" >Mean</th>\n",
       "      <td id=\"T_e18d3_row5_col0\" class=\"data row5 col0\" >0.7213</td>\n",
       "      <td id=\"T_e18d3_row5_col1\" class=\"data row5 col1\" >0.7900</td>\n",
       "      <td id=\"T_e18d3_row5_col2\" class=\"data row5 col2\" >0.7070</td>\n",
       "      <td id=\"T_e18d3_row5_col3\" class=\"data row5 col3\" >0.7290</td>\n",
       "      <td id=\"T_e18d3_row5_col4\" class=\"data row5 col4\" >0.7173</td>\n",
       "      <td id=\"T_e18d3_row5_col5\" class=\"data row5 col5\" >0.4426</td>\n",
       "      <td id=\"T_e18d3_row5_col6\" class=\"data row5 col6\" >0.4435</td>\n",
       "    </tr>\n",
       "    <tr>\n",
       "      <th id=\"T_e18d3_level0_row6\" class=\"row_heading level0 row6\" >Std</th>\n",
       "      <td id=\"T_e18d3_row6_col0\" class=\"data row6 col0\" >0.0114</td>\n",
       "      <td id=\"T_e18d3_row6_col1\" class=\"data row6 col1\" >0.0115</td>\n",
       "      <td id=\"T_e18d3_row6_col2\" class=\"data row6 col2\" >0.0211</td>\n",
       "      <td id=\"T_e18d3_row6_col3\" class=\"data row6 col3\" >0.0228</td>\n",
       "      <td id=\"T_e18d3_row6_col4\" class=\"data row6 col4\" >0.0089</td>\n",
       "      <td id=\"T_e18d3_row6_col5\" class=\"data row6 col5\" >0.0228</td>\n",
       "      <td id=\"T_e18d3_row6_col6\" class=\"data row6 col6\" >0.0237</td>\n",
       "    </tr>\n",
       "  </tbody>\n",
       "</table>\n"
      ],
      "text/plain": [
       "<pandas.io.formats.style.Styler at 0x1fc487ff0d0>"
      ]
     },
     "metadata": {},
     "output_type": "display_data"
    },
    {
     "data": {
      "text/html": [],
      "text/plain": [
       "<IPython.core.display.HTML object>"
      ]
     },
     "metadata": {},
     "output_type": "display_data"
    },
    {
     "name": "stdout",
     "output_type": "stream",
     "text": [
      "Fitting 5 folds for each of 10 candidates, totalling 50 fits\n",
      "Original model was better than the tuned model, hence it will be returned. NOTE: The display metrics are for the tuned model (not the original one).\n"
     ]
    }
   ],
   "source": [
    "# Fine-tune the best model\n",
    "tuned_model = tune_model(best_model, optimize=\"f1\", fold=5)"
   ]
  },
  {
   "cell_type": "code",
   "execution_count": 103,
   "id": "aad26268-3d5e-4f85-9519-6a6331b71a88",
   "metadata": {},
   "outputs": [
    {
     "data": {
      "application/vnd.jupyter.widget-view+json": {
       "model_id": "1c81d2eb416343d1ac3166ad0f92f0da",
       "version_major": 2,
       "version_minor": 0
      },
      "text/plain": [
       "interactive(children=(ToggleButtons(description='Plot Type:', icons=('',), options=(('Pipeline Plot', 'pipelin…"
      ]
     },
     "metadata": {},
     "output_type": "display_data"
    }
   ],
   "source": [
    "# Evaluate the tuned model\n",
    "evaluate_model(tuned_model, fold=5)"
   ]
  },
  {
   "cell_type": "code",
   "execution_count": 104,
   "id": "af00b689-0abc-422d-9499-81d10c50962f",
   "metadata": {},
   "outputs": [],
   "source": [
    "# Finalize the model\n",
    "final_model = finalize_model(tuned_model)"
   ]
  },
  {
   "cell_type": "code",
   "execution_count": 105,
   "id": "568ed759-035c-4f16-b8c5-561852767ac7",
   "metadata": {},
   "outputs": [
    {
     "data": {
      "text/html": [],
      "text/plain": [
       "<IPython.core.display.HTML object>"
      ]
     },
     "metadata": {},
     "output_type": "display_data"
    }
   ],
   "source": [
    "# Predict on the test set\n",
    "predictions = predict_model(final_model, data=X_test)"
   ]
  },
  {
   "cell_type": "markdown",
   "id": "46d4cdd5-fcf4-4f22-90b8-d0c205c60fd2",
   "metadata": {},
   "source": [
    "#### Saving the model"
   ]
  },
  {
   "cell_type": "code",
   "execution_count": 106,
   "id": "1c7e968b-4abb-4b2d-b88f-ea13fca9c7c1",
   "metadata": {},
   "outputs": [
    {
     "name": "stdout",
     "output_type": "stream",
     "text": [
      "Transformation Pipeline and Model Successfully Saved\n"
     ]
    },
    {
     "data": {
      "text/plain": [
       "(Pipeline(memory=Memory(location=None),\n",
       "          steps=[('numerical_imputer',\n",
       "                  TransformerWrapper(exclude=None,\n",
       "                                     include=['Age', 'Gender', 'MonthlyIncome',\n",
       "                                              'YearsAtCompany', 'OverTime',\n",
       "                                              'JobSatisfaction',\n",
       "                                              'WorkLifeBalance',\n",
       "                                              'TrainingTimesLastYear',\n",
       "                                              'Department_Finance',\n",
       "                                              'Department_HR', 'Department_IT',\n",
       "                                              'Department_Operations',\n",
       "                                              'Department_Sales'],\n",
       "                                     transformer=SimpleImputer(a...\n",
       "                  RandomForestClassifier(bootstrap=True, ccp_alpha=0.0,\n",
       "                                         class_weight=None, criterion='gini',\n",
       "                                         max_depth=None, max_features='sqrt',\n",
       "                                         max_leaf_nodes=None, max_samples=None,\n",
       "                                         min_impurity_decrease=0.0,\n",
       "                                         min_samples_leaf=1, min_samples_split=2,\n",
       "                                         min_weight_fraction_leaf=0.0,\n",
       "                                         monotonic_cst=None, n_estimators=100,\n",
       "                                         n_jobs=-1, oob_score=False,\n",
       "                                         random_state=42, verbose=0,\n",
       "                                         warm_start=False))],\n",
       "          verbose=False),\n",
       " 'final_model_attrition_prediction.pkl')"
      ]
     },
     "execution_count": 106,
     "metadata": {},
     "output_type": "execute_result"
    }
   ],
   "source": [
    "save_model(final_model, 'final_model_attrition_prediction')"
   ]
  },
  {
   "cell_type": "markdown",
   "id": "14664b9e-6b71-4b24-afa4-cc6fbfcdb6ce",
   "metadata": {},
   "source": [
    "#### Loading the model"
   ]
  },
  {
   "cell_type": "code",
   "execution_count": 107,
   "id": "5fbaa532-c5c1-4ace-a061-09bdce622c32",
   "metadata": {},
   "outputs": [
    {
     "name": "stdout",
     "output_type": "stream",
     "text": [
      "Transformation Pipeline and Model Successfully Loaded\n"
     ]
    }
   ],
   "source": [
    "loaded_model = load_model('final_model_attrition_prediction')\n"
   ]
  },
  {
   "cell_type": "code",
   "execution_count": 108,
   "id": "005eecee-e961-4372-b9dc-2efa283e4e82",
   "metadata": {},
   "outputs": [
    {
     "data": {
      "text/html": [
       "<style>#sk-container-id-4 {\n",
       "  /* Definition of color scheme common for light and dark mode */\n",
       "  --sklearn-color-text: black;\n",
       "  --sklearn-color-line: gray;\n",
       "  /* Definition of color scheme for unfitted estimators */\n",
       "  --sklearn-color-unfitted-level-0: #fff5e6;\n",
       "  --sklearn-color-unfitted-level-1: #f6e4d2;\n",
       "  --sklearn-color-unfitted-level-2: #ffe0b3;\n",
       "  --sklearn-color-unfitted-level-3: chocolate;\n",
       "  /* Definition of color scheme for fitted estimators */\n",
       "  --sklearn-color-fitted-level-0: #f0f8ff;\n",
       "  --sklearn-color-fitted-level-1: #d4ebff;\n",
       "  --sklearn-color-fitted-level-2: #b3dbfd;\n",
       "  --sklearn-color-fitted-level-3: cornflowerblue;\n",
       "\n",
       "  /* Specific color for light theme */\n",
       "  --sklearn-color-text-on-default-background: var(--sg-text-color, var(--theme-code-foreground, var(--jp-content-font-color1, black)));\n",
       "  --sklearn-color-background: var(--sg-background-color, var(--theme-background, var(--jp-layout-color0, white)));\n",
       "  --sklearn-color-border-box: var(--sg-text-color, var(--theme-code-foreground, var(--jp-content-font-color1, black)));\n",
       "  --sklearn-color-icon: #696969;\n",
       "\n",
       "  @media (prefers-color-scheme: dark) {\n",
       "    /* Redefinition of color scheme for dark theme */\n",
       "    --sklearn-color-text-on-default-background: var(--sg-text-color, var(--theme-code-foreground, var(--jp-content-font-color1, white)));\n",
       "    --sklearn-color-background: var(--sg-background-color, var(--theme-background, var(--jp-layout-color0, #111)));\n",
       "    --sklearn-color-border-box: var(--sg-text-color, var(--theme-code-foreground, var(--jp-content-font-color1, white)));\n",
       "    --sklearn-color-icon: #878787;\n",
       "  }\n",
       "}\n",
       "\n",
       "#sk-container-id-4 {\n",
       "  color: var(--sklearn-color-text);\n",
       "}\n",
       "\n",
       "#sk-container-id-4 pre {\n",
       "  padding: 0;\n",
       "}\n",
       "\n",
       "#sk-container-id-4 input.sk-hidden--visually {\n",
       "  border: 0;\n",
       "  clip: rect(1px 1px 1px 1px);\n",
       "  clip: rect(1px, 1px, 1px, 1px);\n",
       "  height: 1px;\n",
       "  margin: -1px;\n",
       "  overflow: hidden;\n",
       "  padding: 0;\n",
       "  position: absolute;\n",
       "  width: 1px;\n",
       "}\n",
       "\n",
       "#sk-container-id-4 div.sk-dashed-wrapped {\n",
       "  border: 1px dashed var(--sklearn-color-line);\n",
       "  margin: 0 0.4em 0.5em 0.4em;\n",
       "  box-sizing: border-box;\n",
       "  padding-bottom: 0.4em;\n",
       "  background-color: var(--sklearn-color-background);\n",
       "}\n",
       "\n",
       "#sk-container-id-4 div.sk-container {\n",
       "  /* jupyter's `normalize.less` sets `[hidden] { display: none; }`\n",
       "     but bootstrap.min.css set `[hidden] { display: none !important; }`\n",
       "     so we also need the `!important` here to be able to override the\n",
       "     default hidden behavior on the sphinx rendered scikit-learn.org.\n",
       "     See: https://github.com/scikit-learn/scikit-learn/issues/21755 */\n",
       "  display: inline-block !important;\n",
       "  position: relative;\n",
       "}\n",
       "\n",
       "#sk-container-id-4 div.sk-text-repr-fallback {\n",
       "  display: none;\n",
       "}\n",
       "\n",
       "div.sk-parallel-item,\n",
       "div.sk-serial,\n",
       "div.sk-item {\n",
       "  /* draw centered vertical line to link estimators */\n",
       "  background-image: linear-gradient(var(--sklearn-color-text-on-default-background), var(--sklearn-color-text-on-default-background));\n",
       "  background-size: 2px 100%;\n",
       "  background-repeat: no-repeat;\n",
       "  background-position: center center;\n",
       "}\n",
       "\n",
       "/* Parallel-specific style estimator block */\n",
       "\n",
       "#sk-container-id-4 div.sk-parallel-item::after {\n",
       "  content: \"\";\n",
       "  width: 100%;\n",
       "  border-bottom: 2px solid var(--sklearn-color-text-on-default-background);\n",
       "  flex-grow: 1;\n",
       "}\n",
       "\n",
       "#sk-container-id-4 div.sk-parallel {\n",
       "  display: flex;\n",
       "  align-items: stretch;\n",
       "  justify-content: center;\n",
       "  background-color: var(--sklearn-color-background);\n",
       "  position: relative;\n",
       "}\n",
       "\n",
       "#sk-container-id-4 div.sk-parallel-item {\n",
       "  display: flex;\n",
       "  flex-direction: column;\n",
       "}\n",
       "\n",
       "#sk-container-id-4 div.sk-parallel-item:first-child::after {\n",
       "  align-self: flex-end;\n",
       "  width: 50%;\n",
       "}\n",
       "\n",
       "#sk-container-id-4 div.sk-parallel-item:last-child::after {\n",
       "  align-self: flex-start;\n",
       "  width: 50%;\n",
       "}\n",
       "\n",
       "#sk-container-id-4 div.sk-parallel-item:only-child::after {\n",
       "  width: 0;\n",
       "}\n",
       "\n",
       "/* Serial-specific style estimator block */\n",
       "\n",
       "#sk-container-id-4 div.sk-serial {\n",
       "  display: flex;\n",
       "  flex-direction: column;\n",
       "  align-items: center;\n",
       "  background-color: var(--sklearn-color-background);\n",
       "  padding-right: 1em;\n",
       "  padding-left: 1em;\n",
       "}\n",
       "\n",
       "\n",
       "/* Toggleable style: style used for estimator/Pipeline/ColumnTransformer box that is\n",
       "clickable and can be expanded/collapsed.\n",
       "- Pipeline and ColumnTransformer use this feature and define the default style\n",
       "- Estimators will overwrite some part of the style using the `sk-estimator` class\n",
       "*/\n",
       "\n",
       "/* Pipeline and ColumnTransformer style (default) */\n",
       "\n",
       "#sk-container-id-4 div.sk-toggleable {\n",
       "  /* Default theme specific background. It is overwritten whether we have a\n",
       "  specific estimator or a Pipeline/ColumnTransformer */\n",
       "  background-color: var(--sklearn-color-background);\n",
       "}\n",
       "\n",
       "/* Toggleable label */\n",
       "#sk-container-id-4 label.sk-toggleable__label {\n",
       "  cursor: pointer;\n",
       "  display: block;\n",
       "  width: 100%;\n",
       "  margin-bottom: 0;\n",
       "  padding: 0.5em;\n",
       "  box-sizing: border-box;\n",
       "  text-align: center;\n",
       "}\n",
       "\n",
       "#sk-container-id-4 label.sk-toggleable__label-arrow:before {\n",
       "  /* Arrow on the left of the label */\n",
       "  content: \"▸\";\n",
       "  float: left;\n",
       "  margin-right: 0.25em;\n",
       "  color: var(--sklearn-color-icon);\n",
       "}\n",
       "\n",
       "#sk-container-id-4 label.sk-toggleable__label-arrow:hover:before {\n",
       "  color: var(--sklearn-color-text);\n",
       "}\n",
       "\n",
       "/* Toggleable content - dropdown */\n",
       "\n",
       "#sk-container-id-4 div.sk-toggleable__content {\n",
       "  max-height: 0;\n",
       "  max-width: 0;\n",
       "  overflow: hidden;\n",
       "  text-align: left;\n",
       "  /* unfitted */\n",
       "  background-color: var(--sklearn-color-unfitted-level-0);\n",
       "}\n",
       "\n",
       "#sk-container-id-4 div.sk-toggleable__content.fitted {\n",
       "  /* fitted */\n",
       "  background-color: var(--sklearn-color-fitted-level-0);\n",
       "}\n",
       "\n",
       "#sk-container-id-4 div.sk-toggleable__content pre {\n",
       "  margin: 0.2em;\n",
       "  border-radius: 0.25em;\n",
       "  color: var(--sklearn-color-text);\n",
       "  /* unfitted */\n",
       "  background-color: var(--sklearn-color-unfitted-level-0);\n",
       "}\n",
       "\n",
       "#sk-container-id-4 div.sk-toggleable__content.fitted pre {\n",
       "  /* unfitted */\n",
       "  background-color: var(--sklearn-color-fitted-level-0);\n",
       "}\n",
       "\n",
       "#sk-container-id-4 input.sk-toggleable__control:checked~div.sk-toggleable__content {\n",
       "  /* Expand drop-down */\n",
       "  max-height: 200px;\n",
       "  max-width: 100%;\n",
       "  overflow: auto;\n",
       "}\n",
       "\n",
       "#sk-container-id-4 input.sk-toggleable__control:checked~label.sk-toggleable__label-arrow:before {\n",
       "  content: \"▾\";\n",
       "}\n",
       "\n",
       "/* Pipeline/ColumnTransformer-specific style */\n",
       "\n",
       "#sk-container-id-4 div.sk-label input.sk-toggleable__control:checked~label.sk-toggleable__label {\n",
       "  color: var(--sklearn-color-text);\n",
       "  background-color: var(--sklearn-color-unfitted-level-2);\n",
       "}\n",
       "\n",
       "#sk-container-id-4 div.sk-label.fitted input.sk-toggleable__control:checked~label.sk-toggleable__label {\n",
       "  background-color: var(--sklearn-color-fitted-level-2);\n",
       "}\n",
       "\n",
       "/* Estimator-specific style */\n",
       "\n",
       "/* Colorize estimator box */\n",
       "#sk-container-id-4 div.sk-estimator input.sk-toggleable__control:checked~label.sk-toggleable__label {\n",
       "  /* unfitted */\n",
       "  background-color: var(--sklearn-color-unfitted-level-2);\n",
       "}\n",
       "\n",
       "#sk-container-id-4 div.sk-estimator.fitted input.sk-toggleable__control:checked~label.sk-toggleable__label {\n",
       "  /* fitted */\n",
       "  background-color: var(--sklearn-color-fitted-level-2);\n",
       "}\n",
       "\n",
       "#sk-container-id-4 div.sk-label label.sk-toggleable__label,\n",
       "#sk-container-id-4 div.sk-label label {\n",
       "  /* The background is the default theme color */\n",
       "  color: var(--sklearn-color-text-on-default-background);\n",
       "}\n",
       "\n",
       "/* On hover, darken the color of the background */\n",
       "#sk-container-id-4 div.sk-label:hover label.sk-toggleable__label {\n",
       "  color: var(--sklearn-color-text);\n",
       "  background-color: var(--sklearn-color-unfitted-level-2);\n",
       "}\n",
       "\n",
       "/* Label box, darken color on hover, fitted */\n",
       "#sk-container-id-4 div.sk-label.fitted:hover label.sk-toggleable__label.fitted {\n",
       "  color: var(--sklearn-color-text);\n",
       "  background-color: var(--sklearn-color-fitted-level-2);\n",
       "}\n",
       "\n",
       "/* Estimator label */\n",
       "\n",
       "#sk-container-id-4 div.sk-label label {\n",
       "  font-family: monospace;\n",
       "  font-weight: bold;\n",
       "  display: inline-block;\n",
       "  line-height: 1.2em;\n",
       "}\n",
       "\n",
       "#sk-container-id-4 div.sk-label-container {\n",
       "  text-align: center;\n",
       "}\n",
       "\n",
       "/* Estimator-specific */\n",
       "#sk-container-id-4 div.sk-estimator {\n",
       "  font-family: monospace;\n",
       "  border: 1px dotted var(--sklearn-color-border-box);\n",
       "  border-radius: 0.25em;\n",
       "  box-sizing: border-box;\n",
       "  margin-bottom: 0.5em;\n",
       "  /* unfitted */\n",
       "  background-color: var(--sklearn-color-unfitted-level-0);\n",
       "}\n",
       "\n",
       "#sk-container-id-4 div.sk-estimator.fitted {\n",
       "  /* fitted */\n",
       "  background-color: var(--sklearn-color-fitted-level-0);\n",
       "}\n",
       "\n",
       "/* on hover */\n",
       "#sk-container-id-4 div.sk-estimator:hover {\n",
       "  /* unfitted */\n",
       "  background-color: var(--sklearn-color-unfitted-level-2);\n",
       "}\n",
       "\n",
       "#sk-container-id-4 div.sk-estimator.fitted:hover {\n",
       "  /* fitted */\n",
       "  background-color: var(--sklearn-color-fitted-level-2);\n",
       "}\n",
       "\n",
       "/* Specification for estimator info (e.g. \"i\" and \"?\") */\n",
       "\n",
       "/* Common style for \"i\" and \"?\" */\n",
       "\n",
       ".sk-estimator-doc-link,\n",
       "a:link.sk-estimator-doc-link,\n",
       "a:visited.sk-estimator-doc-link {\n",
       "  float: right;\n",
       "  font-size: smaller;\n",
       "  line-height: 1em;\n",
       "  font-family: monospace;\n",
       "  background-color: var(--sklearn-color-background);\n",
       "  border-radius: 1em;\n",
       "  height: 1em;\n",
       "  width: 1em;\n",
       "  text-decoration: none !important;\n",
       "  margin-left: 1ex;\n",
       "  /* unfitted */\n",
       "  border: var(--sklearn-color-unfitted-level-1) 1pt solid;\n",
       "  color: var(--sklearn-color-unfitted-level-1);\n",
       "}\n",
       "\n",
       ".sk-estimator-doc-link.fitted,\n",
       "a:link.sk-estimator-doc-link.fitted,\n",
       "a:visited.sk-estimator-doc-link.fitted {\n",
       "  /* fitted */\n",
       "  border: var(--sklearn-color-fitted-level-1) 1pt solid;\n",
       "  color: var(--sklearn-color-fitted-level-1);\n",
       "}\n",
       "\n",
       "/* On hover */\n",
       "div.sk-estimator:hover .sk-estimator-doc-link:hover,\n",
       ".sk-estimator-doc-link:hover,\n",
       "div.sk-label-container:hover .sk-estimator-doc-link:hover,\n",
       ".sk-estimator-doc-link:hover {\n",
       "  /* unfitted */\n",
       "  background-color: var(--sklearn-color-unfitted-level-3);\n",
       "  color: var(--sklearn-color-background);\n",
       "  text-decoration: none;\n",
       "}\n",
       "\n",
       "div.sk-estimator.fitted:hover .sk-estimator-doc-link.fitted:hover,\n",
       ".sk-estimator-doc-link.fitted:hover,\n",
       "div.sk-label-container:hover .sk-estimator-doc-link.fitted:hover,\n",
       ".sk-estimator-doc-link.fitted:hover {\n",
       "  /* fitted */\n",
       "  background-color: var(--sklearn-color-fitted-level-3);\n",
       "  color: var(--sklearn-color-background);\n",
       "  text-decoration: none;\n",
       "}\n",
       "\n",
       "/* Span, style for the box shown on hovering the info icon */\n",
       ".sk-estimator-doc-link span {\n",
       "  display: none;\n",
       "  z-index: 9999;\n",
       "  position: relative;\n",
       "  font-weight: normal;\n",
       "  right: .2ex;\n",
       "  padding: .5ex;\n",
       "  margin: .5ex;\n",
       "  width: min-content;\n",
       "  min-width: 20ex;\n",
       "  max-width: 50ex;\n",
       "  color: var(--sklearn-color-text);\n",
       "  box-shadow: 2pt 2pt 4pt #999;\n",
       "  /* unfitted */\n",
       "  background: var(--sklearn-color-unfitted-level-0);\n",
       "  border: .5pt solid var(--sklearn-color-unfitted-level-3);\n",
       "}\n",
       "\n",
       ".sk-estimator-doc-link.fitted span {\n",
       "  /* fitted */\n",
       "  background: var(--sklearn-color-fitted-level-0);\n",
       "  border: var(--sklearn-color-fitted-level-3);\n",
       "}\n",
       "\n",
       ".sk-estimator-doc-link:hover span {\n",
       "  display: block;\n",
       "}\n",
       "\n",
       "/* \"?\"-specific style due to the `<a>` HTML tag */\n",
       "\n",
       "#sk-container-id-4 a.estimator_doc_link {\n",
       "  float: right;\n",
       "  font-size: 1rem;\n",
       "  line-height: 1em;\n",
       "  font-family: monospace;\n",
       "  background-color: var(--sklearn-color-background);\n",
       "  border-radius: 1rem;\n",
       "  height: 1rem;\n",
       "  width: 1rem;\n",
       "  text-decoration: none;\n",
       "  /* unfitted */\n",
       "  color: var(--sklearn-color-unfitted-level-1);\n",
       "  border: var(--sklearn-color-unfitted-level-1) 1pt solid;\n",
       "}\n",
       "\n",
       "#sk-container-id-4 a.estimator_doc_link.fitted {\n",
       "  /* fitted */\n",
       "  border: var(--sklearn-color-fitted-level-1) 1pt solid;\n",
       "  color: var(--sklearn-color-fitted-level-1);\n",
       "}\n",
       "\n",
       "/* On hover */\n",
       "#sk-container-id-4 a.estimator_doc_link:hover {\n",
       "  /* unfitted */\n",
       "  background-color: var(--sklearn-color-unfitted-level-3);\n",
       "  color: var(--sklearn-color-background);\n",
       "  text-decoration: none;\n",
       "}\n",
       "\n",
       "#sk-container-id-4 a.estimator_doc_link.fitted:hover {\n",
       "  /* fitted */\n",
       "  background-color: var(--sklearn-color-fitted-level-3);\n",
       "}\n",
       "</style><div id=\"sk-container-id-4\" class=\"sk-top-container\"><div class=\"sk-text-repr-fallback\"><pre>Pipeline(memory=FastMemory(location=C:\\Users\\Oladayo\\AppData\\Local\\Temp\\joblib),\n",
       "         steps=[(&#x27;numerical_imputer&#x27;,\n",
       "                 TransformerWrapper(exclude=None,\n",
       "                                    include=[&#x27;Age&#x27;, &#x27;Gender&#x27;, &#x27;MonthlyIncome&#x27;,\n",
       "                                             &#x27;YearsAtCompany&#x27;, &#x27;OverTime&#x27;,\n",
       "                                             &#x27;JobSatisfaction&#x27;,\n",
       "                                             &#x27;WorkLifeBalance&#x27;,\n",
       "                                             &#x27;TrainingTimesLastYear&#x27;,\n",
       "                                             &#x27;Department_Finance&#x27;,\n",
       "                                             &#x27;Department_HR&#x27;, &#x27;Department_IT&#x27;,\n",
       "                                             &#x27;Department_Operations&#x27;,\n",
       "                                             &#x27;Depa...\n",
       "                 RandomForestClassifier(bootstrap=True, ccp_alpha=0.0,\n",
       "                                        class_weight=None, criterion=&#x27;gini&#x27;,\n",
       "                                        max_depth=None, max_features=&#x27;sqrt&#x27;,\n",
       "                                        max_leaf_nodes=None, max_samples=None,\n",
       "                                        min_impurity_decrease=0.0,\n",
       "                                        min_samples_leaf=1, min_samples_split=2,\n",
       "                                        min_weight_fraction_leaf=0.0,\n",
       "                                        monotonic_cst=None, n_estimators=100,\n",
       "                                        n_jobs=-1, oob_score=False,\n",
       "                                        random_state=42, verbose=0,\n",
       "                                        warm_start=False))],\n",
       "         verbose=False)</pre><b>In a Jupyter environment, please rerun this cell to show the HTML representation or trust the notebook. <br />On GitHub, the HTML representation is unable to render, please try loading this page with nbviewer.org.</b></div><div class=\"sk-container\" hidden><div class=\"sk-item sk-dashed-wrapped\"><div class=\"sk-label-container\"><div class=\"sk-label fitted sk-toggleable\"><input class=\"sk-toggleable__control sk-hidden--visually\" id=\"sk-estimator-id-6\" type=\"checkbox\" ><label for=\"sk-estimator-id-6\" class=\"sk-toggleable__label fitted sk-toggleable__label-arrow fitted\">&nbsp;Pipeline<span class=\"sk-estimator-doc-link fitted\">i<span>Fitted</span></span></label><div class=\"sk-toggleable__content fitted\"><pre>Pipeline(memory=FastMemory(location=C:\\Users\\Oladayo\\AppData\\Local\\Temp\\joblib),\n",
       "         steps=[(&#x27;numerical_imputer&#x27;,\n",
       "                 TransformerWrapper(exclude=None,\n",
       "                                    include=[&#x27;Age&#x27;, &#x27;Gender&#x27;, &#x27;MonthlyIncome&#x27;,\n",
       "                                             &#x27;YearsAtCompany&#x27;, &#x27;OverTime&#x27;,\n",
       "                                             &#x27;JobSatisfaction&#x27;,\n",
       "                                             &#x27;WorkLifeBalance&#x27;,\n",
       "                                             &#x27;TrainingTimesLastYear&#x27;,\n",
       "                                             &#x27;Department_Finance&#x27;,\n",
       "                                             &#x27;Department_HR&#x27;, &#x27;Department_IT&#x27;,\n",
       "                                             &#x27;Department_Operations&#x27;,\n",
       "                                             &#x27;Depa...\n",
       "                 RandomForestClassifier(bootstrap=True, ccp_alpha=0.0,\n",
       "                                        class_weight=None, criterion=&#x27;gini&#x27;,\n",
       "                                        max_depth=None, max_features=&#x27;sqrt&#x27;,\n",
       "                                        max_leaf_nodes=None, max_samples=None,\n",
       "                                        min_impurity_decrease=0.0,\n",
       "                                        min_samples_leaf=1, min_samples_split=2,\n",
       "                                        min_weight_fraction_leaf=0.0,\n",
       "                                        monotonic_cst=None, n_estimators=100,\n",
       "                                        n_jobs=-1, oob_score=False,\n",
       "                                        random_state=42, verbose=0,\n",
       "                                        warm_start=False))],\n",
       "         verbose=False)</pre></div> </div></div><div class=\"sk-serial\"><div class=\"sk-item sk-dashed-wrapped\"><div class=\"sk-label-container\"><div class=\"sk-label fitted sk-toggleable\"><input class=\"sk-toggleable__control sk-hidden--visually\" id=\"sk-estimator-id-7\" type=\"checkbox\" ><label for=\"sk-estimator-id-7\" class=\"sk-toggleable__label fitted sk-toggleable__label-arrow fitted\">numerical_imputer: TransformerWrapper</label><div class=\"sk-toggleable__content fitted\"><pre>TransformerWrapper(exclude=None,\n",
       "                   include=[&#x27;Age&#x27;, &#x27;Gender&#x27;, &#x27;MonthlyIncome&#x27;, &#x27;YearsAtCompany&#x27;,\n",
       "                            &#x27;OverTime&#x27;, &#x27;JobSatisfaction&#x27;, &#x27;WorkLifeBalance&#x27;,\n",
       "                            &#x27;TrainingTimesLastYear&#x27;, &#x27;Department_Finance&#x27;,\n",
       "                            &#x27;Department_HR&#x27;, &#x27;Department_IT&#x27;,\n",
       "                            &#x27;Department_Operations&#x27;, &#x27;Department_Sales&#x27;],\n",
       "                   transformer=SimpleImputer(add_indicator=False, copy=True,\n",
       "                                             fill_value=None,\n",
       "                                             keep_empty_features=False,\n",
       "                                             missing_values=nan,\n",
       "                                             strategy=&#x27;mean&#x27;))</pre></div> </div></div><div class=\"sk-parallel\"><div class=\"sk-parallel-item\"><div class=\"sk-item\"><div class=\"sk-label-container\"><div class=\"sk-label fitted sk-toggleable\"><input class=\"sk-toggleable__control sk-hidden--visually\" id=\"sk-estimator-id-8\" type=\"checkbox\" ><label for=\"sk-estimator-id-8\" class=\"sk-toggleable__label fitted sk-toggleable__label-arrow fitted\">transformer: SimpleImputer</label><div class=\"sk-toggleable__content fitted\"><pre>SimpleImputer()</pre></div> </div></div><div class=\"sk-serial\"><div class=\"sk-item\"><div class=\"sk-estimator fitted sk-toggleable\"><input class=\"sk-toggleable__control sk-hidden--visually\" id=\"sk-estimator-id-9\" type=\"checkbox\" ><label for=\"sk-estimator-id-9\" class=\"sk-toggleable__label fitted sk-toggleable__label-arrow fitted\">&nbsp;SimpleImputer<a class=\"sk-estimator-doc-link fitted\" rel=\"noreferrer\" target=\"_blank\" href=\"https://scikit-learn.org/1.4/modules/generated/sklearn.impute.SimpleImputer.html\">?<span>Documentation for SimpleImputer</span></a></label><div class=\"sk-toggleable__content fitted\"><pre>SimpleImputer()</pre></div> </div></div></div></div></div></div></div><div class=\"sk-item sk-dashed-wrapped\"><div class=\"sk-label-container\"><div class=\"sk-label fitted sk-toggleable\"><input class=\"sk-toggleable__control sk-hidden--visually\" id=\"sk-estimator-id-10\" type=\"checkbox\" ><label for=\"sk-estimator-id-10\" class=\"sk-toggleable__label fitted sk-toggleable__label-arrow fitted\">categorical_imputer: TransformerWrapper</label><div class=\"sk-toggleable__content fitted\"><pre>TransformerWrapper(exclude=None, include=[],\n",
       "                   transformer=SimpleImputer(add_indicator=False, copy=True,\n",
       "                                             fill_value=None,\n",
       "                                             keep_empty_features=False,\n",
       "                                             missing_values=nan,\n",
       "                                             strategy=&#x27;most_frequent&#x27;))</pre></div> </div></div><div class=\"sk-parallel\"><div class=\"sk-parallel-item\"><div class=\"sk-item\"><div class=\"sk-label-container\"><div class=\"sk-label fitted sk-toggleable\"><input class=\"sk-toggleable__control sk-hidden--visually\" id=\"sk-estimator-id-11\" type=\"checkbox\" ><label for=\"sk-estimator-id-11\" class=\"sk-toggleable__label fitted sk-toggleable__label-arrow fitted\">transformer: SimpleImputer</label><div class=\"sk-toggleable__content fitted\"><pre>SimpleImputer(strategy=&#x27;most_frequent&#x27;)</pre></div> </div></div><div class=\"sk-serial\"><div class=\"sk-item\"><div class=\"sk-estimator fitted sk-toggleable\"><input class=\"sk-toggleable__control sk-hidden--visually\" id=\"sk-estimator-id-12\" type=\"checkbox\" ><label for=\"sk-estimator-id-12\" class=\"sk-toggleable__label fitted sk-toggleable__label-arrow fitted\">&nbsp;SimpleImputer<a class=\"sk-estimator-doc-link fitted\" rel=\"noreferrer\" target=\"_blank\" href=\"https://scikit-learn.org/1.4/modules/generated/sklearn.impute.SimpleImputer.html\">?<span>Documentation for SimpleImputer</span></a></label><div class=\"sk-toggleable__content fitted\"><pre>SimpleImputer(strategy=&#x27;most_frequent&#x27;)</pre></div> </div></div></div></div></div></div></div><div class=\"sk-item sk-dashed-wrapped\"><div class=\"sk-label-container\"><div class=\"sk-label fitted sk-toggleable\"><input class=\"sk-toggleable__control sk-hidden--visually\" id=\"sk-estimator-id-13\" type=\"checkbox\" ><label for=\"sk-estimator-id-13\" class=\"sk-toggleable__label fitted sk-toggleable__label-arrow fitted\">normalize: TransformerWrapper</label><div class=\"sk-toggleable__content fitted\"><pre>TransformerWrapper(exclude=None, include=None,\n",
       "                   transformer=StandardScaler(copy=True, with_mean=True,\n",
       "                                              with_std=True))</pre></div> </div></div><div class=\"sk-parallel\"><div class=\"sk-parallel-item\"><div class=\"sk-item\"><div class=\"sk-label-container\"><div class=\"sk-label fitted sk-toggleable\"><input class=\"sk-toggleable__control sk-hidden--visually\" id=\"sk-estimator-id-14\" type=\"checkbox\" ><label for=\"sk-estimator-id-14\" class=\"sk-toggleable__label fitted sk-toggleable__label-arrow fitted\">transformer: StandardScaler</label><div class=\"sk-toggleable__content fitted\"><pre>StandardScaler()</pre></div> </div></div><div class=\"sk-serial\"><div class=\"sk-item\"><div class=\"sk-estimator fitted sk-toggleable\"><input class=\"sk-toggleable__control sk-hidden--visually\" id=\"sk-estimator-id-15\" type=\"checkbox\" ><label for=\"sk-estimator-id-15\" class=\"sk-toggleable__label fitted sk-toggleable__label-arrow fitted\">&nbsp;StandardScaler<a class=\"sk-estimator-doc-link fitted\" rel=\"noreferrer\" target=\"_blank\" href=\"https://scikit-learn.org/1.4/modules/generated/sklearn.preprocessing.StandardScaler.html\">?<span>Documentation for StandardScaler</span></a></label><div class=\"sk-toggleable__content fitted\"><pre>StandardScaler()</pre></div> </div></div></div></div></div></div></div><div class=\"sk-item\"><div class=\"sk-estimator fitted sk-toggleable\"><input class=\"sk-toggleable__control sk-hidden--visually\" id=\"sk-estimator-id-16\" type=\"checkbox\" ><label for=\"sk-estimator-id-16\" class=\"sk-toggleable__label fitted sk-toggleable__label-arrow fitted\">&nbsp;RandomForestClassifier<a class=\"sk-estimator-doc-link fitted\" rel=\"noreferrer\" target=\"_blank\" href=\"https://scikit-learn.org/1.4/modules/generated/sklearn.ensemble.RandomForestClassifier.html\">?<span>Documentation for RandomForestClassifier</span></a></label><div class=\"sk-toggleable__content fitted\"><pre>RandomForestClassifier(n_jobs=-1, random_state=42)</pre></div> </div></div></div></div></div></div>"
      ],
      "text/plain": [
       "Pipeline(memory=FastMemory(location=C:\\Users\\Oladayo\\AppData\\Local\\Temp\\joblib),\n",
       "         steps=[('numerical_imputer',\n",
       "                 TransformerWrapper(exclude=None,\n",
       "                                    include=['Age', 'Gender', 'MonthlyIncome',\n",
       "                                             'YearsAtCompany', 'OverTime',\n",
       "                                             'JobSatisfaction',\n",
       "                                             'WorkLifeBalance',\n",
       "                                             'TrainingTimesLastYear',\n",
       "                                             'Department_Finance',\n",
       "                                             'Department_HR', 'Department_IT',\n",
       "                                             'Department_Operations',\n",
       "                                             'Depa...\n",
       "                 RandomForestClassifier(bootstrap=True, ccp_alpha=0.0,\n",
       "                                        class_weight=None, criterion='gini',\n",
       "                                        max_depth=None, max_features='sqrt',\n",
       "                                        max_leaf_nodes=None, max_samples=None,\n",
       "                                        min_impurity_decrease=0.0,\n",
       "                                        min_samples_leaf=1, min_samples_split=2,\n",
       "                                        min_weight_fraction_leaf=0.0,\n",
       "                                        monotonic_cst=None, n_estimators=100,\n",
       "                                        n_jobs=-1, oob_score=False,\n",
       "                                        random_state=42, verbose=0,\n",
       "                                        warm_start=False))],\n",
       "         verbose=False)"
      ]
     },
     "execution_count": 108,
     "metadata": {},
     "output_type": "execute_result"
    }
   ],
   "source": [
    "loaded_model"
   ]
  },
  {
   "cell_type": "code",
   "execution_count": 109,
   "id": "d7ce9a00-a475-43af-ad30-64807d30bed7",
   "metadata": {},
   "outputs": [
    {
     "data": {
      "text/plain": [
       "array([0, 0, 0, ..., 0, 0, 1], dtype=int8)"
      ]
     },
     "execution_count": 109,
     "metadata": {},
     "output_type": "execute_result"
    }
   ],
   "source": [
    "loaded_model.predict(X)"
   ]
  },
  {
   "cell_type": "code",
   "execution_count": null,
   "id": "15439229-dc8b-45f4-b6b4-a88faa8b0a02",
   "metadata": {},
   "outputs": [],
   "source": []
  }
 ],
 "metadata": {
  "kernelspec": {
   "display_name": "Python [conda env:pycaret-env]",
   "language": "python",
   "name": "conda-env-pycaret-env-py"
  },
  "language_info": {
   "codemirror_mode": {
    "name": "ipython",
    "version": 3
   },
   "file_extension": ".py",
   "mimetype": "text/x-python",
   "name": "python",
   "nbconvert_exporter": "python",
   "pygments_lexer": "ipython3",
   "version": "3.10.18"
  }
 },
 "nbformat": 4,
 "nbformat_minor": 5
}
